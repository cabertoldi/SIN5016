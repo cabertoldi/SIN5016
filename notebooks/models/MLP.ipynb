{
 "cells": [
  {
   "cell_type": "code",
   "execution_count": 18,
   "id": "177d63f8",
   "metadata": {},
   "outputs": [],
   "source": [
    "import numpy as np\n",
    "import pandas as pd\n",
    "import warnings\n",
    "\n",
    "#suppress warnings\n",
    "warnings.filterwarnings('ignore')"
   ]
  },
  {
   "cell_type": "code",
   "execution_count": 19,
   "id": "b3afd68a",
   "metadata": {},
   "outputs": [],
   "source": [
    "np.random.seed(42)"
   ]
  },
  {
   "cell_type": "code",
   "execution_count": 20,
   "id": "0b655597",
   "metadata": {},
   "outputs": [],
   "source": [
    "import matplotlib.pyplot as plot"
   ]
  },
  {
   "cell_type": "code",
   "execution_count": 28,
   "id": "7d156944-ccb9-439f-8ab2-c97e82ed7e86",
   "metadata": {},
   "outputs": [],
   "source": [
    "from sklearn.metrics import classification_report\n",
    "from sklearn.model_selection import ShuffleSplit, train_test_split\n",
    "from sklearn.preprocessing import StandardScaler"
   ]
  },
  {
   "cell_type": "markdown",
   "id": "30f269e0-1bec-492f-a1b1-a5db52beaade",
   "metadata": {},
   "source": [
    "# Implemetação"
   ]
  },
  {
   "cell_type": "markdown",
   "id": "44391d74-fb82-40e1-8f1f-7243a72b6cdf",
   "metadata": {},
   "source": [
    "Definição de códigos."
   ]
  },
  {
   "cell_type": "markdown",
   "id": "a29942c0",
   "metadata": {},
   "source": [
    "## Rede Neural"
   ]
  },
  {
   "cell_type": "markdown",
   "id": "21f4a532-bfaa-4186-8354-e28d6d0925aa",
   "metadata": {},
   "source": [
    "MLP com uma camada escondida, utilzando gradiente conjugado para aproximação da hessiana e taxa de aprendizado dinâmica com bisseção."
   ]
  },
  {
   "cell_type": "code",
   "execution_count": 59,
   "id": "41589fcc",
   "metadata": {},
   "outputs": [],
   "source": [
    "def train(X_train, y_train, X_valid, y_valid, hidden_layers, ns, dataset='k-fold'):\n",
    "  N, ne = X_train.shape\n",
    "  N_valid, _ = X_valid.shape\n",
    "\n",
    "  # weights\n",
    "  A = np.random.rand(hidden_layers, ne + 1)/5\n",
    "  B = np.random.rand(ns, hidden_layers + 1)/5\n",
    "\n",
    "  X_train = np.hstack([X_train, np.ones((N, 1))])\n",
    "  X_valid = np.hstack([X_valid, np.ones((N_valid, 1))])\n",
    "\n",
    "  errors_train = []\n",
    "  errors_valid = []\n",
    "  errors_min = []\n",
    "\n",
    "  # output\n",
    "  y = calculate_output(X_train, A, B, N)\n",
    "  error = y - y_train\n",
    "  square_error_train = 1/N * sum(error * error)\n",
    "  errors_train.append(square_error_train)\n",
    "  \n",
    "  y = calculate_output(X_valid, A, B, N_valid)\n",
    "  error = y - y_valid\n",
    "  square_error_valid = 1/N_valid * sum(error * error)\n",
    "  errors_valid.append(square_error_valid)\n",
    "  \n",
    "  min_error = square_error_valid\n",
    "  best_A = A\n",
    "  best_B = B\n",
    "\n",
    "  epoch = 0\n",
    "  max_epoch = 5000\n",
    "    \n",
    "  f = open(f\"MLP/{dataset}/error.txt\",\"a+\")\n",
    "  f.write(f\"epoch: {epoch}, train: {square_error_train}, valid: {square_error_valid}\\n\")\n",
    "  while square_error_train > 1e-3 and epoch < max_epoch:\n",
    "    epoch = epoch + 1\n",
    "\n",
    "    dJdA_current, dJdB_current = calculate_gradient(X_train, y_train, A, B, N)\n",
    "\n",
    "    if epoch == 1:\n",
    "      dJdA = dJdA_current\n",
    "      dJdB = dJdB_current\n",
    "      dJdA_old = dJdA_current\n",
    "      dJdB_old = dJdB_current\n",
    "    else:\n",
    "      dJdA, dJdB = direction_conjugate(A, B, dJdA_current, dJdB_current, dJdA_old, dJdB_old, X_train, y_train, N, epoch)\n",
    "      dJdA_old = dJdA_current\n",
    "      dJdB_old = dJdB_current\n",
    "\n",
    "    alpha = bisection(dJdA, dJdB, dJdA_current, dJdB_current, A, B, X_train, y_train, N, epoch)\n",
    "\n",
    "    A = A - alpha*dJdA;\n",
    "    B = B - alpha*dJdB;\n",
    "\n",
    "    y = calculate_output(X_train, A, B, N)\n",
    "    error = y - y_train\n",
    "    square_error_train = 1/N * sum(error * error)\n",
    "    errors_train.append(square_error_train)\n",
    "\n",
    "    y = calculate_output(X_valid, A, B, N_valid)\n",
    "    error = y - y_valid\n",
    "    square_error_valid = 1/N_valid * sum(error * error)\n",
    "    errors_valid.append(square_error_valid)\n",
    "    \n",
    "    if square_error_valid < min_error:\n",
    "      best_A = A\n",
    "      best_B = B\n",
    "\n",
    "      min_error = square_error_valid\n",
    "      errors_min.append(square_error_valid)\n",
    "\n",
    "    f.write(f\"epoch: {epoch}, train: {square_error_train}, valid: {square_error_valid}\\n\")\n",
    "    \n",
    "  f.close()\n",
    "\n",
    "  plot.plot(errors_train, 'r', errors_valid, 'g', errors_min, 'b')\n",
    "\n",
    "  return best_A, best_B, min_error"
   ]
  },
  {
   "cell_type": "code",
   "execution_count": 41,
   "id": "ed2246a3",
   "metadata": {},
   "outputs": [],
   "source": [
    "def calculate_output(X, A, B, N):\n",
    "  Zin = np.matmul(X, A.T)\n",
    "  Z = g(Zin)\n",
    "  Zb = np.hstack([Z, np.ones((N, 1))])\n",
    "\n",
    "  Yin = np.matmul(Zb, B.T)\n",
    "  Y = g(Yin)\n",
    "\n",
    "  return Y.flatten()"
   ]
  },
  {
   "cell_type": "code",
   "execution_count": 42,
   "id": "6fe85306",
   "metadata": {},
   "outputs": [],
   "source": [
    "def calculate_gradient(X, Yd, A, B, N):  \n",
    "  Zin = np.matmul(X, A.T)\n",
    "  Z = g(Zin)\n",
    "\n",
    "  Zb = np.hstack([Z, np.ones((N, 1))])\n",
    "\n",
    "  Yin = np.matmul(Zb, B.T)\n",
    "  Y = g(Yin)\n",
    "  Y = Y.flatten()\n",
    "\n",
    "  error = Y - Yd\n",
    "\n",
    "  # g() and f() derivatives \n",
    "  gl = (1-Y) * Y\n",
    "  fl = (1-Z) * Z\n",
    "\n",
    "  dJdB = 1/N * np.matmul((error * gl).T, Zb)\n",
    "  \n",
    "  # error\n",
    "  error_gl = error * gl\n",
    "\n",
    "  dJdZ = np.matmul(error_gl.reshape(-1, 1), B[:,:-1])\n",
    "  dJdA = 1/N * np.matmul((dJdZ*fl).T, X)\n",
    "\n",
    "  return dJdA, dJdB"
   ]
  },
  {
   "cell_type": "code",
   "execution_count": 43,
   "id": "69060603",
   "metadata": {},
   "outputs": [],
   "source": [
    "def direction_conjugate(A, B, gradA, gradB, gradA_old, gradB_old, X, Yd, N, it):\n",
    "  g0 = np.concatenate((-gradA_old.flatten(), -gradB_old.flatten()))\n",
    "  gi = np.concatenate((gradA.flatten(), gradB.flatten()))\n",
    "\n",
    "  if (it % 2) != 0:\n",
    "    beta = np.divide(np.matmul(gi.flatten().T, (gi.flatten()-g0.flatten())), np.matmul(g0.flatten().T, g0.flatten()))\n",
    "    if beta < 0:\n",
    "      beta = np.divide(np.linalg.norm(gi.flatten()), np.linalg.norm(g0.flatten())**2)\n",
    "\n",
    "    dJdA = gradA - beta * gradA_old\n",
    "    dJdB = gradB - beta * gradB_old\n",
    "  else:\n",
    "    dJdA = gradA\n",
    "    dJdB = gradB\n",
    "\n",
    "  return dJdA, dJdB"
   ]
  },
  {
   "cell_type": "code",
   "execution_count": 44,
   "id": "e35ff445",
   "metadata": {},
   "outputs": [],
   "source": [
    "def g(Zin):\n",
    "  return 1/(1 + np.exp(-Zin))"
   ]
  },
  {
   "cell_type": "code",
   "execution_count": 45,
   "id": "4dccf78f",
   "metadata": {},
   "outputs": [],
   "source": [
    "def bisection(dJdA, dJdB, dJdA_current, dJdB_current, A, B, X, Yd, N, epoch):\n",
    "    def alpha_gen():\n",
    "      alpha_g = np.random.random()\n",
    "      while h_l(alpha_g, dJdA, dJdB, dJdA_current, dJdB_current, A, B, X, Yd, N, epoch) < 0:\n",
    "        alpha_g = alpha_g * 2\n",
    "\n",
    "      return alpha_g\n",
    "\n",
    "    alpha_l = 0\n",
    "    alpha_u = alpha_gen()\n",
    "    alpha = (alpha_l + alpha_u) / 2\n",
    "\n",
    "    hl = h_l(alpha, dJdA, dJdB, dJdA_current, dJdB_current, A, B, X, Yd, N, epoch)\n",
    "\n",
    "    it = 0\n",
    "    it_max = int(np.ceil(np.log(alpha_u - alpha_l) - np.log(1e-5))/np.log(2))\n",
    "    while it < it_max:\n",
    "        it += 1\n",
    "        \n",
    "        if hl > 0:\n",
    "            alpha_u = alpha\n",
    "        elif hl < 0:\n",
    "            alpha_l = alpha\n",
    "        elif hl == 0:\n",
    "          return alpha\n",
    "\n",
    "        alpha = (alpha_l + alpha_u) / 2\n",
    "        hl = h_l(alpha, dJdA, dJdB, dJdA_current, dJdB_current, A, B, X, Yd, N, epoch)\n",
    "\n",
    "    return alpha"
   ]
  },
  {
   "cell_type": "code",
   "execution_count": 46,
   "id": "36088bf5",
   "metadata": {},
   "outputs": [],
   "source": [
    "def h_l(alpha, dJdA, dJdB, dJdA_current, dJdB_current, A, B, X, Yd, N, epoch):\n",
    "  An = A - alpha * dJdA;\n",
    "  Bn = B - alpha * dJdB;\n",
    "\n",
    "  gradAn, gradBn = calculate_gradient(X, Yd, An, Bn, N)\n",
    "  dJdAn, dJdBn = direction_conjugate(A, B, gradAn, gradBn, dJdA_current, dJdB_current, X, Yd, N, epoch)\n",
    "  \n",
    "  grad = np.concatenate((dJdA.flatten(), dJdB.flatten()))\n",
    "  grad_alpha = np.concatenate((dJdAn.flatten(), dJdBn.flatten()))\n",
    "\n",
    "  return np.dot(grad_alpha.T.flatten(), -grad.flatten())"
   ]
  },
  {
   "cell_type": "markdown",
   "id": "081b1304",
   "metadata": {},
   "source": [
    "## Treinamento"
   ]
  },
  {
   "cell_type": "markdown",
   "id": "1dc4bd10-d525-424f-b9ac-35b46f3585bc",
   "metadata": {},
   "source": [
    "Definição de código para seleção do número de neurônios atráves de validação com 5 folds."
   ]
  },
  {
   "cell_type": "code",
   "execution_count": 77,
   "id": "39bcbea5",
   "metadata": {},
   "outputs": [],
   "source": [
    "def best_params(X, y, hidden_layers, ns):\n",
    "  rs = ShuffleSplit(n_splits=5, test_size=.20, random_state=42)\n",
    "\n",
    "  errors = []\n",
    "  for train_index, valid_index in rs.split(X, y):\n",
    "    df_train_x = np.array([X[idx] for idx in train_index])\n",
    "    df_train_y = np.array([y[idx] for idx in train_index])\n",
    "\n",
    "    df_valid_x = np.array([X[idx] for idx in valid_index])\n",
    "    df_valid_y = np.array([y[idx] for idx in valid_index])\n",
    "\n",
    "    A, B, error_valid = train(df_train_x, df_train_y, df_valid_x, df_valid_y, hidden_layers, ns)\n",
    "    print(\"VALID:\", error_valid)\n",
    "\n",
    "    errors.append(error_valid)\n",
    "\n",
    "  return np.mean(errors)"
   ]
  },
  {
   "cell_type": "code",
   "execution_count": 2,
   "id": "84fcab98",
   "metadata": {},
   "outputs": [],
   "source": [
    "def select_params(X, y, ns):\n",
    "    params = [1, 5, 10, 15, 20, 25, 50, 100]\n",
    "    errors = {}\n",
    "    \n",
    "    for param in params:\n",
    "        error = best_params(X, y, param, ns)\n",
    "        errors[error] = param\n",
    "\n",
    "        print(\"PARAM:\", param, \"ERROR:\", error)\n",
    "  \n",
    "    min_error = min(errors.keys())\n",
    "    return errors[min_error]"
   ]
  },
  {
   "cell_type": "markdown",
   "id": "440c1b73-feff-4027-8c6c-c99afa6a9962",
   "metadata": {},
   "source": [
    "## Teste"
   ]
  },
  {
   "cell_type": "code",
   "execution_count": 47,
   "id": "a01b8f82",
   "metadata": {},
   "outputs": [],
   "source": [
    "def neural_network_test(X, A, B):\n",
    "  N, ne = X.shape\n",
    "  X = np.hstack([X, np.ones((N, 1))])\n",
    "\n",
    "  return calculate_output(X, A, B, N)"
   ]
  },
  {
   "cell_type": "code",
   "execution_count": 48,
   "id": "228ea404",
   "metadata": {},
   "outputs": [],
   "source": [
    "def test(X, Yd, A, B):\n",
    "  N, _ = X.shape\n",
    "\n",
    "  Y = neural_network_test(X, A, B)\n",
    "  error = Y - Yd\n",
    "\n",
    "  square_error = 1/N * sum(error * error)\n",
    "  return square_error"
   ]
  },
  {
   "cell_type": "markdown",
   "id": "349d30de-147e-4daa-a581-dd5c3787ba97",
   "metadata": {},
   "source": [
    "# Execução"
   ]
  },
  {
   "cell_type": "markdown",
   "id": "21440254-57e9-4689-86c7-63443f4f4ce0",
   "metadata": {},
   "source": [
    "Aplicação dos modelos para datasets."
   ]
  },
  {
   "cell_type": "markdown",
   "id": "c6ec4cb3",
   "metadata": {},
   "source": [
    "## HOG"
   ]
  },
  {
   "cell_type": "code",
   "execution_count": 22,
   "id": "5e9b328e",
   "metadata": {},
   "outputs": [],
   "source": [
    "df = pd.read_parquet(r'../../data/preprocessed/feature_matrix_hog.parquet')"
   ]
  },
  {
   "cell_type": "code",
   "execution_count": 23,
   "id": "30bf4cf2",
   "metadata": {},
   "outputs": [
    {
     "data": {
      "text/html": [
       "<div>\n",
       "<style scoped>\n",
       "    .dataframe tbody tr th:only-of-type {\n",
       "        vertical-align: middle;\n",
       "    }\n",
       "\n",
       "    .dataframe tbody tr th {\n",
       "        vertical-align: top;\n",
       "    }\n",
       "\n",
       "    .dataframe thead th {\n",
       "        text-align: right;\n",
       "    }\n",
       "</style>\n",
       "<table border=\"1\" class=\"dataframe\">\n",
       "  <thead>\n",
       "    <tr style=\"text-align: right;\">\n",
       "      <th></th>\n",
       "      <th>0</th>\n",
       "      <th>1</th>\n",
       "      <th>2</th>\n",
       "      <th>3</th>\n",
       "      <th>4</th>\n",
       "      <th>5</th>\n",
       "      <th>6</th>\n",
       "      <th>7</th>\n",
       "      <th>8</th>\n",
       "      <th>9</th>\n",
       "      <th>...</th>\n",
       "      <th>51</th>\n",
       "      <th>52</th>\n",
       "      <th>53</th>\n",
       "      <th>54</th>\n",
       "      <th>55</th>\n",
       "      <th>56</th>\n",
       "      <th>57</th>\n",
       "      <th>58</th>\n",
       "      <th>59</th>\n",
       "      <th>match</th>\n",
       "    </tr>\n",
       "  </thead>\n",
       "  <tbody>\n",
       "    <tr>\n",
       "      <th>0</th>\n",
       "      <td>2.306814</td>\n",
       "      <td>3.954538</td>\n",
       "      <td>3.624993</td>\n",
       "      <td>3.460221</td>\n",
       "      <td>2.636359</td>\n",
       "      <td>3.130676</td>\n",
       "      <td>2.636359</td>\n",
       "      <td>2.306814</td>\n",
       "      <td>1.647724</td>\n",
       "      <td>2.636359</td>\n",
       "      <td>...</td>\n",
       "      <td>0.295641</td>\n",
       "      <td>0.000000</td>\n",
       "      <td>0.295641</td>\n",
       "      <td>0.000000</td>\n",
       "      <td>0.000000</td>\n",
       "      <td>0.147820</td>\n",
       "      <td>0.000000</td>\n",
       "      <td>0.000000</td>\n",
       "      <td>0.147820</td>\n",
       "      <td>True</td>\n",
       "    </tr>\n",
       "    <tr>\n",
       "      <th>1</th>\n",
       "      <td>2.193303</td>\n",
       "      <td>2.976625</td>\n",
       "      <td>3.759947</td>\n",
       "      <td>3.603283</td>\n",
       "      <td>4.073276</td>\n",
       "      <td>4.073276</td>\n",
       "      <td>1.253316</td>\n",
       "      <td>1.409980</td>\n",
       "      <td>2.349967</td>\n",
       "      <td>0.939987</td>\n",
       "      <td>...</td>\n",
       "      <td>0.500357</td>\n",
       "      <td>0.333572</td>\n",
       "      <td>0.333572</td>\n",
       "      <td>0.000000</td>\n",
       "      <td>0.333572</td>\n",
       "      <td>0.000000</td>\n",
       "      <td>0.500357</td>\n",
       "      <td>0.000000</td>\n",
       "      <td>0.166786</td>\n",
       "      <td>True</td>\n",
       "    </tr>\n",
       "    <tr>\n",
       "      <th>2</th>\n",
       "      <td>3.875630</td>\n",
       "      <td>3.720604</td>\n",
       "      <td>3.100504</td>\n",
       "      <td>3.410554</td>\n",
       "      <td>3.100504</td>\n",
       "      <td>4.030655</td>\n",
       "      <td>1.860302</td>\n",
       "      <td>1.860302</td>\n",
       "      <td>1.550252</td>\n",
       "      <td>1.395227</td>\n",
       "      <td>...</td>\n",
       "      <td>0.482976</td>\n",
       "      <td>0.160992</td>\n",
       "      <td>0.321984</td>\n",
       "      <td>0.160992</td>\n",
       "      <td>0.321984</td>\n",
       "      <td>0.160992</td>\n",
       "      <td>0.160992</td>\n",
       "      <td>0.160992</td>\n",
       "      <td>0.160992</td>\n",
       "      <td>True</td>\n",
       "    </tr>\n",
       "    <tr>\n",
       "      <th>3</th>\n",
       "      <td>4.624305</td>\n",
       "      <td>3.545300</td>\n",
       "      <td>3.545300</td>\n",
       "      <td>2.466296</td>\n",
       "      <td>3.391157</td>\n",
       "      <td>2.928726</td>\n",
       "      <td>1.849722</td>\n",
       "      <td>2.158009</td>\n",
       "      <td>1.387291</td>\n",
       "      <td>1.695578</td>\n",
       "      <td>...</td>\n",
       "      <td>0.132290</td>\n",
       "      <td>0.132290</td>\n",
       "      <td>0.132290</td>\n",
       "      <td>0.000000</td>\n",
       "      <td>0.000000</td>\n",
       "      <td>0.000000</td>\n",
       "      <td>0.132290</td>\n",
       "      <td>0.000000</td>\n",
       "      <td>0.132290</td>\n",
       "      <td>True</td>\n",
       "    </tr>\n",
       "    <tr>\n",
       "      <th>4</th>\n",
       "      <td>2.934841</td>\n",
       "      <td>4.255520</td>\n",
       "      <td>4.549004</td>\n",
       "      <td>3.962035</td>\n",
       "      <td>3.521809</td>\n",
       "      <td>1.614163</td>\n",
       "      <td>1.614163</td>\n",
       "      <td>1.467421</td>\n",
       "      <td>0.733710</td>\n",
       "      <td>1.173936</td>\n",
       "      <td>...</td>\n",
       "      <td>0.501895</td>\n",
       "      <td>0.167298</td>\n",
       "      <td>0.167298</td>\n",
       "      <td>0.334597</td>\n",
       "      <td>0.167298</td>\n",
       "      <td>0.167298</td>\n",
       "      <td>0.000000</td>\n",
       "      <td>0.000000</td>\n",
       "      <td>0.334597</td>\n",
       "      <td>True</td>\n",
       "    </tr>\n",
       "  </tbody>\n",
       "</table>\n",
       "<p>5 rows × 61 columns</p>\n",
       "</div>"
      ],
      "text/plain": [
       "          0         1         2         3         4         5         6  \\\n",
       "0  2.306814  3.954538  3.624993  3.460221  2.636359  3.130676  2.636359   \n",
       "1  2.193303  2.976625  3.759947  3.603283  4.073276  4.073276  1.253316   \n",
       "2  3.875630  3.720604  3.100504  3.410554  3.100504  4.030655  1.860302   \n",
       "3  4.624305  3.545300  3.545300  2.466296  3.391157  2.928726  1.849722   \n",
       "4  2.934841  4.255520  4.549004  3.962035  3.521809  1.614163  1.614163   \n",
       "\n",
       "          7         8         9  ...        51        52        53        54  \\\n",
       "0  2.306814  1.647724  2.636359  ...  0.295641  0.000000  0.295641  0.000000   \n",
       "1  1.409980  2.349967  0.939987  ...  0.500357  0.333572  0.333572  0.000000   \n",
       "2  1.860302  1.550252  1.395227  ...  0.482976  0.160992  0.321984  0.160992   \n",
       "3  2.158009  1.387291  1.695578  ...  0.132290  0.132290  0.132290  0.000000   \n",
       "4  1.467421  0.733710  1.173936  ...  0.501895  0.167298  0.167298  0.334597   \n",
       "\n",
       "         55        56        57        58        59  match  \n",
       "0  0.000000  0.147820  0.000000  0.000000  0.147820   True  \n",
       "1  0.333572  0.000000  0.500357  0.000000  0.166786   True  \n",
       "2  0.321984  0.160992  0.160992  0.160992  0.160992   True  \n",
       "3  0.000000  0.000000  0.132290  0.000000  0.132290   True  \n",
       "4  0.167298  0.167298  0.000000  0.000000  0.334597   True  \n",
       "\n",
       "[5 rows x 61 columns]"
      ]
     },
     "execution_count": 23,
     "metadata": {},
     "output_type": "execute_result"
    }
   ],
   "source": [
    "df.head()"
   ]
  },
  {
   "cell_type": "code",
   "execution_count": 24,
   "id": "018070fc",
   "metadata": {},
   "outputs": [],
   "source": [
    "X = df.iloc[:, 1:-1].values\n",
    "y = df.iloc[:, -1].values"
   ]
  },
  {
   "cell_type": "code",
   "execution_count": 170,
   "id": "95d5d4e4",
   "metadata": {},
   "outputs": [
    {
     "data": {
      "text/plain": [
       "(3197, 59)"
      ]
     },
     "execution_count": 170,
     "metadata": {},
     "output_type": "execute_result"
    }
   ],
   "source": [
    "X.shape"
   ]
  },
  {
   "cell_type": "code",
   "execution_count": 25,
   "id": "74c799ad-fa64-4050-a058-6d540385df54",
   "metadata": {},
   "outputs": [],
   "source": [
    "y = [int(tag is True) for tag in y]"
   ]
  },
  {
   "cell_type": "code",
   "execution_count": 26,
   "id": "0f731407-2a48-4ded-ab55-2e28c773eb3a",
   "metadata": {},
   "outputs": [],
   "source": [
    "y = np.array(y)"
   ]
  },
  {
   "cell_type": "markdown",
   "id": "7b6b29e9-8d57-4633-ac6d-2c1eb187efa6",
   "metadata": {},
   "source": [
    "Separando dados de treino e teste."
   ]
  },
  {
   "cell_type": "code",
   "execution_count": 29,
   "id": "3ca5aabb",
   "metadata": {},
   "outputs": [],
   "source": [
    "X_train, X_test, y_train, y_test = train_test_split(X, y, test_size=0.30, random_state=42)"
   ]
  },
  {
   "cell_type": "code",
   "execution_count": 30,
   "id": "5a53ed36-4498-4824-8e15-4520fa7d5163",
   "metadata": {
    "tags": []
   },
   "outputs": [],
   "source": [
    "X_train, X_valid, y_train, y_valid = train_test_split(X_train, y_train, test_size=0.20, random_state=42)"
   ]
  },
  {
   "cell_type": "markdown",
   "id": "cea9e416-9bf9-493b-8013-99abf7ceff78",
   "metadata": {},
   "source": [
    "Utilizando apenas dados de treino para seleção do número de neurônios para treinamneto final."
   ]
  },
  {
   "cell_type": "code",
   "execution_count": 175,
   "id": "3a8dc3ea",
   "metadata": {},
   "outputs": [
    {
     "name": "stdout",
     "output_type": "stream",
     "text": [
      "VALID: 0.24738596015690661\n",
      "VALID: 0.24952584093069244\n",
      "VALID: 0.24819771759708895\n",
      "VALID: 0.24635380133412868\n",
      "VALID: 0.24255486364836953\n",
      "PARAM: 1 ERROR: 0.24680363673343725\n",
      "VALID: 0.24955468807955075\n",
      "VALID: 0.24857278653827633\n",
      "VALID: 0.250059749195003\n",
      "VALID: 0.2455295591414425\n",
      "VALID: 0.24459885865017456\n",
      "PARAM: 5 ERROR: 0.24766312832088944\n",
      "VALID: 0.24921259433919468\n",
      "VALID: 0.2486806663354564\n",
      "VALID: 0.24851556198977848\n",
      "VALID: 0.24596162503710545\n",
      "VALID: 0.2433187595237717\n",
      "PARAM: 10 ERROR: 0.2471378414450614\n",
      "VALID: 0.24725934173441874\n",
      "VALID: 0.24802768836447864\n",
      "VALID: 0.25004379271920585\n",
      "VALID: 0.24601907405254714\n",
      "VALID: 0.23400266183482332\n",
      "PARAM: 15 ERROR: 0.2450705117410948\n",
      "VALID: 0.24854253536418297\n",
      "VALID: 0.24893939053923878\n",
      "VALID: 0.2500369346646005\n",
      "VALID: 0.245880956752189\n",
      "VALID: 0.24495628295961655\n",
      "PARAM: 20 ERROR: 0.24767122005596556\n",
      "VALID: 0.2466647476859393\n",
      "VALID: 0.24941810550897933\n",
      "VALID: 0.24874893631349737\n",
      "VALID: 0.24360031128102372\n",
      "VALID: 0.24421863348618203\n",
      "PARAM: 25 ERROR: 0.24653014685512434\n",
      "VALID: 0.24845555771719255\n",
      "VALID: 0.24902516984914608\n",
      "VALID: 0.24804951345227033\n",
      "VALID: 0.24524412984999105\n",
      "VALID: 0.24462024778455682\n",
      "PARAM: 50 ERROR: 0.2470789237306314\n",
      "VALID: 0.24778943375751536\n",
      "VALID: 0.24878728756895588\n",
      "VALID: 0.247521283617019\n",
      "VALID: 0.24073466443462857\n",
      "VALID: 0.2429432734981935\n",
      "PARAM: 100 ERROR: 0.24555518857526243\n"
     ]
    },
    {
     "data": {
      "image/png": "[encoded data removed]",
      "text/plain": [
       "<Figure size 640x480 with 1 Axes>"
      ]
     },
     "metadata": {},
     "output_type": "display_data"
    }
   ],
   "source": [
    "neurons = select_params(X_train, y_train, 1)"
   ]
  },
  {
   "cell_type": "markdown",
   "id": "db5c53fe-ac26-462c-92e6-2d170ab144ab",
   "metadata": {},
   "source": [
    "Rede com 15 neurônios obteve melhor desempenho considerando erro de validação."
   ]
  },
  {
   "cell_type": "code",
   "execution_count": 177,
   "id": "e924aff8-d544-45d8-a20b-7530bbd804b2",
   "metadata": {},
   "outputs": [
    {
     "data": {
      "text/plain": [
       "15"
      ]
     },
     "execution_count": 177,
     "metadata": {},
     "output_type": "execute_result"
    }
   ],
   "source": [
    "neurons"
   ]
  },
  {
   "cell_type": "markdown",
   "id": "887df5df-8db6-4b22-9c96-0933ada0108a",
   "metadata": {},
   "source": [
    "Rede de uma camada com 15 neurônios agora utilizando todos os dados de treino."
   ]
  },
  {
   "cell_type": "code",
   "execution_count": 60,
   "id": "3f340fe9-79ac-48ef-9cf0-e9fa63fb2a64",
   "metadata": {},
   "outputs": [],
   "source": [
    "f = open(f\"MLP/HOG/error.txt\",\"a+\")\n",
    "f.write(f\"MLP - DATASET HOG\\n\\n\")\n",
    "f.write(f\"Treino oficial com todo o conjunto de treinamneto e número de neurônios selecionado no k-fold igual a ({neurons}).\\n\\n\")\n",
    "f.close()"
   ]
  },
  {
   "cell_type": "code",
   "execution_count": 39,
   "id": "c609dbb3-81e8-4120-b5a3-0c6c616b712d",
   "metadata": {},
   "outputs": [],
   "source": [
    "ns = 1"
   ]
  },
  {
   "cell_type": "code",
   "execution_count": 61,
   "id": "103be5da",
   "metadata": {},
   "outputs": [
    {
     "data": {
      "image/png": "[encoded data removed]",
      "text/plain": [
       "<Figure size 640x480 with 1 Axes>"
      ]
     },
     "metadata": {},
     "output_type": "display_data"
    }
   ],
   "source": [
    "A, B, error = train(X_train, y_train, X_valid, y_valid, neurons, ns, 'HOG')"
   ]
  },
  {
   "cell_type": "code",
   "execution_count": 62,
   "id": "3eff34b5-ac49-48f5-a0bb-d6ad37cdec95",
   "metadata": {},
   "outputs": [
    {
     "data": {
      "text/plain": [
       "0.2492933740847355"
      ]
     },
     "execution_count": 62,
     "metadata": {},
     "output_type": "execute_result"
    }
   ],
   "source": [
    "error"
   ]
  },
  {
   "cell_type": "markdown",
   "id": "24fb2689-9112-4c10-996d-8b376a814f61",
   "metadata": {},
   "source": [
    "Verificando erro no conjunto de teste.\n",
    "Resultado próximo ao obtido com conjunto de treino, demonstrando não ter ocorrido overfit."
   ]
  },
  {
   "cell_type": "code",
   "execution_count": 63,
   "id": "0cffc7e7-61b6-4aed-ba19-d70b4bfcc732",
   "metadata": {},
   "outputs": [],
   "source": [
    "error_test = test(X_test, y_test, A, B)"
   ]
  },
  {
   "cell_type": "code",
   "execution_count": 64,
   "id": "0dbaa1f7-d54d-4553-9f5d-9ce1ae74bbf0",
   "metadata": {},
   "outputs": [
    {
     "data": {
      "text/plain": [
       "0.250510319694058"
      ]
     },
     "execution_count": 64,
     "metadata": {},
     "output_type": "execute_result"
    }
   ],
   "source": [
    "error_test"
   ]
  },
  {
   "cell_type": "code",
   "execution_count": 65,
   "id": "a99c76d4-41ca-48b0-b248-e45ac585b2c5",
   "metadata": {},
   "outputs": [],
   "source": [
    "f = open(f\"MLP/HOG/config.txt\",\"a+\")\n",
    "f.write(f\"MLP - DATASET HOG\")\n",
    "f.write(f\"\\n\\n\")\n",
    "f.write(f\"Número de neurônios: {neurons}\\n\")\n",
    "f.write(f\"Erro de validação: {error}\\n\\n\")\n",
    "f.write(f\"Erro de teste: {error_test}\\n\\n\")\n",
    "f.write(f\"\\n\\n\")\n",
    "f.close()"
   ]
  },
  {
   "cell_type": "markdown",
   "id": "e3fadc13-bb3d-41c7-ac95-0299bbb215e4",
   "metadata": {},
   "source": [
    "Gerando matriz de confusão:"
   ]
  },
  {
   "cell_type": "code",
   "execution_count": 66,
   "id": "f6518225-56dd-42bd-9699-9831abeaf81d",
   "metadata": {},
   "outputs": [],
   "source": [
    "y_predict = neural_network_test(X_test, A, B)\n",
    "y_predict = [0 if pred < 0.5 else 1 for pred in y_predict]"
   ]
  },
  {
   "cell_type": "code",
   "execution_count": 185,
   "id": "6c039d67-4155-4e36-8453-5307214f926c",
   "metadata": {},
   "outputs": [
    {
     "name": "stdout",
     "output_type": "stream",
     "text": [
      "              precision    recall  f1-score   support\n",
      "\n",
      "           0       0.50      0.55      0.52       457\n",
      "           1       0.55      0.51      0.53       503\n",
      "\n",
      "    accuracy                           0.53       960\n",
      "   macro avg       0.53      0.53      0.53       960\n",
      "weighted avg       0.53      0.53      0.53       960\n",
      "\n"
     ]
    }
   ],
   "source": [
    "print(classification_report(y_pred=y_predict, y_true=y_test, labels=[0,1]))"
   ]
  },
  {
   "cell_type": "code",
   "execution_count": 72,
   "id": "b131214b-98af-407d-8424-8d187a9b9a32",
   "metadata": {},
   "outputs": [],
   "source": [
    "df = pd.DataFrame({\"y_test\" : y_test, \"y_predict\" : y_predict})\n",
    "df.to_csv(\"MLP/HOG/compare_y.csv\", index=False)"
   ]
  },
  {
   "cell_type": "markdown",
   "id": "588ed456-a3cf-4954-bb1e-705fcd9be79f",
   "metadata": {},
   "source": [
    "Salvando pesos."
   ]
  },
  {
   "cell_type": "code",
   "execution_count": 67,
   "id": "e8355c44-d767-459a-9323-ddb743cd1e4e",
   "metadata": {},
   "outputs": [],
   "source": [
    "with open('./weights/MLP/HOG/A.npy', 'wb') as f:\n",
    "    np.save(f, A)"
   ]
  },
  {
   "cell_type": "code",
   "execution_count": 68,
   "id": "10f13ffd-d713-4885-89bc-83a6980cda77",
   "metadata": {},
   "outputs": [],
   "source": [
    "with open('./weights/MLP/HOG/B.npy', 'wb') as f:\n",
    "    np.save(f, B)"
   ]
  },
  {
   "cell_type": "markdown",
   "id": "b121b3c1-225a-4b0c-bdd0-ed296f8db41e",
   "metadata": {},
   "source": [
    "Testando recupração de pesos gravados em disco."
   ]
  },
  {
   "cell_type": "code",
   "execution_count": 69,
   "id": "00458bf8-0fc5-4e3a-8971-d2490446fa12",
   "metadata": {},
   "outputs": [],
   "source": [
    "with open('./weights/MLP/HOG/A.npy', 'rb') as f:\n",
    "    A_load = np.load(f)"
   ]
  },
  {
   "cell_type": "code",
   "execution_count": 70,
   "id": "9e5f9a93-4773-46b9-b2db-bc1e8b7d6218",
   "metadata": {},
   "outputs": [],
   "source": [
    "with open('./weights/MLP/HOG/B.npy', 'rb') as f:\n",
    "    B_load = np.load(f)"
   ]
  },
  {
   "cell_type": "code",
   "execution_count": 71,
   "id": "0dee457a-9aac-4570-b054-e92ce00e16f7",
   "metadata": {},
   "outputs": [
    {
     "data": {
      "text/plain": [
       "0.250510319694058"
      ]
     },
     "execution_count": 71,
     "metadata": {},
     "output_type": "execute_result"
    }
   ],
   "source": [
    "error_test_load = test(X_test, y_test, A_load, B_load)\n",
    "error_test_load"
   ]
  },
  {
   "cell_type": "markdown",
   "id": "be245130-7b73-4843-a685-c501cc321dab",
   "metadata": {},
   "source": [
    "## LBP"
   ]
  },
  {
   "cell_type": "code",
   "execution_count": 73,
   "id": "aa81f677-c3ea-4d74-886c-235c329cf2ee",
   "metadata": {
    "tags": []
   },
   "outputs": [],
   "source": [
    "df = pd.read_parquet(r'../../data/preprocessed/feature_matrix_lbp.parquet')"
   ]
  },
  {
   "cell_type": "code",
   "execution_count": 74,
   "id": "b4f1cd16-6561-43dd-89e4-6e9e3ebcdb95",
   "metadata": {
    "tags": []
   },
   "outputs": [
    {
     "data": {
      "text/html": [
       "<div>\n",
       "<style scoped>\n",
       "    .dataframe tbody tr th:only-of-type {\n",
       "        vertical-align: middle;\n",
       "    }\n",
       "\n",
       "    .dataframe tbody tr th {\n",
       "        vertical-align: top;\n",
       "    }\n",
       "\n",
       "    .dataframe thead th {\n",
       "        text-align: right;\n",
       "    }\n",
       "</style>\n",
       "<table border=\"1\" class=\"dataframe\">\n",
       "  <thead>\n",
       "    <tr style=\"text-align: right;\">\n",
       "      <th></th>\n",
       "      <th>0</th>\n",
       "      <th>1</th>\n",
       "      <th>2</th>\n",
       "      <th>3</th>\n",
       "      <th>4</th>\n",
       "      <th>5</th>\n",
       "      <th>6</th>\n",
       "      <th>7</th>\n",
       "      <th>8</th>\n",
       "      <th>9</th>\n",
       "      <th>...</th>\n",
       "      <th>51</th>\n",
       "      <th>52</th>\n",
       "      <th>53</th>\n",
       "      <th>54</th>\n",
       "      <th>55</th>\n",
       "      <th>56</th>\n",
       "      <th>57</th>\n",
       "      <th>58</th>\n",
       "      <th>59</th>\n",
       "      <th>match</th>\n",
       "    </tr>\n",
       "  </thead>\n",
       "  <tbody>\n",
       "    <tr>\n",
       "      <th>0</th>\n",
       "      <td>0.624000</td>\n",
       "      <td>0.0</td>\n",
       "      <td>0.0</td>\n",
       "      <td>0.0</td>\n",
       "      <td>0.673524</td>\n",
       "      <td>0.0</td>\n",
       "      <td>0.0</td>\n",
       "      <td>0.0</td>\n",
       "      <td>0.367238</td>\n",
       "      <td>0.0</td>\n",
       "      <td>...</td>\n",
       "      <td>0.502857</td>\n",
       "      <td>0.0</td>\n",
       "      <td>0.0</td>\n",
       "      <td>0.0</td>\n",
       "      <td>0.448762</td>\n",
       "      <td>0.0</td>\n",
       "      <td>0.0</td>\n",
       "      <td>0.0</td>\n",
       "      <td>0.417524</td>\n",
       "      <td>True</td>\n",
       "    </tr>\n",
       "    <tr>\n",
       "      <th>1</th>\n",
       "      <td>0.729143</td>\n",
       "      <td>0.0</td>\n",
       "      <td>0.0</td>\n",
       "      <td>0.0</td>\n",
       "      <td>0.736762</td>\n",
       "      <td>0.0</td>\n",
       "      <td>0.0</td>\n",
       "      <td>0.0</td>\n",
       "      <td>0.450286</td>\n",
       "      <td>0.0</td>\n",
       "      <td>...</td>\n",
       "      <td>0.271238</td>\n",
       "      <td>0.0</td>\n",
       "      <td>0.0</td>\n",
       "      <td>0.0</td>\n",
       "      <td>0.848762</td>\n",
       "      <td>0.0</td>\n",
       "      <td>0.0</td>\n",
       "      <td>0.0</td>\n",
       "      <td>0.412190</td>\n",
       "      <td>True</td>\n",
       "    </tr>\n",
       "    <tr>\n",
       "      <th>2</th>\n",
       "      <td>0.688000</td>\n",
       "      <td>0.0</td>\n",
       "      <td>0.0</td>\n",
       "      <td>0.0</td>\n",
       "      <td>0.857905</td>\n",
       "      <td>0.0</td>\n",
       "      <td>0.0</td>\n",
       "      <td>0.0</td>\n",
       "      <td>0.317714</td>\n",
       "      <td>0.0</td>\n",
       "      <td>...</td>\n",
       "      <td>0.561524</td>\n",
       "      <td>0.0</td>\n",
       "      <td>0.0</td>\n",
       "      <td>0.0</td>\n",
       "      <td>0.592000</td>\n",
       "      <td>0.0</td>\n",
       "      <td>0.0</td>\n",
       "      <td>0.0</td>\n",
       "      <td>0.550095</td>\n",
       "      <td>True</td>\n",
       "    </tr>\n",
       "    <tr>\n",
       "      <th>3</th>\n",
       "      <td>0.652190</td>\n",
       "      <td>0.0</td>\n",
       "      <td>0.0</td>\n",
       "      <td>0.0</td>\n",
       "      <td>0.876190</td>\n",
       "      <td>0.0</td>\n",
       "      <td>0.0</td>\n",
       "      <td>0.0</td>\n",
       "      <td>0.513524</td>\n",
       "      <td>0.0</td>\n",
       "      <td>...</td>\n",
       "      <td>0.228571</td>\n",
       "      <td>0.0</td>\n",
       "      <td>0.0</td>\n",
       "      <td>0.0</td>\n",
       "      <td>0.623238</td>\n",
       "      <td>0.0</td>\n",
       "      <td>0.0</td>\n",
       "      <td>0.0</td>\n",
       "      <td>0.579048</td>\n",
       "      <td>True</td>\n",
       "    </tr>\n",
       "    <tr>\n",
       "      <th>4</th>\n",
       "      <td>0.670476</td>\n",
       "      <td>0.0</td>\n",
       "      <td>0.0</td>\n",
       "      <td>0.0</td>\n",
       "      <td>0.649143</td>\n",
       "      <td>0.0</td>\n",
       "      <td>0.0</td>\n",
       "      <td>0.0</td>\n",
       "      <td>0.673524</td>\n",
       "      <td>0.0</td>\n",
       "      <td>...</td>\n",
       "      <td>0.369524</td>\n",
       "      <td>0.0</td>\n",
       "      <td>0.0</td>\n",
       "      <td>0.0</td>\n",
       "      <td>0.711619</td>\n",
       "      <td>0.0</td>\n",
       "      <td>0.0</td>\n",
       "      <td>0.0</td>\n",
       "      <td>0.518857</td>\n",
       "      <td>True</td>\n",
       "    </tr>\n",
       "  </tbody>\n",
       "</table>\n",
       "<p>5 rows × 61 columns</p>\n",
       "</div>"
      ],
      "text/plain": [
       "          0    1    2    3         4    5    6    7         8    9  ...  \\\n",
       "0  0.624000  0.0  0.0  0.0  0.673524  0.0  0.0  0.0  0.367238  0.0  ...   \n",
       "1  0.729143  0.0  0.0  0.0  0.736762  0.0  0.0  0.0  0.450286  0.0  ...   \n",
       "2  0.688000  0.0  0.0  0.0  0.857905  0.0  0.0  0.0  0.317714  0.0  ...   \n",
       "3  0.652190  0.0  0.0  0.0  0.876190  0.0  0.0  0.0  0.513524  0.0  ...   \n",
       "4  0.670476  0.0  0.0  0.0  0.649143  0.0  0.0  0.0  0.673524  0.0  ...   \n",
       "\n",
       "         51   52   53   54        55   56   57   58        59  match  \n",
       "0  0.502857  0.0  0.0  0.0  0.448762  0.0  0.0  0.0  0.417524   True  \n",
       "1  0.271238  0.0  0.0  0.0  0.848762  0.0  0.0  0.0  0.412190   True  \n",
       "2  0.561524  0.0  0.0  0.0  0.592000  0.0  0.0  0.0  0.550095   True  \n",
       "3  0.228571  0.0  0.0  0.0  0.623238  0.0  0.0  0.0  0.579048   True  \n",
       "4  0.369524  0.0  0.0  0.0  0.711619  0.0  0.0  0.0  0.518857   True  \n",
       "\n",
       "[5 rows x 61 columns]"
      ]
     },
     "execution_count": 74,
     "metadata": {},
     "output_type": "execute_result"
    }
   ],
   "source": [
    "df.head()"
   ]
  },
  {
   "cell_type": "code",
   "execution_count": 75,
   "id": "e3bdf924-39e4-443c-be4f-d39ff8971aaa",
   "metadata": {},
   "outputs": [],
   "source": [
    "X = df.iloc[:, 1:-1].values\n",
    "y = df.iloc[:, -1].values"
   ]
  },
  {
   "cell_type": "code",
   "execution_count": 76,
   "id": "c7a804c3-05b7-48f1-84cb-452d29852910",
   "metadata": {},
   "outputs": [
    {
     "data": {
      "text/plain": [
       "(3197, 59)"
      ]
     },
     "execution_count": 76,
     "metadata": {},
     "output_type": "execute_result"
    }
   ],
   "source": [
    "X.shape"
   ]
  },
  {
   "cell_type": "code",
   "execution_count": 77,
   "id": "d7b12e70-720b-4ae5-bf0a-5e2aa2601898",
   "metadata": {},
   "outputs": [],
   "source": [
    "y = [int(tag is True) for tag in y]"
   ]
  },
  {
   "cell_type": "code",
   "execution_count": 78,
   "id": "12a8444c-7d24-4a4e-97a8-9a8ffe50e408",
   "metadata": {},
   "outputs": [],
   "source": [
    "y = np.array(y)"
   ]
  },
  {
   "cell_type": "markdown",
   "id": "391811a1-deb1-4831-b6b6-c8253c56e8e5",
   "metadata": {},
   "source": [
    "Separando dados de treino e teste."
   ]
  },
  {
   "cell_type": "code",
   "execution_count": 79,
   "id": "7614ef1a-b510-4148-bc07-eb6e3b75c1da",
   "metadata": {
    "tags": []
   },
   "outputs": [],
   "source": [
    "X_train, X_test, y_train, y_test = train_test_split(X, y, test_size=0.30, random_state=42)"
   ]
  },
  {
   "cell_type": "code",
   "execution_count": 80,
   "id": "603f11cc-8386-4b9f-bf53-55b29bfd4057",
   "metadata": {},
   "outputs": [],
   "source": [
    "X_train, X_valid, y_train, y_valid = train_test_split(X_train, y_train, test_size=0.20, random_state=42)"
   ]
  },
  {
   "cell_type": "markdown",
   "id": "889710e5-c885-4f93-b459-86f1d91786c3",
   "metadata": {},
   "source": [
    "Utilizando apenas dados de treino para seleção do número de neurônios para treinamneto final."
   ]
  },
  {
   "cell_type": "code",
   "execution_count": 205,
   "id": "f4468590-1e9a-4c59-b5de-c0047321950f",
   "metadata": {},
   "outputs": [
    {
     "name": "stdout",
     "output_type": "stream",
     "text": [
      "VALID: 0.24931735950933756\n",
      "VALID: 0.24859784680472255\n",
      "VALID: 0.25005667774862844\n",
      "VALID: 0.24771352180089218\n",
      "VALID: 0.24955406450749967\n",
      "PARAM: 1 ERROR: 0.24904789407421607\n",
      "VALID: 0.24713190490353673\n",
      "VALID: 0.24572313540335344\n",
      "VALID: 0.2500586939002362\n",
      "VALID: 0.24957728885054248\n",
      "VALID: 0.24954696538096424\n",
      "PARAM: 5 ERROR: 0.24840759768772663\n",
      "VALID: 0.2493392291832937\n",
      "VALID: 0.24634538524416652\n",
      "VALID: 0.25005081252319317\n",
      "VALID: 0.2294709893694338\n",
      "VALID: 0.2495411947008684\n",
      "PARAM: 10 ERROR: 0.24494952220419114\n",
      "VALID: 0.2472666927141809\n",
      "VALID: 0.24846379402427524\n",
      "VALID: 0.2500500110065966\n",
      "VALID: 0.2375787156879946\n",
      "VALID: 0.2495589210208574\n",
      "PARAM: 15 ERROR: 0.24658362689078092\n",
      "VALID: 0.24933118414581643\n",
      "VALID: 0.24414465114849296\n",
      "VALID: 0.24654452361962126\n",
      "VALID: 0.2316893301959907\n",
      "VALID: 0.24953003664980486\n",
      "PARAM: 20 ERROR: 0.24424794515194526\n",
      "VALID: 0.2489069124529499\n",
      "VALID: 0.24479071885651182\n",
      "VALID: 0.2500779320862397\n",
      "VALID: 0.24633798304599053\n",
      "VALID: 0.24949107365613163\n",
      "PARAM: 25 ERROR: 0.24792092401956473\n",
      "VALID: 0.24958530409613816\n",
      "VALID: 0.24390874336640714\n",
      "VALID: 0.2500467942887029\n",
      "VALID: 0.23389972834268746\n",
      "VALID: 0.2495509790939108\n",
      "PARAM: 50 ERROR: 0.2453983098375693\n",
      "VALID: 0.24808394359666067\n",
      "VALID: 0.24388584547066267\n",
      "VALID: 0.24866123725094774\n",
      "VALID: 0.23445834977094904\n",
      "VALID: 0.2495725185858138\n",
      "PARAM: 100 ERROR: 0.2449323789350068\n"
     ]
    },
    {
     "data": {
      "image/png": "[encoded data removed]",
      "text/plain": [
       "<Figure size 640x480 with 1 Axes>"
      ]
     },
     "metadata": {},
     "output_type": "display_data"
    }
   ],
   "source": [
    "neurons = select_params(X_train, y_train, 1)"
   ]
  },
  {
   "cell_type": "markdown",
   "id": "86963f83-f64d-47c2-b0d5-a6d1ad458b5f",
   "metadata": {},
   "source": [
    "Rede com 15 neurônios, para o conjunto de dados LBP, obteve melhor desempenho considerando erro de validação."
   ]
  },
  {
   "cell_type": "code",
   "execution_count": 206,
   "id": "3cc2b17e-01c9-4b3a-8c3d-436eb28ba537",
   "metadata": {},
   "outputs": [
    {
     "data": {
      "text/plain": [
       "20"
      ]
     },
     "execution_count": 206,
     "metadata": {},
     "output_type": "execute_result"
    }
   ],
   "source": [
    "neurons"
   ]
  },
  {
   "cell_type": "markdown",
   "id": "57f404cd-bc56-4960-aa55-e9df6417c56f",
   "metadata": {},
   "source": [
    "Rede de uma camada com 15 neurônios agora utilizando todos os dados de treino."
   ]
  },
  {
   "cell_type": "code",
   "execution_count": 85,
   "id": "8bf6266a-c324-4e90-b7a2-ac997ce5bf11",
   "metadata": {},
   "outputs": [],
   "source": [
    "f = open(f\"MLP/LBP/error.txt\",\"a+\")\n",
    "f.write(f\"MLP - DATASET LBP\\n\\n\")\n",
    "f.write(f\"Treino oficial com todo o conjunto de treinamneto e número de neurônios selecionado no k-fold igual a ({neurons}).\\n\\n\")\n",
    "f.close()"
   ]
  },
  {
   "cell_type": "code",
   "execution_count": 86,
   "id": "297673b0-341f-4de3-af89-e856b3fd1efa",
   "metadata": {},
   "outputs": [
    {
     "data": {
      "image/png": "[encoded data removed]",
      "text/plain": [
       "<Figure size 640x480 with 1 Axes>"
      ]
     },
     "metadata": {},
     "output_type": "display_data"
    }
   ],
   "source": [
    "A, B, error = train(X_train, y_train, X_valid, y_valid, neurons, 1, 'LBP')"
   ]
  },
  {
   "cell_type": "code",
   "execution_count": 87,
   "id": "43888312-8e1b-4b66-8a45-c4bc058e97de",
   "metadata": {},
   "outputs": [
    {
     "data": {
      "text/plain": [
       "0.2302097102099796"
      ]
     },
     "execution_count": 87,
     "metadata": {},
     "output_type": "execute_result"
    }
   ],
   "source": [
    "error"
   ]
  },
  {
   "cell_type": "markdown",
   "id": "2b2c0153-96d6-4ce8-a2b1-3f2c1df12377",
   "metadata": {},
   "source": [
    "Verificando erro no conjunto de teste.\n",
    "Resultado próximo ao obtido com conjunto de treino, demonstrando não ter ocorrido overfit."
   ]
  },
  {
   "cell_type": "code",
   "execution_count": 88,
   "id": "68e4b0aa-d144-4434-aec8-f36da85def9a",
   "metadata": {},
   "outputs": [],
   "source": [
    "error_test = test(X_test, y_test, A, B)"
   ]
  },
  {
   "cell_type": "code",
   "execution_count": 89,
   "id": "b0a66c1b-bd90-4881-977c-a3760fe229f2",
   "metadata": {},
   "outputs": [
    {
     "data": {
      "text/plain": [
       "0.2379034417684094"
      ]
     },
     "execution_count": 89,
     "metadata": {},
     "output_type": "execute_result"
    }
   ],
   "source": [
    "error_test"
   ]
  },
  {
   "cell_type": "code",
   "execution_count": 90,
   "id": "388fe18e-eee5-4ce1-9e61-68f634538aac",
   "metadata": {},
   "outputs": [],
   "source": [
    "f = open(f\"MLP/LBP/config.txt\",\"a+\")\n",
    "f.write(f\"MLP - DATASET LBP\")\n",
    "f.write(f\"\\n\\n\")\n",
    "f.write(f\"Número de neurônios: {neurons}\\n\")\n",
    "f.write(f\"Erro de validação: {error}\\n\\n\")\n",
    "f.write(f\"Erro de teste: {error_test}\\n\\n\")\n",
    "f.write(f\"\\n\\n\")\n",
    "f.close()"
   ]
  },
  {
   "cell_type": "markdown",
   "id": "61c810bc-831f-4ac3-9cc9-8b0219a3e264",
   "metadata": {},
   "source": [
    "Gerando matriz de confusão:"
   ]
  },
  {
   "cell_type": "code",
   "execution_count": 91,
   "id": "b893f995-c785-4889-b506-3081ab363bd7",
   "metadata": {},
   "outputs": [],
   "source": [
    "y_predict = neural_network_test(X_test, A, B)\n",
    "y_predict = [0 if pred < 0.5 else 1 for pred in y_predict]"
   ]
  },
  {
   "cell_type": "code",
   "execution_count": 92,
   "id": "afd71398-ab7a-4ca6-914c-c8996b014a26",
   "metadata": {},
   "outputs": [
    {
     "name": "stdout",
     "output_type": "stream",
     "text": [
      "              precision    recall  f1-score   support\n",
      "\n",
      "           0       0.58      0.53      0.55       457\n",
      "           1       0.60      0.65      0.63       503\n",
      "\n",
      "    accuracy                           0.59       960\n",
      "   macro avg       0.59      0.59      0.59       960\n",
      "weighted avg       0.59      0.59      0.59       960\n",
      "\n"
     ]
    }
   ],
   "source": [
    "print(classification_report(y_pred=y_predict, y_true=y_test, labels=[0,1]))"
   ]
  },
  {
   "cell_type": "code",
   "execution_count": 98,
   "id": "64de800e-c301-4dbb-aa66-5a21d48bfcf7",
   "metadata": {},
   "outputs": [],
   "source": [
    "df = pd.DataFrame({\"y_test\" : y_test, \"y_predict\" : y_predict})\n",
    "df.to_csv(\"MLP/LBP/compare_y.csv\", index=False)"
   ]
  },
  {
   "cell_type": "markdown",
   "id": "c7b87bb2-7bd2-4087-9b34-336b50101b26",
   "metadata": {},
   "source": [
    "Salvando pesos."
   ]
  },
  {
   "cell_type": "code",
   "execution_count": 93,
   "id": "be36842f-6b47-4960-aa58-d04b23df64e6",
   "metadata": {},
   "outputs": [],
   "source": [
    "with open('./weights/MLP/LBP/A.npy', 'wb') as f:\n",
    "    np.save(f, A)"
   ]
  },
  {
   "cell_type": "code",
   "execution_count": 94,
   "id": "65219064-6cd7-4b3c-b153-6b18ac78f48f",
   "metadata": {},
   "outputs": [],
   "source": [
    "with open('./weights/MLP/LBP/B.npy', 'wb') as f:\n",
    "    np.save(f, B)"
   ]
  },
  {
   "cell_type": "markdown",
   "id": "ce69b3a9-5de2-495f-b20b-cd7e40cd20e5",
   "metadata": {},
   "source": [
    "Testando recupração de pesos gravados em disco."
   ]
  },
  {
   "cell_type": "code",
   "execution_count": 95,
   "id": "423d807a-1f66-46b5-b205-573ea1bdb811",
   "metadata": {},
   "outputs": [],
   "source": [
    "with open('./weights/MLP/LBP/A.npy', 'rb') as f:\n",
    "    A_load = np.load(f)"
   ]
  },
  {
   "cell_type": "code",
   "execution_count": 96,
   "id": "291b18ae-e0fe-4a3b-870e-8e58abe73e0f",
   "metadata": {},
   "outputs": [],
   "source": [
    "with open('./weights/MLP/LBP/B.npy', 'rb') as f:\n",
    "    B_load = np.load(f)"
   ]
  },
  {
   "cell_type": "code",
   "execution_count": 97,
   "id": "6c911355-023a-473f-af7b-f5deb4c5772e",
   "metadata": {},
   "outputs": [
    {
     "data": {
      "text/plain": [
       "0.2379034417684094"
      ]
     },
     "execution_count": 97,
     "metadata": {},
     "output_type": "execute_result"
    }
   ],
   "source": [
    "error_test_load = test(X_test, y_test, A_load, B_load)\n",
    "error_test_load"
   ]
  }
 ],
 "metadata": {
  "kernelspec": {
   "display_name": "Python 3 (ipykernel)",
   "language": "python",
   "name": "python3"
  },
  "language_info": {
   "codemirror_mode": {
    "name": "ipython",
    "version": 3
   },
   "file_extension": ".py",
   "mimetype": "text/x-python",
   "name": "python",
   "nbconvert_exporter": "python",
   "pygments_lexer": "ipython3",
   "version": "3.8.0"
  }
 },
 "nbformat": 4,
 "nbformat_minor": 5
}
