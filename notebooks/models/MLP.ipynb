{
 "cells": [
  {
   "cell_type": "code",
   "execution_count": 33,
   "id": "177d63f8",
   "metadata": {},
   "outputs": [],
   "source": [
    "import numpy as np\n",
    "import pandas as pd\n",
    "import warnings\n",
    "\n",
    "#suppress warnings\n",
    "warnings.filterwarnings('ignore')"
   ]
  },
  {
   "cell_type": "code",
   "execution_count": 34,
   "id": "b3afd68a",
   "metadata": {},
   "outputs": [],
   "source": [
    "np.random.seed(42)"
   ]
  },
  {
   "cell_type": "code",
   "execution_count": 32,
   "id": "0b655597",
   "metadata": {},
   "outputs": [],
   "source": [
    "import matplotlib.pyplot as plot"
   ]
  },
  {
   "cell_type": "markdown",
   "id": "30f269e0-1bec-492f-a1b1-a5db52beaade",
   "metadata": {},
   "source": [
    "# Implemetação"
   ]
  },
  {
   "cell_type": "markdown",
   "id": "44391d74-fb82-40e1-8f1f-7243a72b6cdf",
   "metadata": {},
   "source": [
    "Definição de códigos."
   ]
  },
  {
   "cell_type": "markdown",
   "id": "a29942c0",
   "metadata": {},
   "source": [
    "## Rede Neural"
   ]
  },
  {
   "cell_type": "markdown",
   "id": "21f4a532-bfaa-4186-8354-e28d6d0925aa",
   "metadata": {},
   "source": [
    "MLP com uma camada escondida, utilzando gradiente conjugado para aproximação da hessiana e taxa de aprendizado dinâmica com bisseção."
   ]
  },
  {
   "cell_type": "code",
   "execution_count": 107,
   "id": "41589fcc",
   "metadata": {},
   "outputs": [],
   "source": [
    "def train(X, Yd, hidden_layers, ns):\n",
    "  N, ne = X.shape\n",
    "\n",
    "  # weights\n",
    "  A = np.random.rand(hidden_layers, ne + 1)/5\n",
    "  B = np.random.rand(ns, hidden_layers + 1)/5\n",
    "\n",
    "  X = np.hstack([X, np.ones((N, 1))])\n",
    "\n",
    "  # output\n",
    "  Y = calculate_output(X, A, B, N)\n",
    "\n",
    "  error = Y - Yd\n",
    "\n",
    "  # mean square error\n",
    "  square_error = 1/N * sum(sum(error * error))\n",
    "  \n",
    "  min_error = square_error\n",
    "  best_A = A\n",
    "  best_B = B\n",
    "\n",
    "  epoch = 0\n",
    "  max_epoch = 15000\n",
    "\n",
    "  errors = []\n",
    "  errors.append(square_error)\n",
    "\n",
    "  while square_error > 1e-3 and epoch < max_epoch:\n",
    "    epoch = epoch + 1\n",
    "\n",
    "    dJdA_current, dJdB_current = calculate_gradient(X, Yd, A, B, N)\n",
    "\n",
    "    if epoch == 1:\n",
    "      dJdA = dJdA_current\n",
    "      dJdB = dJdB_current\n",
    "      dJdA_old = dJdA_current\n",
    "      dJdB_old = dJdB_current\n",
    "    else:\n",
    "      dJdA, dJdB = direction_conjugate(A, B, dJdA_current, dJdB_current, dJdA_old, dJdB_old, X, Yd, N, epoch)\n",
    "      dJdA_old = dJdA_current\n",
    "      dJdB_old = dJdB_current\n",
    "\n",
    "    alpha = bisection(dJdA, dJdB, dJdA_current, dJdB_current, A, B, X, Yd, N, epoch)\n",
    "\n",
    "    A = A - alpha*dJdA;\n",
    "    B = B - alpha*dJdB;\n",
    "\n",
    "    Y = calculate_output(X, A, B, N)\n",
    "    error = Y - Yd\n",
    "\n",
    "    square_error = 1/N * sum(sum(error * error))\n",
    "    \n",
    "    if square_error < min_error:\n",
    "      min_error = square_error\n",
    "      best_A = A\n",
    "      best_B = B\n",
    "    \n",
    "    # print(f\"it: {epoch}, alpha: {alpha}, square_error: {square_error}\\n\")\n",
    "    \n",
    "    errors.append(square_error)\n",
    "\n",
    "  plot.plot(errors)\n",
    "\n",
    "  return best_A, best_B, min_error"
   ]
  },
  {
   "cell_type": "code",
   "execution_count": 11,
   "id": "ed2246a3",
   "metadata": {},
   "outputs": [],
   "source": [
    "def calculate_output(X, A, B, N):\n",
    "  Zin = np.matmul(X, A.T)\n",
    "  Z = g(Zin)\n",
    "  Zb = np.hstack([Z, np.ones((N, 1))])\n",
    "\n",
    "  Yin = np.matmul(Zb, B.T)\n",
    "  Y = g(Yin)\n",
    "\n",
    "  return Y"
   ]
  },
  {
   "cell_type": "code",
   "execution_count": 104,
   "id": "6fe85306",
   "metadata": {},
   "outputs": [],
   "source": [
    "def calculate_gradient(X, Yd, A, B, N):  \n",
    "  Zin = np.matmul(X, A.T)\n",
    "  Z = g(Zin)\n",
    "\n",
    "  Zb = np.hstack([Z, np.ones((N, 1))])\n",
    "\n",
    "  Yin = np.matmul(Zb, B.T)\n",
    "  Y = g(Yin)\n",
    "  Y = Y.flatten()\n",
    "\n",
    "  error = Y - Yd\n",
    "\n",
    "  # g() and f() derivatives \n",
    "  gl = (1-Y) * Y\n",
    "  fl = (1-Z) * Z\n",
    "\n",
    "  dJdB = 1/N * np.matmul((error * gl).T, Zb)\n",
    "  \n",
    "  # error\n",
    "  error_gl = error * gl\n",
    "\n",
    "  dJdZ = np.matmul(error_gl.reshape(-1, 1), B[:,:-1])\n",
    "  dJdA = 1/N * np.matmul((dJdZ*fl).T, X)\n",
    "\n",
    "  return dJdA, dJdB"
   ]
  },
  {
   "cell_type": "code",
   "execution_count": 13,
   "id": "69060603",
   "metadata": {},
   "outputs": [],
   "source": [
    "def direction_conjugate(A, B, gradA, gradB, gradA_old, gradB_old, X, Yd, N, it):\n",
    "  g0 = np.concatenate((-gradA_old.flatten(), -gradB_old.flatten()))\n",
    "  gi = np.concatenate((gradA.flatten(), gradB.flatten()))\n",
    "\n",
    "  if (it % 2) != 0:\n",
    "    beta = np.divide(np.matmul(gi.flatten().T, (gi.flatten()-g0.flatten())), np.matmul(g0.flatten().T, g0.flatten()))\n",
    "    if beta < 0:\n",
    "      beta = np.divide(np.linalg.norm(gi.flatten()), np.linalg.norm(g0.flatten())**2)\n",
    "\n",
    "    dJdA = gradA - beta * gradA_old\n",
    "    dJdB = gradB - beta * gradB_old\n",
    "  else:\n",
    "    dJdA = gradA\n",
    "    dJdB = gradB\n",
    "\n",
    "  return dJdA, dJdB"
   ]
  },
  {
   "cell_type": "code",
   "execution_count": 14,
   "id": "e35ff445",
   "metadata": {},
   "outputs": [],
   "source": [
    "def g(Zin):\n",
    "  return 1/(1 + np.exp(-Zin))"
   ]
  },
  {
   "cell_type": "code",
   "execution_count": 15,
   "id": "4dccf78f",
   "metadata": {},
   "outputs": [],
   "source": [
    "def bisection(dJdA, dJdB, dJdA_current, dJdB_current, A, B, X, Yd, N, epoch):\n",
    "    def alpha_gen():\n",
    "      alpha_g = np.random.random()\n",
    "      while h_l(alpha_g, dJdA, dJdB, dJdA_current, dJdB_current, A, B, X, Yd, N, epoch) < 0:\n",
    "        alpha_g = alpha_g * 2\n",
    "\n",
    "      return alpha_g\n",
    "\n",
    "    alpha_l = 0\n",
    "    alpha_u = alpha_gen()\n",
    "    alpha = (alpha_l + alpha_u) / 2\n",
    "\n",
    "    hl = h_l(alpha, dJdA, dJdB, dJdA_current, dJdB_current, A, B, X, Yd, N, epoch)\n",
    "\n",
    "    it = 0\n",
    "    it_max = int(np.ceil(np.log(alpha_u - alpha_l) - np.log(1e-5))/np.log(2))\n",
    "    while it < it_max:\n",
    "        it += 1\n",
    "        \n",
    "        if hl > 0:\n",
    "            alpha_u = alpha\n",
    "        elif hl < 0:\n",
    "            alpha_l = alpha\n",
    "        elif hl == 0:\n",
    "          return alpha\n",
    "\n",
    "        alpha = (alpha_l + alpha_u) / 2\n",
    "        hl = h_l(alpha, dJdA, dJdB, dJdA_current, dJdB_current, A, B, X, Yd, N, epoch)\n",
    "\n",
    "    return alpha"
   ]
  },
  {
   "cell_type": "code",
   "execution_count": 16,
   "id": "36088bf5",
   "metadata": {},
   "outputs": [],
   "source": [
    "def h_l(alpha, dJdA, dJdB, dJdA_current, dJdB_current, A, B, X, Yd, N, epoch):\n",
    "  An = A - alpha * dJdA;\n",
    "  Bn = B - alpha * dJdB;\n",
    "\n",
    "  gradAn, gradBn = calculate_gradient(X, Yd, An, Bn, N)\n",
    "  dJdAn, dJdBn = direction_conjugate(A, B, gradAn, gradBn, dJdA_current, dJdB_current, X, Yd, N, epoch)\n",
    "  \n",
    "  grad = np.concatenate((dJdA.flatten(), dJdB.flatten()))\n",
    "  grad_alpha = np.concatenate((dJdAn.flatten(), dJdBn.flatten()))\n",
    "\n",
    "  return np.dot(grad_alpha.T.flatten(), -grad.flatten())"
   ]
  },
  {
   "cell_type": "markdown",
   "id": "081b1304",
   "metadata": {},
   "source": [
    "## Treinamento"
   ]
  },
  {
   "cell_type": "markdown",
   "id": "1dc4bd10-d525-424f-b9ac-35b46f3585bc",
   "metadata": {},
   "source": [
    "Definição de código para seleção do número de neurônios atráves de validação com 5 folds."
   ]
  },
  {
   "cell_type": "code",
   "execution_count": 18,
   "id": "2a2808d6",
   "metadata": {},
   "outputs": [],
   "source": [
    "from sklearn.model_selection import ShuffleSplit, train_test_split\n",
    "from sklearn.preprocessing import StandardScaler"
   ]
  },
  {
   "cell_type": "code",
   "execution_count": 29,
   "id": "39bcbea5",
   "metadata": {},
   "outputs": [],
   "source": [
    "def best_params(X, y, hidden_layers, ns):\n",
    "  rs = ShuffleSplit(n_splits=5, test_size=.20, random_state=42)\n",
    "\n",
    "  errors = []\n",
    "  for train_index, test_index in rs.split(X, y):\n",
    "    df_train_x = np.array([X[idx] for idx in train_index])\n",
    "    df_train_y = np.array([y[idx] for idx in train_index])\n",
    "\n",
    "    df_test_x = np.array([X[idx] for idx in test_index])\n",
    "    df_test_y = np.array([y[idx] for idx in test_index])\n",
    "\n",
    "    A, B, error_train = train(df_train_x, df_train_y, hidden_layers, ns)\n",
    "    error_test = test(df_test_x, df_test_y, A, B)\n",
    "\n",
    "    print(\"TRAIN:\", error_train, \"TEST:\", error_test)\n",
    "\n",
    "    errors.append(error_test)\n",
    "\n",
    "  return np.mean(errors)"
   ]
  },
  {
   "cell_type": "code",
   "execution_count": 43,
   "id": "84fcab98",
   "metadata": {},
   "outputs": [],
   "source": [
    "def select_params(X, y, ns):\n",
    "  params = [1, 5, 10, 15, 20, 25, 50, 100]\n",
    "  errors = {}\n",
    "  for param in params:\n",
    "    error = best_params(X, y, param, ns)\n",
    "    errors[error] = param\n",
    "\n",
    "    print(\"PARAM:\", param, \"ERROR:\", error)\n",
    "    # print(\"errors:\", errors)\n",
    "  \n",
    "  min_error = min(errors.keys())\n",
    "  return errors[min_error]"
   ]
  },
  {
   "cell_type": "markdown",
   "id": "440c1b73-feff-4027-8c6c-c99afa6a9962",
   "metadata": {},
   "source": [
    "## Teste"
   ]
  },
  {
   "cell_type": "code",
   "execution_count": 21,
   "id": "a01b8f82",
   "metadata": {},
   "outputs": [],
   "source": [
    "def neural_network_test(X, A, B):\n",
    "  N, ne = X.shape\n",
    "  X = np.hstack([X, np.ones((N, 1))])\n",
    "\n",
    "  return calculate_output(X, A, B, N)"
   ]
  },
  {
   "cell_type": "code",
   "execution_count": 22,
   "id": "228ea404",
   "metadata": {},
   "outputs": [],
   "source": [
    "def test(X, Yd, A, B):\n",
    "  N, _ = X.shape\n",
    "\n",
    "  Y = neural_network_test(X, A, B)\n",
    "  error = Y - Yd\n",
    "\n",
    "  square_error = 1/N * sum(sum(error * error))\n",
    "  return square_error"
   ]
  },
  {
   "cell_type": "markdown",
   "id": "349d30de-147e-4daa-a581-dd5c3787ba97",
   "metadata": {},
   "source": [
    "# Execução"
   ]
  },
  {
   "cell_type": "markdown",
   "id": "21440254-57e9-4689-86c7-63443f4f4ce0",
   "metadata": {},
   "source": [
    "Aplicação dos modelos para datasets."
   ]
  },
  {
   "cell_type": "markdown",
   "id": "c6ec4cb3",
   "metadata": {},
   "source": [
    "## HOG"
   ]
  },
  {
   "cell_type": "code",
   "execution_count": 46,
   "id": "5e9b328e",
   "metadata": {},
   "outputs": [],
   "source": [
    "df = pd.read_parquet(r'../../data/preprocessed/feature_matrix_hog.parquet')"
   ]
  },
  {
   "cell_type": "code",
   "execution_count": 51,
   "id": "30bf4cf2",
   "metadata": {},
   "outputs": [
    {
     "data": {
      "text/html": [
       "<div>\n",
       "<style scoped>\n",
       "    .dataframe tbody tr th:only-of-type {\n",
       "        vertical-align: middle;\n",
       "    }\n",
       "\n",
       "    .dataframe tbody tr th {\n",
       "        vertical-align: top;\n",
       "    }\n",
       "\n",
       "    .dataframe thead th {\n",
       "        text-align: right;\n",
       "    }\n",
       "</style>\n",
       "<table border=\"1\" class=\"dataframe\">\n",
       "  <thead>\n",
       "    <tr style=\"text-align: right;\">\n",
       "      <th></th>\n",
       "      <th>0</th>\n",
       "      <th>1</th>\n",
       "      <th>2</th>\n",
       "      <th>3</th>\n",
       "      <th>4</th>\n",
       "      <th>5</th>\n",
       "      <th>6</th>\n",
       "      <th>7</th>\n",
       "      <th>8</th>\n",
       "      <th>9</th>\n",
       "      <th>...</th>\n",
       "      <th>51</th>\n",
       "      <th>52</th>\n",
       "      <th>53</th>\n",
       "      <th>54</th>\n",
       "      <th>55</th>\n",
       "      <th>56</th>\n",
       "      <th>57</th>\n",
       "      <th>58</th>\n",
       "      <th>59</th>\n",
       "      <th>match</th>\n",
       "    </tr>\n",
       "  </thead>\n",
       "  <tbody>\n",
       "    <tr>\n",
       "      <th>0</th>\n",
       "      <td>2.306814</td>\n",
       "      <td>3.954538</td>\n",
       "      <td>3.624993</td>\n",
       "      <td>3.460221</td>\n",
       "      <td>2.636359</td>\n",
       "      <td>3.130676</td>\n",
       "      <td>2.636359</td>\n",
       "      <td>2.306814</td>\n",
       "      <td>1.647724</td>\n",
       "      <td>2.636359</td>\n",
       "      <td>...</td>\n",
       "      <td>0.295641</td>\n",
       "      <td>0.000000</td>\n",
       "      <td>0.295641</td>\n",
       "      <td>0.000000</td>\n",
       "      <td>0.000000</td>\n",
       "      <td>0.147820</td>\n",
       "      <td>0.000000</td>\n",
       "      <td>0.000000</td>\n",
       "      <td>0.147820</td>\n",
       "      <td>True</td>\n",
       "    </tr>\n",
       "    <tr>\n",
       "      <th>1</th>\n",
       "      <td>2.193303</td>\n",
       "      <td>2.976625</td>\n",
       "      <td>3.759947</td>\n",
       "      <td>3.603283</td>\n",
       "      <td>4.073276</td>\n",
       "      <td>4.073276</td>\n",
       "      <td>1.253316</td>\n",
       "      <td>1.409980</td>\n",
       "      <td>2.349967</td>\n",
       "      <td>0.939987</td>\n",
       "      <td>...</td>\n",
       "      <td>0.500357</td>\n",
       "      <td>0.333572</td>\n",
       "      <td>0.333572</td>\n",
       "      <td>0.000000</td>\n",
       "      <td>0.333572</td>\n",
       "      <td>0.000000</td>\n",
       "      <td>0.500357</td>\n",
       "      <td>0.000000</td>\n",
       "      <td>0.166786</td>\n",
       "      <td>True</td>\n",
       "    </tr>\n",
       "    <tr>\n",
       "      <th>2</th>\n",
       "      <td>3.875630</td>\n",
       "      <td>3.720604</td>\n",
       "      <td>3.100504</td>\n",
       "      <td>3.410554</td>\n",
       "      <td>3.100504</td>\n",
       "      <td>4.030655</td>\n",
       "      <td>1.860302</td>\n",
       "      <td>1.860302</td>\n",
       "      <td>1.550252</td>\n",
       "      <td>1.395227</td>\n",
       "      <td>...</td>\n",
       "      <td>0.482976</td>\n",
       "      <td>0.160992</td>\n",
       "      <td>0.321984</td>\n",
       "      <td>0.160992</td>\n",
       "      <td>0.321984</td>\n",
       "      <td>0.160992</td>\n",
       "      <td>0.160992</td>\n",
       "      <td>0.160992</td>\n",
       "      <td>0.160992</td>\n",
       "      <td>True</td>\n",
       "    </tr>\n",
       "    <tr>\n",
       "      <th>3</th>\n",
       "      <td>4.624305</td>\n",
       "      <td>3.545300</td>\n",
       "      <td>3.545300</td>\n",
       "      <td>2.466296</td>\n",
       "      <td>3.391157</td>\n",
       "      <td>2.928726</td>\n",
       "      <td>1.849722</td>\n",
       "      <td>2.158009</td>\n",
       "      <td>1.387291</td>\n",
       "      <td>1.695578</td>\n",
       "      <td>...</td>\n",
       "      <td>0.132290</td>\n",
       "      <td>0.132290</td>\n",
       "      <td>0.132290</td>\n",
       "      <td>0.000000</td>\n",
       "      <td>0.000000</td>\n",
       "      <td>0.000000</td>\n",
       "      <td>0.132290</td>\n",
       "      <td>0.000000</td>\n",
       "      <td>0.132290</td>\n",
       "      <td>True</td>\n",
       "    </tr>\n",
       "    <tr>\n",
       "      <th>4</th>\n",
       "      <td>2.934841</td>\n",
       "      <td>4.255520</td>\n",
       "      <td>4.549004</td>\n",
       "      <td>3.962035</td>\n",
       "      <td>3.521809</td>\n",
       "      <td>1.614163</td>\n",
       "      <td>1.614163</td>\n",
       "      <td>1.467421</td>\n",
       "      <td>0.733710</td>\n",
       "      <td>1.173936</td>\n",
       "      <td>...</td>\n",
       "      <td>0.501895</td>\n",
       "      <td>0.167298</td>\n",
       "      <td>0.167298</td>\n",
       "      <td>0.334597</td>\n",
       "      <td>0.167298</td>\n",
       "      <td>0.167298</td>\n",
       "      <td>0.000000</td>\n",
       "      <td>0.000000</td>\n",
       "      <td>0.334597</td>\n",
       "      <td>True</td>\n",
       "    </tr>\n",
       "  </tbody>\n",
       "</table>\n",
       "<p>5 rows × 61 columns</p>\n",
       "</div>"
      ],
      "text/plain": [
       "          0         1         2         3         4         5         6  \\\n",
       "0  2.306814  3.954538  3.624993  3.460221  2.636359  3.130676  2.636359   \n",
       "1  2.193303  2.976625  3.759947  3.603283  4.073276  4.073276  1.253316   \n",
       "2  3.875630  3.720604  3.100504  3.410554  3.100504  4.030655  1.860302   \n",
       "3  4.624305  3.545300  3.545300  2.466296  3.391157  2.928726  1.849722   \n",
       "4  2.934841  4.255520  4.549004  3.962035  3.521809  1.614163  1.614163   \n",
       "\n",
       "          7         8         9  ...        51        52        53        54  \\\n",
       "0  2.306814  1.647724  2.636359  ...  0.295641  0.000000  0.295641  0.000000   \n",
       "1  1.409980  2.349967  0.939987  ...  0.500357  0.333572  0.333572  0.000000   \n",
       "2  1.860302  1.550252  1.395227  ...  0.482976  0.160992  0.321984  0.160992   \n",
       "3  2.158009  1.387291  1.695578  ...  0.132290  0.132290  0.132290  0.000000   \n",
       "4  1.467421  0.733710  1.173936  ...  0.501895  0.167298  0.167298  0.334597   \n",
       "\n",
       "         55        56        57        58        59  match  \n",
       "0  0.000000  0.147820  0.000000  0.000000  0.147820   True  \n",
       "1  0.333572  0.000000  0.500357  0.000000  0.166786   True  \n",
       "2  0.321984  0.160992  0.160992  0.160992  0.160992   True  \n",
       "3  0.000000  0.000000  0.132290  0.000000  0.132290   True  \n",
       "4  0.167298  0.167298  0.000000  0.000000  0.334597   True  \n",
       "\n",
       "[5 rows x 61 columns]"
      ]
     },
     "execution_count": 51,
     "metadata": {},
     "output_type": "execute_result"
    }
   ],
   "source": [
    "df.head()"
   ]
  },
  {
   "cell_type": "code",
   "execution_count": 92,
   "id": "018070fc",
   "metadata": {},
   "outputs": [],
   "source": [
    "X = df.iloc[:, 1:-1].values\n",
    "y = df.iloc[:, -1].values"
   ]
  },
  {
   "cell_type": "code",
   "execution_count": 63,
   "id": "95d5d4e4",
   "metadata": {},
   "outputs": [
    {
     "data": {
      "text/plain": [
       "(3197, 59)"
      ]
     },
     "execution_count": 63,
     "metadata": {},
     "output_type": "execute_result"
    }
   ],
   "source": [
    "X.shape"
   ]
  },
  {
   "cell_type": "code",
   "execution_count": 93,
   "id": "74c799ad-fa64-4050-a058-6d540385df54",
   "metadata": {},
   "outputs": [],
   "source": [
    "y = [int(tag is True) for tag in y]"
   ]
  },
  {
   "cell_type": "code",
   "execution_count": 96,
   "id": "0f731407-2a48-4ded-ab55-2e28c773eb3a",
   "metadata": {},
   "outputs": [],
   "source": [
    "y = np.array(y)"
   ]
  },
  {
   "cell_type": "markdown",
   "id": "7b6b29e9-8d57-4633-ac6d-2c1eb187efa6",
   "metadata": {},
   "source": [
    "Separando dados de treino e teste."
   ]
  },
  {
   "cell_type": "code",
   "execution_count": 105,
   "id": "3ca5aabb",
   "metadata": {},
   "outputs": [],
   "source": [
    "X_train, X_test, y_train, y_test = train_test_split(X, y, test_size=0.20, random_state=42)"
   ]
  },
  {
   "cell_type": "markdown",
   "id": "cea9e416-9bf9-493b-8013-99abf7ceff78",
   "metadata": {},
   "source": [
    "Utilizando apenas dados de treino para seleção do número de neurônios para treinamneto final."
   ]
  },
  {
   "cell_type": "code",
   "execution_count": 108,
   "id": "3a8dc3ea",
   "metadata": {},
   "outputs": [
    {
     "name": "stdout",
     "output_type": "stream",
     "text": [
      "TRAIN: 511.1325183380482 TEST: 127.93845795378245\n",
      "TRAIN: 511.20586802950476 TEST: 127.89946341672251\n",
      "TRAIN: 511.1608802546789 TEST: 127.91668152006777\n",
      "TRAIN: 511.1471882658498 TEST: 127.92647412122211\n",
      "TRAIN: 511.1608804452559 TEST: 127.91663114829603\n",
      "PARAM: 1 ERROR: 127.91954163201817\n",
      "TRAIN: 511.1325187303047 TEST: 127.93845640303128\n",
      "TRAIN: 511.20586816377283 TEST: 127.89947677084405\n",
      "TRAIN: 511.16088038349324 TEST: 127.91670392886171\n",
      "TRAIN: 511.14718858345555 TEST: 127.92645039153128\n",
      "TRAIN: 511.1608803179013 TEST: 127.91664980183556\n",
      "PARAM: 5 ERROR: 127.91954745922078\n",
      "TRAIN: 511.1325185376212 TEST: 127.93845388548938\n",
      "TRAIN: 511.2058694365376 TEST: 127.8994607892823\n",
      "TRAIN: 511.1608845400292 TEST: 127.91667710656849\n",
      "TRAIN: 511.1471884634139 TEST: 127.92645693869417\n",
      "TRAIN: 511.16088121501986 TEST: 127.91664792690585\n",
      "PARAM: 10 ERROR: 127.91953932938804\n",
      "TRAIN: 511.13251891943304 TEST: 127.93845131483354\n",
      "TRAIN: 511.20586879878243 TEST: 127.89947719890597\n",
      "TRAIN: 511.16088102596626 TEST: 127.91666213369025\n",
      "TRAIN: 511.14718909751207 TEST: 127.92646289795972\n",
      "TRAIN: 511.1608867167462 TEST: 127.91664915279868\n",
      "PARAM: 15 ERROR: 127.91954053963764\n",
      "TRAIN: 511.1325195784664 TEST: 127.93844434145478\n",
      "TRAIN: 511.20586817234346 TEST: 127.899474270292\n",
      "TRAIN: 511.16088161815907 TEST: 127.91670634406857\n",
      "TRAIN: 511.1471891007986 TEST: 127.92643658596084\n",
      "TRAIN: 511.16088058316654 TEST: 127.91661167639697\n",
      "PARAM: 20 ERROR: 127.91953464363465\n",
      "TRAIN: 511.1325230150055 TEST: 127.93846541795612\n",
      "TRAIN: 511.20586872829494 TEST: 127.89944327276294\n",
      "TRAIN: 511.1608905020674 TEST: 127.91669060212662\n",
      "TRAIN: 511.14719441088533 TEST: 127.92644308820591\n",
      "TRAIN: 511.1608831505274 TEST: 127.9166086355616\n",
      "PARAM: 25 ERROR: 127.91953020332264\n",
      "TRAIN: 511.1325218968089 TEST: 127.93845605325178\n",
      "TRAIN: 511.2058739407555 TEST: 127.89949947923225\n",
      "TRAIN: 511.16093978005915 TEST: 127.91667109793944\n",
      "TRAIN: 511.1471923585802 TEST: 127.92645003215435\n",
      "TRAIN: 511.1608883608597 TEST: 127.9166190223681\n",
      "PARAM: 50 ERROR: 127.91953913698919\n",
      "TRAIN: 511.1325287475134 TEST: 127.93843121691475\n",
      "TRAIN: 511.2058704774821 TEST: 127.89946956862802\n",
      "TRAIN: 511.1608916120509 TEST: 127.91668035784666\n",
      "TRAIN: 511.1471958644782 TEST: 127.92646953984168\n",
      "TRAIN: 511.160885005074 TEST: 127.91663550663144\n",
      "PARAM: 100 ERROR: 127.9195372379725\n"
     ]
    },
    {
     "data": {
      "image/png": "[encoded data removed]",
      "text/plain": [
       "<Figure size 640x480 with 1 Axes>"
      ]
     },
     "metadata": {},
     "output_type": "display_data"
    }
   ],
   "source": [
    "neurons = select_params(X_train, y_train, 1)"
   ]
  },
  {
   "cell_type": "code",
   "execution_count": 109,
   "id": "e924aff8-d544-45d8-a20b-7530bbd804b2",
   "metadata": {},
   "outputs": [
    {
     "data": {
      "text/plain": [
       "25"
      ]
     },
     "execution_count": 109,
     "metadata": {},
     "output_type": "execute_result"
    }
   ],
   "source": [
    "neurons"
   ]
  },
  {
   "cell_type": "code",
   "execution_count": 110,
   "id": "103be5da",
   "metadata": {},
   "outputs": [
    {
     "data": {
      "image/png": "[encoded data removed]",
      "text/plain": [
       "<Figure size 640x480 with 1 Axes>"
      ]
     },
     "metadata": {},
     "output_type": "display_data"
    }
   ],
   "source": [
    "A, B, error_train = train(X_train, y_train, neurons, 1)"
   ]
  },
  {
   "cell_type": "code",
   "execution_count": 111,
   "id": "3eff34b5-ac49-48f5-a0bb-d6ad37cdec95",
   "metadata": {},
   "outputs": [
    {
     "data": {
      "text/plain": [
       "639.0692239741583"
      ]
     },
     "execution_count": 111,
     "metadata": {},
     "output_type": "execute_result"
    }
   ],
   "source": [
    "error_train"
   ]
  },
  {
   "cell_type": "code",
   "execution_count": 112,
   "id": "7d239f3f-fce2-478b-b77b-afcf4a6c2a41",
   "metadata": {},
   "outputs": [],
   "source": [
    "error_test = test(X_test, y_test, A, B)"
   ]
  },
  {
   "cell_type": "code",
   "execution_count": 113,
   "id": "52c99d41-1157-479a-9646-a39115f9988d",
   "metadata": {},
   "outputs": [
    {
     "data": {
      "text/plain": [
       "160.41546895991334"
      ]
     },
     "execution_count": 113,
     "metadata": {},
     "output_type": "execute_result"
    }
   ],
   "source": [
    "error_test"
   ]
  },
  {
   "cell_type": "code",
   "execution_count": null,
   "id": "05c794d2-d788-4e69-ae54-265a92fcf34a",
   "metadata": {},
   "outputs": [],
   "source": []
  }
 ],
 "metadata": {
  "kernelspec": {
   "display_name": "Python 3 (ipykernel)",
   "language": "python",
   "name": "python3"
  },
  "language_info": {
   "codemirror_mode": {
    "name": "ipython",
    "version": 3
   },
   "file_extension": ".py",
   "mimetype": "text/x-python",
   "name": "python",
   "nbconvert_exporter": "python",
   "pygments_lexer": "ipython3",
   "version": "3.8.0"
  }
 },
 "nbformat": 4,
 "nbformat_minor": 5
}
