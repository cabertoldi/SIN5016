{
 "cells": [
  {
   "cell_type": "code",
   "execution_count": 3,
   "id": "204504a1-db7b-4ecd-bde4-1f7d6d548d01",
   "metadata": {},
   "outputs": [],
   "source": [
    "import pandas as pd\n",
    "import numpy as np\n",
    "import matplotlib.pyplot as plot"
   ]
  },
  {
   "cell_type": "code",
   "execution_count": 4,
   "id": "6e5c2728-4622-4a92-bf2e-ce5ee18329de",
   "metadata": {},
   "outputs": [],
   "source": [
    "from sklearn.metrics import classification_report"
   ]
  },
  {
   "cell_type": "markdown",
   "id": "d556bedb-bd72-43d9-911a-96a454595b03",
   "metadata": {},
   "source": [
    "# Implementação"
   ]
  },
  {
   "cell_type": "code",
   "execution_count": 23,
   "id": "c43f8726-df4e-4c7d-8387-bb2ce2a839a6",
   "metadata": {},
   "outputs": [],
   "source": [
    "def regression(X, Yt, k, dataset):\n",
    "    _, d = X.shape\n",
    "\n",
    "    Xt = np.hstack([X, np.ones((len(X), 1))])\n",
    "    W = np.random.rand(k, d+1)/5\n",
    "\n",
    "    S = sigmoid(Xt, W).flatten()\n",
    "    erro = S - Yt\n",
    "    grad = np.matmul(erro.T, Xt)\n",
    "    norm = np.linalg.norm(grad.flatten())\n",
    "    \n",
    "    idx = 0\n",
    "    idx_max = 10000\n",
    "    \n",
    "    f = open(f\"RegLog/{dataset}/error.txt\",\"a+\")\n",
    "    f.write(f\"RegLog - DATASET {dataset}\\n\\n\")\n",
    "    \n",
    "    errors = []\n",
    "    while norm > 1e-5 and idx <= idx_max:\n",
    "        S = sigmoid(Xt, W).flatten()\n",
    "        erro = S - Yt\n",
    "        grad = np.matmul(erro.T, Xt)\n",
    "        norm = np.linalg.norm(grad.flatten())\n",
    "\n",
    "        alpha = bisection(W, grad, Xt, Yt)\n",
    "        W = W - alpha * grad\n",
    "\n",
    "        loss = binary_cross_entropy(Yt, S)      \n",
    "        errors.append(loss)\n",
    "        \n",
    "        f.write(f\"it: {idx}, grad_norm: {norm}, cross_entropy: {loss}\\n\")\n",
    "        \n",
    "        idx += 1\n",
    "    \n",
    "    f.close()\n",
    "\n",
    "    plot.plot(errors)\n",
    "    \n",
    "    return W, errors[-1]"
   ]
  },
  {
   "cell_type": "code",
   "execution_count": 6,
   "id": "5f398215-dbdc-4307-98c3-f57c34555884",
   "metadata": {},
   "outputs": [],
   "source": [
    "def bisection(W, grad, Xt, Yt): \n",
    "    def alpha_gen():\n",
    "        alpha_g = np.random.rand()\n",
    "        while h_l(alpha_g, W, grad, Xt, Yt) < 0:\n",
    "            alpha_g = alpha_g * 2\n",
    "\n",
    "        return alpha_g\n",
    "\n",
    "    alpha_l = 0\n",
    "    alpha_u = alpha_gen()\n",
    "    alpha = (alpha_l + alpha_u) / 2\n",
    "\n",
    "    hl = h_l(alpha, W, grad, Xt, Yt)\n",
    "\n",
    "    it = 0\n",
    "    it_max = int(np.ceil(np.log(alpha_u - alpha_l) - np.log(1e-5))/np.log(2))\n",
    "    while (it < it_max):\n",
    "        it += 1\n",
    "        if hl > 0:\n",
    "            alpha_u = alpha\n",
    "        elif hl < 0:\n",
    "            alpha_l = alpha\n",
    "\n",
    "        alpha = (alpha_l + alpha_u) / 2\n",
    "        hl = h_l(alpha, W, grad, Xt, Yt)\n",
    "\n",
    "    return alpha"
   ]
  },
  {
   "cell_type": "code",
   "execution_count": 7,
   "id": "0162e9ec-bb0c-4f4a-ba49-0aaafc4d52a1",
   "metadata": {},
   "outputs": [],
   "source": [
    "def h_l(alpha, W, grad, Xt, Yt):\n",
    "    Wi = W - alpha * grad\n",
    "    S = sigmoid(Xt, Wi).flatten()\n",
    "    \n",
    "    erro = S - Yt\n",
    "    grad_alpha = np.matmul(erro.T, Xt).flatten()\n",
    "\n",
    "    return np.dot(grad_alpha.T, -grad.flatten())"
   ]
  },
  {
   "cell_type": "code",
   "execution_count": 8,
   "id": "cdebaf02-690c-40f5-967d-d0af1645ecb5",
   "metadata": {},
   "outputs": [],
   "source": [
    "def sigmoid(Xt, W):\n",
    "    S = np.matmul(Xt, W.T)\n",
    "    return 1/(1 + np.exp(-S))"
   ]
  },
  {
   "cell_type": "code",
   "execution_count": 9,
   "id": "cbd68751-aa17-407a-ac3f-b83e2753ab39",
   "metadata": {},
   "outputs": [],
   "source": [
    "def binary_cross_entropy(y_true, y_pred):\n",
    "    y_pred = np.clip(y_pred, 1e-7, 1 - 1e-7)\n",
    "    term_0 = (1-y_true) * np.log(1-y_pred + 1e-7)\n",
    "    term_1 = y_true * np.log(y_pred + 1e-7)\n",
    "    return -np.mean(term_0+term_1, axis=0)"
   ]
  },
  {
   "cell_type": "code",
   "execution_count": 10,
   "id": "92b62636-6e60-4c99-8f7a-a0bfded8c87b",
   "metadata": {},
   "outputs": [],
   "source": [
    "def predict(W, X):\n",
    "    Xt = np.hstack([X, np.ones((len(X), 1))])\n",
    "    return sigmoid(Xt, W).flatten()"
   ]
  },
  {
   "cell_type": "markdown",
   "id": "3a3b4ddb-9cbc-4c8c-9fad-e69d9aec9571",
   "metadata": {},
   "source": [
    "# Execução"
   ]
  },
  {
   "cell_type": "markdown",
   "id": "3d0098c4-d5d7-4000-ba57-fe1d3702e97d",
   "metadata": {},
   "source": [
    "Aplicação dos modelos para datasets."
   ]
  },
  {
   "cell_type": "markdown",
   "id": "3138ab4a-e8b5-430c-8e1d-3918fd602f1d",
   "metadata": {},
   "source": [
    "## HOG"
   ]
  },
  {
   "cell_type": "code",
   "execution_count": 11,
   "id": "8bcd535f-1014-4e5e-9095-dd4ecd1a6e64",
   "metadata": {},
   "outputs": [],
   "source": [
    "df = pd.read_parquet(r'../../data/preprocessed/feature_matrix_hog.parquet')"
   ]
  },
  {
   "cell_type": "code",
   "execution_count": 12,
   "id": "21269bdc-5d6d-4b62-ac41-adeac6c7cdf7",
   "metadata": {},
   "outputs": [
    {
     "data": {
      "text/html": [
       "<div>\n",
       "<style scoped>\n",
       "    .dataframe tbody tr th:only-of-type {\n",
       "        vertical-align: middle;\n",
       "    }\n",
       "\n",
       "    .dataframe tbody tr th {\n",
       "        vertical-align: top;\n",
       "    }\n",
       "\n",
       "    .dataframe thead th {\n",
       "        text-align: right;\n",
       "    }\n",
       "</style>\n",
       "<table border=\"1\" class=\"dataframe\">\n",
       "  <thead>\n",
       "    <tr style=\"text-align: right;\">\n",
       "      <th></th>\n",
       "      <th>0</th>\n",
       "      <th>1</th>\n",
       "      <th>2</th>\n",
       "      <th>3</th>\n",
       "      <th>4</th>\n",
       "      <th>5</th>\n",
       "      <th>6</th>\n",
       "      <th>7</th>\n",
       "      <th>8</th>\n",
       "      <th>9</th>\n",
       "      <th>...</th>\n",
       "      <th>51</th>\n",
       "      <th>52</th>\n",
       "      <th>53</th>\n",
       "      <th>54</th>\n",
       "      <th>55</th>\n",
       "      <th>56</th>\n",
       "      <th>57</th>\n",
       "      <th>58</th>\n",
       "      <th>59</th>\n",
       "      <th>match</th>\n",
       "    </tr>\n",
       "  </thead>\n",
       "  <tbody>\n",
       "    <tr>\n",
       "      <th>0</th>\n",
       "      <td>2.306814</td>\n",
       "      <td>3.954538</td>\n",
       "      <td>3.624993</td>\n",
       "      <td>3.460221</td>\n",
       "      <td>2.636359</td>\n",
       "      <td>3.130676</td>\n",
       "      <td>2.636359</td>\n",
       "      <td>2.306814</td>\n",
       "      <td>1.647724</td>\n",
       "      <td>2.636359</td>\n",
       "      <td>...</td>\n",
       "      <td>0.295641</td>\n",
       "      <td>0.000000</td>\n",
       "      <td>0.295641</td>\n",
       "      <td>0.000000</td>\n",
       "      <td>0.000000</td>\n",
       "      <td>0.147820</td>\n",
       "      <td>0.000000</td>\n",
       "      <td>0.000000</td>\n",
       "      <td>0.147820</td>\n",
       "      <td>True</td>\n",
       "    </tr>\n",
       "    <tr>\n",
       "      <th>1</th>\n",
       "      <td>2.193303</td>\n",
       "      <td>2.976625</td>\n",
       "      <td>3.759947</td>\n",
       "      <td>3.603283</td>\n",
       "      <td>4.073276</td>\n",
       "      <td>4.073276</td>\n",
       "      <td>1.253316</td>\n",
       "      <td>1.409980</td>\n",
       "      <td>2.349967</td>\n",
       "      <td>0.939987</td>\n",
       "      <td>...</td>\n",
       "      <td>0.500357</td>\n",
       "      <td>0.333572</td>\n",
       "      <td>0.333572</td>\n",
       "      <td>0.000000</td>\n",
       "      <td>0.333572</td>\n",
       "      <td>0.000000</td>\n",
       "      <td>0.500357</td>\n",
       "      <td>0.000000</td>\n",
       "      <td>0.166786</td>\n",
       "      <td>True</td>\n",
       "    </tr>\n",
       "    <tr>\n",
       "      <th>2</th>\n",
       "      <td>3.875630</td>\n",
       "      <td>3.720604</td>\n",
       "      <td>3.100504</td>\n",
       "      <td>3.410554</td>\n",
       "      <td>3.100504</td>\n",
       "      <td>4.030655</td>\n",
       "      <td>1.860302</td>\n",
       "      <td>1.860302</td>\n",
       "      <td>1.550252</td>\n",
       "      <td>1.395227</td>\n",
       "      <td>...</td>\n",
       "      <td>0.482976</td>\n",
       "      <td>0.160992</td>\n",
       "      <td>0.321984</td>\n",
       "      <td>0.160992</td>\n",
       "      <td>0.321984</td>\n",
       "      <td>0.160992</td>\n",
       "      <td>0.160992</td>\n",
       "      <td>0.160992</td>\n",
       "      <td>0.160992</td>\n",
       "      <td>True</td>\n",
       "    </tr>\n",
       "    <tr>\n",
       "      <th>3</th>\n",
       "      <td>4.624305</td>\n",
       "      <td>3.545300</td>\n",
       "      <td>3.545300</td>\n",
       "      <td>2.466296</td>\n",
       "      <td>3.391157</td>\n",
       "      <td>2.928726</td>\n",
       "      <td>1.849722</td>\n",
       "      <td>2.158009</td>\n",
       "      <td>1.387291</td>\n",
       "      <td>1.695578</td>\n",
       "      <td>...</td>\n",
       "      <td>0.132290</td>\n",
       "      <td>0.132290</td>\n",
       "      <td>0.132290</td>\n",
       "      <td>0.000000</td>\n",
       "      <td>0.000000</td>\n",
       "      <td>0.000000</td>\n",
       "      <td>0.132290</td>\n",
       "      <td>0.000000</td>\n",
       "      <td>0.132290</td>\n",
       "      <td>True</td>\n",
       "    </tr>\n",
       "    <tr>\n",
       "      <th>4</th>\n",
       "      <td>2.934841</td>\n",
       "      <td>4.255520</td>\n",
       "      <td>4.549004</td>\n",
       "      <td>3.962035</td>\n",
       "      <td>3.521809</td>\n",
       "      <td>1.614163</td>\n",
       "      <td>1.614163</td>\n",
       "      <td>1.467421</td>\n",
       "      <td>0.733710</td>\n",
       "      <td>1.173936</td>\n",
       "      <td>...</td>\n",
       "      <td>0.501895</td>\n",
       "      <td>0.167298</td>\n",
       "      <td>0.167298</td>\n",
       "      <td>0.334597</td>\n",
       "      <td>0.167298</td>\n",
       "      <td>0.167298</td>\n",
       "      <td>0.000000</td>\n",
       "      <td>0.000000</td>\n",
       "      <td>0.334597</td>\n",
       "      <td>True</td>\n",
       "    </tr>\n",
       "  </tbody>\n",
       "</table>\n",
       "<p>5 rows × 61 columns</p>\n",
       "</div>"
      ],
      "text/plain": [
       "          0         1         2         3         4         5         6  \\\n",
       "0  2.306814  3.954538  3.624993  3.460221  2.636359  3.130676  2.636359   \n",
       "1  2.193303  2.976625  3.759947  3.603283  4.073276  4.073276  1.253316   \n",
       "2  3.875630  3.720604  3.100504  3.410554  3.100504  4.030655  1.860302   \n",
       "3  4.624305  3.545300  3.545300  2.466296  3.391157  2.928726  1.849722   \n",
       "4  2.934841  4.255520  4.549004  3.962035  3.521809  1.614163  1.614163   \n",
       "\n",
       "          7         8         9  ...        51        52        53        54  \\\n",
       "0  2.306814  1.647724  2.636359  ...  0.295641  0.000000  0.295641  0.000000   \n",
       "1  1.409980  2.349967  0.939987  ...  0.500357  0.333572  0.333572  0.000000   \n",
       "2  1.860302  1.550252  1.395227  ...  0.482976  0.160992  0.321984  0.160992   \n",
       "3  2.158009  1.387291  1.695578  ...  0.132290  0.132290  0.132290  0.000000   \n",
       "4  1.467421  0.733710  1.173936  ...  0.501895  0.167298  0.167298  0.334597   \n",
       "\n",
       "         55        56        57        58        59  match  \n",
       "0  0.000000  0.147820  0.000000  0.000000  0.147820   True  \n",
       "1  0.333572  0.000000  0.500357  0.000000  0.166786   True  \n",
       "2  0.321984  0.160992  0.160992  0.160992  0.160992   True  \n",
       "3  0.000000  0.000000  0.132290  0.000000  0.132290   True  \n",
       "4  0.167298  0.167298  0.000000  0.000000  0.334597   True  \n",
       "\n",
       "[5 rows x 61 columns]"
      ]
     },
     "execution_count": 12,
     "metadata": {},
     "output_type": "execute_result"
    }
   ],
   "source": [
    "df.head()"
   ]
  },
  {
   "cell_type": "code",
   "execution_count": 13,
   "id": "3f2669cb-6c96-43da-93c3-973aa429f221",
   "metadata": {},
   "outputs": [],
   "source": [
    "X = df.iloc[:, 1:-1].values\n",
    "y = df.iloc[:, -1].values"
   ]
  },
  {
   "cell_type": "code",
   "execution_count": 14,
   "id": "6436b40c-fce6-4723-9a9b-6c2b9d6bd176",
   "metadata": {},
   "outputs": [
    {
     "data": {
      "text/plain": [
       "(3197, 59)"
      ]
     },
     "execution_count": 14,
     "metadata": {},
     "output_type": "execute_result"
    }
   ],
   "source": [
    "X.shape"
   ]
  },
  {
   "cell_type": "code",
   "execution_count": 15,
   "id": "9abeb87f-584e-4e0f-aea1-c72ce7d56973",
   "metadata": {},
   "outputs": [],
   "source": [
    "y = [int(tag is True) for tag in y]"
   ]
  },
  {
   "cell_type": "code",
   "execution_count": 16,
   "id": "925d652a-2e09-4965-8f82-2bdd921d346f",
   "metadata": {},
   "outputs": [],
   "source": [
    "y = np.array(y)"
   ]
  },
  {
   "cell_type": "markdown",
   "id": "b19d53ee-d284-4072-a7b8-6284c65278f8",
   "metadata": {},
   "source": [
    "Separando dados de treino e teste."
   ]
  },
  {
   "cell_type": "code",
   "execution_count": 17,
   "id": "216197b9-19b3-4559-ac61-032116feaf82",
   "metadata": {},
   "outputs": [],
   "source": [
    "from sklearn.model_selection import train_test_split"
   ]
  },
  {
   "cell_type": "code",
   "execution_count": 18,
   "id": "61ec3e22-5f59-41e9-bd0f-b16def412fb1",
   "metadata": {},
   "outputs": [],
   "source": [
    "X_train, X_test, y_train, y_test = train_test_split(X, y, test_size=0.30, random_state=42)"
   ]
  },
  {
   "cell_type": "markdown",
   "id": "a09db5d8-fc81-4cb5-b1c7-3f539ea2e10e",
   "metadata": {},
   "source": [
    "Utilizando apenas dados de treino para seleção do número de neurônios para treinamneto final."
   ]
  },
  {
   "cell_type": "code",
   "execution_count": 19,
   "id": "40309790-955b-4ef5-9d79-f3303fb3fe58",
   "metadata": {},
   "outputs": [],
   "source": [
    "# número de saídas\n",
    "k = 1"
   ]
  },
  {
   "cell_type": "code",
   "execution_count": 24,
   "id": "ae2a2adb-94b9-44ff-983a-8f976c0fd297",
   "metadata": {
    "tags": []
   },
   "outputs": [
    {
     "name": "stderr",
     "output_type": "stream",
     "text": [
      "/var/folders/bl/_mb22ns55vs2vl4n587ksnr00000gp/T/ipykernel_38243/553739335.py:3: RuntimeWarning: overflow encountered in exp\n",
      "  return 1/(1 + np.exp(-S))\n"
     ]
    },
    {
     "data": {
      "image/png": "[encoded data removed]",
      "text/plain": [
       "<Figure size 640x480 with 1 Axes>"
      ]
     },
     "metadata": {},
     "output_type": "display_data"
    }
   ],
   "source": [
    "W, error = regression(X_train, y_train, k, 'HOG')"
   ]
  },
  {
   "cell_type": "code",
   "execution_count": 25,
   "id": "76c4bff7-0e87-4a2b-8d3c-49d36a5d0413",
   "metadata": {
    "tags": []
   },
   "outputs": [
    {
     "data": {
      "text/plain": [
       "0.6791773463187275"
      ]
     },
     "execution_count": 25,
     "metadata": {},
     "output_type": "execute_result"
    }
   ],
   "source": [
    "error"
   ]
  },
  {
   "cell_type": "code",
   "execution_count": 26,
   "id": "864e4fa3-0d85-4019-9684-7317268bc6de",
   "metadata": {},
   "outputs": [],
   "source": [
    "y_predict = predict(W, X_test)\n",
    "y_predict = [0 if pred < 0.5 else 1 for pred in y_predict]"
   ]
  },
  {
   "cell_type": "code",
   "execution_count": 27,
   "id": "da10fda7-8685-49fd-8d74-adada2b1d207",
   "metadata": {},
   "outputs": [
    {
     "name": "stdout",
     "output_type": "stream",
     "text": [
      "              precision    recall  f1-score   support\n",
      "\n",
      "           0       0.51      0.58      0.54       457\n",
      "           1       0.56      0.49      0.52       503\n",
      "\n",
      "    accuracy                           0.53       960\n",
      "   macro avg       0.53      0.53      0.53       960\n",
      "weighted avg       0.53      0.53      0.53       960\n",
      "\n"
     ]
    }
   ],
   "source": [
    "print(classification_report(y_pred=y_predict, y_true=y_test, labels=[0,1]))"
   ]
  },
  {
   "cell_type": "code",
   "execution_count": 29,
   "id": "55c6e7cb-e5a3-4c3b-9f43-711e8685d05c",
   "metadata": {},
   "outputs": [],
   "source": [
    "with open('./weights/RegLog/HOG/W.npy', 'wb') as f:\n",
    "    np.save(f, W)"
   ]
  },
  {
   "cell_type": "code",
   "execution_count": 30,
   "id": "ea627f6d-b60c-442f-83de-3a33ce5c619f",
   "metadata": {},
   "outputs": [],
   "source": [
    "df = pd.DataFrame({\"y_test\" : y_test, \"y_predict\" : y_predict})\n",
    "df.to_csv(\"RegLog/HOG/compare_y.csv\", index=False)"
   ]
  },
  {
   "cell_type": "markdown",
   "id": "c795cd32-7f29-4195-82d4-944d8893a4b4",
   "metadata": {},
   "source": [
    "## LBP"
   ]
  },
  {
   "cell_type": "code",
   "execution_count": 31,
   "id": "71441fa3-a904-428c-98ee-3fa2a93cd9e6",
   "metadata": {
    "tags": []
   },
   "outputs": [],
   "source": [
    "df = pd.read_parquet(r'../../data/preprocessed/feature_matrix_lbp.parquet')"
   ]
  },
  {
   "cell_type": "code",
   "execution_count": 32,
   "id": "c62de7e4-8f04-4ee5-9c6c-29af7348db2b",
   "metadata": {
    "tags": []
   },
   "outputs": [
    {
     "data": {
      "text/html": [
       "<div>\n",
       "<style scoped>\n",
       "    .dataframe tbody tr th:only-of-type {\n",
       "        vertical-align: middle;\n",
       "    }\n",
       "\n",
       "    .dataframe tbody tr th {\n",
       "        vertical-align: top;\n",
       "    }\n",
       "\n",
       "    .dataframe thead th {\n",
       "        text-align: right;\n",
       "    }\n",
       "</style>\n",
       "<table border=\"1\" class=\"dataframe\">\n",
       "  <thead>\n",
       "    <tr style=\"text-align: right;\">\n",
       "      <th></th>\n",
       "      <th>0</th>\n",
       "      <th>1</th>\n",
       "      <th>2</th>\n",
       "      <th>3</th>\n",
       "      <th>4</th>\n",
       "      <th>5</th>\n",
       "      <th>6</th>\n",
       "      <th>7</th>\n",
       "      <th>8</th>\n",
       "      <th>9</th>\n",
       "      <th>...</th>\n",
       "      <th>51</th>\n",
       "      <th>52</th>\n",
       "      <th>53</th>\n",
       "      <th>54</th>\n",
       "      <th>55</th>\n",
       "      <th>56</th>\n",
       "      <th>57</th>\n",
       "      <th>58</th>\n",
       "      <th>59</th>\n",
       "      <th>match</th>\n",
       "    </tr>\n",
       "  </thead>\n",
       "  <tbody>\n",
       "    <tr>\n",
       "      <th>0</th>\n",
       "      <td>0.624000</td>\n",
       "      <td>0.0</td>\n",
       "      <td>0.0</td>\n",
       "      <td>0.0</td>\n",
       "      <td>0.673524</td>\n",
       "      <td>0.0</td>\n",
       "      <td>0.0</td>\n",
       "      <td>0.0</td>\n",
       "      <td>0.367238</td>\n",
       "      <td>0.0</td>\n",
       "      <td>...</td>\n",
       "      <td>0.502857</td>\n",
       "      <td>0.0</td>\n",
       "      <td>0.0</td>\n",
       "      <td>0.0</td>\n",
       "      <td>0.448762</td>\n",
       "      <td>0.0</td>\n",
       "      <td>0.0</td>\n",
       "      <td>0.0</td>\n",
       "      <td>0.417524</td>\n",
       "      <td>True</td>\n",
       "    </tr>\n",
       "    <tr>\n",
       "      <th>1</th>\n",
       "      <td>0.729143</td>\n",
       "      <td>0.0</td>\n",
       "      <td>0.0</td>\n",
       "      <td>0.0</td>\n",
       "      <td>0.736762</td>\n",
       "      <td>0.0</td>\n",
       "      <td>0.0</td>\n",
       "      <td>0.0</td>\n",
       "      <td>0.450286</td>\n",
       "      <td>0.0</td>\n",
       "      <td>...</td>\n",
       "      <td>0.271238</td>\n",
       "      <td>0.0</td>\n",
       "      <td>0.0</td>\n",
       "      <td>0.0</td>\n",
       "      <td>0.848762</td>\n",
       "      <td>0.0</td>\n",
       "      <td>0.0</td>\n",
       "      <td>0.0</td>\n",
       "      <td>0.412190</td>\n",
       "      <td>True</td>\n",
       "    </tr>\n",
       "    <tr>\n",
       "      <th>2</th>\n",
       "      <td>0.688000</td>\n",
       "      <td>0.0</td>\n",
       "      <td>0.0</td>\n",
       "      <td>0.0</td>\n",
       "      <td>0.857905</td>\n",
       "      <td>0.0</td>\n",
       "      <td>0.0</td>\n",
       "      <td>0.0</td>\n",
       "      <td>0.317714</td>\n",
       "      <td>0.0</td>\n",
       "      <td>...</td>\n",
       "      <td>0.561524</td>\n",
       "      <td>0.0</td>\n",
       "      <td>0.0</td>\n",
       "      <td>0.0</td>\n",
       "      <td>0.592000</td>\n",
       "      <td>0.0</td>\n",
       "      <td>0.0</td>\n",
       "      <td>0.0</td>\n",
       "      <td>0.550095</td>\n",
       "      <td>True</td>\n",
       "    </tr>\n",
       "    <tr>\n",
       "      <th>3</th>\n",
       "      <td>0.652190</td>\n",
       "      <td>0.0</td>\n",
       "      <td>0.0</td>\n",
       "      <td>0.0</td>\n",
       "      <td>0.876190</td>\n",
       "      <td>0.0</td>\n",
       "      <td>0.0</td>\n",
       "      <td>0.0</td>\n",
       "      <td>0.513524</td>\n",
       "      <td>0.0</td>\n",
       "      <td>...</td>\n",
       "      <td>0.228571</td>\n",
       "      <td>0.0</td>\n",
       "      <td>0.0</td>\n",
       "      <td>0.0</td>\n",
       "      <td>0.623238</td>\n",
       "      <td>0.0</td>\n",
       "      <td>0.0</td>\n",
       "      <td>0.0</td>\n",
       "      <td>0.579048</td>\n",
       "      <td>True</td>\n",
       "    </tr>\n",
       "    <tr>\n",
       "      <th>4</th>\n",
       "      <td>0.670476</td>\n",
       "      <td>0.0</td>\n",
       "      <td>0.0</td>\n",
       "      <td>0.0</td>\n",
       "      <td>0.649143</td>\n",
       "      <td>0.0</td>\n",
       "      <td>0.0</td>\n",
       "      <td>0.0</td>\n",
       "      <td>0.673524</td>\n",
       "      <td>0.0</td>\n",
       "      <td>...</td>\n",
       "      <td>0.369524</td>\n",
       "      <td>0.0</td>\n",
       "      <td>0.0</td>\n",
       "      <td>0.0</td>\n",
       "      <td>0.711619</td>\n",
       "      <td>0.0</td>\n",
       "      <td>0.0</td>\n",
       "      <td>0.0</td>\n",
       "      <td>0.518857</td>\n",
       "      <td>True</td>\n",
       "    </tr>\n",
       "  </tbody>\n",
       "</table>\n",
       "<p>5 rows × 61 columns</p>\n",
       "</div>"
      ],
      "text/plain": [
       "          0    1    2    3         4    5    6    7         8    9  ...  \\\n",
       "0  0.624000  0.0  0.0  0.0  0.673524  0.0  0.0  0.0  0.367238  0.0  ...   \n",
       "1  0.729143  0.0  0.0  0.0  0.736762  0.0  0.0  0.0  0.450286  0.0  ...   \n",
       "2  0.688000  0.0  0.0  0.0  0.857905  0.0  0.0  0.0  0.317714  0.0  ...   \n",
       "3  0.652190  0.0  0.0  0.0  0.876190  0.0  0.0  0.0  0.513524  0.0  ...   \n",
       "4  0.670476  0.0  0.0  0.0  0.649143  0.0  0.0  0.0  0.673524  0.0  ...   \n",
       "\n",
       "         51   52   53   54        55   56   57   58        59  match  \n",
       "0  0.502857  0.0  0.0  0.0  0.448762  0.0  0.0  0.0  0.417524   True  \n",
       "1  0.271238  0.0  0.0  0.0  0.848762  0.0  0.0  0.0  0.412190   True  \n",
       "2  0.561524  0.0  0.0  0.0  0.592000  0.0  0.0  0.0  0.550095   True  \n",
       "3  0.228571  0.0  0.0  0.0  0.623238  0.0  0.0  0.0  0.579048   True  \n",
       "4  0.369524  0.0  0.0  0.0  0.711619  0.0  0.0  0.0  0.518857   True  \n",
       "\n",
       "[5 rows x 61 columns]"
      ]
     },
     "execution_count": 32,
     "metadata": {},
     "output_type": "execute_result"
    }
   ],
   "source": [
    "df.head()"
   ]
  },
  {
   "cell_type": "code",
   "execution_count": 33,
   "id": "17afcad9-c914-4649-8625-bed6a6cf71dd",
   "metadata": {},
   "outputs": [],
   "source": [
    "X = df.iloc[:, 1:-1].values\n",
    "y = df.iloc[:, -1].values"
   ]
  },
  {
   "cell_type": "code",
   "execution_count": 34,
   "id": "8d3bf490-46f2-40e8-91a9-ad46378cefb2",
   "metadata": {},
   "outputs": [
    {
     "data": {
      "text/plain": [
       "(3197, 59)"
      ]
     },
     "execution_count": 34,
     "metadata": {},
     "output_type": "execute_result"
    }
   ],
   "source": [
    "X.shape"
   ]
  },
  {
   "cell_type": "code",
   "execution_count": 35,
   "id": "224d89cc-5ed8-48c5-bef7-98773296ad4b",
   "metadata": {},
   "outputs": [],
   "source": [
    "y = [int(tag is True) for tag in y]"
   ]
  },
  {
   "cell_type": "code",
   "execution_count": 36,
   "id": "7b5a465a-edd0-49cc-8ea1-7a2551438e15",
   "metadata": {},
   "outputs": [],
   "source": [
    "y = np.array(y)"
   ]
  },
  {
   "cell_type": "markdown",
   "id": "9f6bcc3c-87fe-4e35-b3f1-2288825dda6a",
   "metadata": {},
   "source": [
    "Separando dados de treino e teste."
   ]
  },
  {
   "cell_type": "code",
   "execution_count": 37,
   "id": "ddf359a8-1c36-4486-8b75-da58a3983f9c",
   "metadata": {
    "tags": []
   },
   "outputs": [],
   "source": [
    "X_train, X_test, y_train, y_test = train_test_split(X, y, test_size=0.30, random_state=42)"
   ]
  },
  {
   "cell_type": "code",
   "execution_count": 38,
   "id": "fde7c72c-2c10-4acb-b8a7-6a06a0df6fcd",
   "metadata": {},
   "outputs": [],
   "source": [
    "# número de saídas\n",
    "k = 1"
   ]
  },
  {
   "cell_type": "code",
   "execution_count": 40,
   "id": "53b7bc9d-7e6d-4ec2-8bc3-da0f465d0284",
   "metadata": {
    "tags": []
   },
   "outputs": [
    {
     "data": {
      "image/png": "[encoded data removed]",
      "text/plain": [
       "<Figure size 640x480 with 1 Axes>"
      ]
     },
     "metadata": {},
     "output_type": "display_data"
    }
   ],
   "source": [
    "W, error = regression(X_train, y_train, k, 'LBP')"
   ]
  },
  {
   "cell_type": "code",
   "execution_count": 41,
   "id": "89984e67-b82f-4798-9edf-675bc28002ed",
   "metadata": {
    "tags": []
   },
   "outputs": [
    {
     "data": {
      "text/plain": [
       "0.6896654382795565"
      ]
     },
     "execution_count": 41,
     "metadata": {},
     "output_type": "execute_result"
    }
   ],
   "source": [
    "error"
   ]
  },
  {
   "cell_type": "code",
   "execution_count": 42,
   "id": "2a5f4cfd-66cc-4a9d-9805-610f1cf12562",
   "metadata": {},
   "outputs": [],
   "source": [
    "y_predict = predict(W, X_test)\n",
    "y_predict = [0 if pred < 0.5 else 1 for pred in y_predict]"
   ]
  },
  {
   "cell_type": "code",
   "execution_count": 101,
   "id": "2a30a88f-003e-43e9-ab7f-2cb33458d295",
   "metadata": {},
   "outputs": [
    {
     "name": "stdout",
     "output_type": "stream",
     "text": [
      "              precision    recall  f1-score   support\n",
      "\n",
      "           0       0.49      0.59      0.53       457\n",
      "           1       0.54      0.44      0.48       503\n",
      "\n",
      "    accuracy                           0.51       960\n",
      "   macro avg       0.51      0.51      0.51       960\n",
      "weighted avg       0.52      0.51      0.51       960\n",
      "\n"
     ]
    }
   ],
   "source": [
    "print(classification_report(y_pred=y_predict, y_true=y_test, labels=[0,1]))"
   ]
  },
  {
   "cell_type": "code",
   "execution_count": 102,
   "id": "a4d75f18-4f0e-41e2-bb56-a0e8bae3d867",
   "metadata": {},
   "outputs": [],
   "source": [
    "with open('./weights/RegLog/LBP/W.npy', 'wb') as f:\n",
    "    np.save(f, W)"
   ]
  },
  {
   "cell_type": "code",
   "execution_count": 43,
   "id": "47ebfa90-2eef-4186-ba72-2667cfd8fd65",
   "metadata": {},
   "outputs": [],
   "source": [
    "df = pd.DataFrame({\"y_test\" : y_test, \"y_predict\" : y_predict})\n",
    "df.to_csv(\"RegLog/LBP/compare_y.csv\", index=False)"
   ]
  }
 ],
 "metadata": {
  "kernelspec": {
   "display_name": "Python 3 (ipykernel)",
   "language": "python",
   "name": "python3"
  },
  "language_info": {
   "codemirror_mode": {
    "name": "ipython",
    "version": 3
   },
   "file_extension": ".py",
   "mimetype": "text/x-python",
   "name": "python",
   "nbconvert_exporter": "python",
   "pygments_lexer": "ipython3",
   "version": "3.8.0"
  }
 },
 "nbformat": 4,
 "nbformat_minor": 5
}
