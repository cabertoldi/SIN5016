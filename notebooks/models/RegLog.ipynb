{
 "cells": [
  {
   "cell_type": "code",
   "execution_count": 35,
   "id": "204504a1-db7b-4ecd-bde4-1f7d6d548d01",
   "metadata": {},
   "outputs": [],
   "source": [
    "import pandas as pd\n",
    "import numpy as np\n",
    "import matplotlib.pyplot as plot"
   ]
  },
  {
   "cell_type": "markdown",
   "id": "d556bedb-bd72-43d9-911a-96a454595b03",
   "metadata": {},
   "source": [
    "## HOG"
   ]
  },
  {
   "cell_type": "code",
   "execution_count": 127,
   "id": "4470bccd-8876-4d20-a6cc-9092ea3e790d",
   "metadata": {},
   "outputs": [],
   "source": [
    "# df = pd.read_parquet(outfile)\n",
    "\n",
    "# X = df.iloc[:, 0:4].values\n",
    "# y = df.iloc[:, -1].values\n",
    "X = np.array([\n",
    "    [0, 0],\n",
    "    [1, 0],\n",
    "    [0, 1],\n",
    "    [1, 1]\n",
    "])\n",
    "\n",
    "# two columms because two neurons\n",
    "y = np.array([0, 1, 1, 0])\n",
    "\n",
    "Xt = np.hstack([X, np.ones((len(X), 1))])\n",
    "\n",
    "# k = len(np.unique(y))\n",
    "# classes = list(np.unique(y))\n",
    "\n",
    "# Yt = np.zeros((len(Xt), k))\n",
    "# for i, y in enumerate(y):\n",
    "#     idx = classes.index(y)\n",
    "#     Yt[i][idx] = 1"
   ]
  },
  {
   "cell_type": "code",
   "execution_count": 158,
   "id": "c43f8726-df4e-4c7d-8387-bb2ce2a839a6",
   "metadata": {},
   "outputs": [],
   "source": [
    "def regression(Xt, Yt, k):\n",
    "    _, d = Xt.shape\n",
    "\n",
    "    W = np.random.rand(k, d)/5\n",
    "    print('W', W)\n",
    "\n",
    "    S = softmax(Xt, W).flatten()\n",
    "    print('S', S)\n",
    "    erro = S - Yt\n",
    "    grad = np.matmul(erro.T, Xt)\n",
    "    norm = np.linalg.norm(grad.flatten())\n",
    "      \n",
    "    idx = 0\n",
    "    idx_max = 1000\n",
    "    \n",
    "    errors = []\n",
    "\n",
    "    while norm > 1e-5 and idx <= idx_max:\n",
    "        S = softmax(Xt, W).flatten()\n",
    "        erro = S - Yt\n",
    "        grad = np.matmul(erro.T, Xt)\n",
    "        norm = np.linalg.norm(grad.flatten())\n",
    "\n",
    "        alpha = bisection(W, grad, Xt, Yt)\n",
    "        W = W - alpha * grad\n",
    "        print('Xt', Xt)\n",
    "        print('W', W)\n",
    "\n",
    "        loss = binary_cross_entropy(Yt, S)\n",
    "        \n",
    "        errors.append(loss)\n",
    "\n",
    "        # print(f\"it: {idx}, grad_norm: {norm}, cross_entropy: {loss}\\n\")\n",
    "        idx += 1\n",
    "        \n",
    "    plot.plot(errors)\n",
    "    \n",
    "    return W"
   ]
  },
  {
   "cell_type": "code",
   "execution_count": 78,
   "id": "5f398215-dbdc-4307-98c3-f57c34555884",
   "metadata": {},
   "outputs": [],
   "source": [
    "def bisection(W, grad, Xt, Yt): \n",
    "    def alpha_gen():\n",
    "        alpha_g = np.random.rand()\n",
    "        while h_l(alpha_g, W, grad, Xt, Yt) < 0:\n",
    "            alpha_g = alpha_g * 2\n",
    "\n",
    "        return alpha_g\n",
    "\n",
    "    alpha_l = 0\n",
    "    alpha_u = alpha_gen()\n",
    "    alpha = (alpha_l + alpha_u) / 2\n",
    "\n",
    "    hl = h_l(alpha, W, grad, Xt, Yt)\n",
    "\n",
    "    it = 0\n",
    "    it_max = int(np.ceil(np.log(alpha_u - alpha_l) - np.log(1e-5))/np.log(2))\n",
    "    while (it < it_max):\n",
    "        it += 1\n",
    "        if hl > 0:\n",
    "            alpha_u = alpha\n",
    "        elif hl < 0:\n",
    "            alpha_l = alpha\n",
    "\n",
    "        alpha = (alpha_l + alpha_u) / 2\n",
    "        hl = h_l(alpha, W, grad, Xt, Yt)\n",
    "\n",
    "    return alpha"
   ]
  },
  {
   "cell_type": "code",
   "execution_count": 159,
   "id": "0162e9ec-bb0c-4f4a-ba49-0aaafc4d52a1",
   "metadata": {},
   "outputs": [],
   "source": [
    "def h_l(alpha, W, grad, Xt, Yt):\n",
    "    Wi = W - alpha * grad\n",
    "    S = softmax(Xt, Wi).flatten()\n",
    "    \n",
    "    erro = S - Yt\n",
    "    grad_alpha = np.matmul(erro.T, Xt).flatten()\n",
    "\n",
    "    return np.dot(grad_alpha.T, -grad.flatten())"
   ]
  },
  {
   "cell_type": "code",
   "execution_count": 151,
   "id": "cdebaf02-690c-40f5-967d-d0af1645ecb5",
   "metadata": {},
   "outputs": [],
   "source": [
    "def softmax(Xt, W):\n",
    "    S = np.matmul(Xt, W.T)\n",
    "    expY = np.exp(S)\n",
    "    return  expY / np.sum(expY, axis=1).reshape(S.shape[0], 1)"
   ]
  },
  {
   "cell_type": "code",
   "execution_count": 123,
   "id": "cbd68751-aa17-407a-ac3f-b83e2753ab39",
   "metadata": {},
   "outputs": [],
   "source": [
    "def binary_cross_entropy(y_true, y_pred):\n",
    "    y_pred = np.clip(y_pred, 1e-7, 1 - 1e-7)\n",
    "    term_0 = (1-y_true) * np.log(1-y_pred + 1e-7)\n",
    "    term_1 = y_true * np.log(y_pred + 1e-7)\n",
    "    return -np.mean(term_0+term_1, axis=0)"
   ]
  },
  {
   "cell_type": "code",
   "execution_count": 79,
   "id": "40309790-955b-4ef5-9d79-f3303fb3fe58",
   "metadata": {},
   "outputs": [],
   "source": [
    "# número de saídas\n",
    "k = 1"
   ]
  },
  {
   "cell_type": "code",
   "execution_count": 160,
   "id": "ae2a2adb-94b9-44ff-983a-8f976c0fd297",
   "metadata": {},
   "outputs": [
    {
     "name": "stdout",
     "output_type": "stream",
     "text": [
      "W [[0.1048872  0.15567607 0.00203695]]\n",
      "S [1. 1. 1. 1.]\n",
      "Xt [[0. 0. 1.]\n",
      " [1. 0. 1.]\n",
      " [0. 1. 1.]\n",
      " [1. 1. 1.]]\n",
      "W [[-246.80515689 -246.75436802 -493.81805124]]\n",
      "Xt [[0. 0. 1.]\n",
      " [1. 0. 1.]\n",
      " [0. 1. 1.]\n",
      " [1. 1. 1.]]\n",
      "W [[nan nan nan]]\n"
     ]
    },
    {
     "name": "stderr",
     "output_type": "stream",
     "text": [
      "/var/folders/bl/_mb22ns55vs2vl4n587ksnr00000gp/T/ipykernel_14236/2817369173.py:4: RuntimeWarning: invalid value encountered in divide\n",
      "  return  expY / np.sum(expY, axis=1).reshape(S.shape[0], 1)\n"
     ]
    },
    {
     "data": {
      "image/png": "[encoded data removed]",
      "text/plain": [
       "<Figure size 640x480 with 1 Axes>"
      ]
     },
     "metadata": {},
     "output_type": "display_data"
    }
   ],
   "source": [
    "W = regression(Xt, y, k)"
   ]
  },
  {
   "cell_type": "code",
   "execution_count": null,
   "id": "26824839-ebb6-4699-90c4-ff7d6c88463c",
   "metadata": {},
   "outputs": [],
   "source": []
  }
 ],
 "metadata": {
  "kernelspec": {
   "display_name": "Python 3 (ipykernel)",
   "language": "python",
   "name": "python3"
  },
  "language_info": {
   "codemirror_mode": {
    "name": "ipython",
    "version": 3
   },
   "file_extension": ".py",
   "mimetype": "text/x-python",
   "name": "python",
   "nbconvert_exporter": "python",
   "pygments_lexer": "ipython3",
   "version": "3.8.0"
  }
 },
 "nbformat": 4,
 "nbformat_minor": 5
}
