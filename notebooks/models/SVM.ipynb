{
 "cells": [
  {
   "cell_type": "markdown",
   "metadata": {
    "id": "Mr1AclND4jic"
   },
   "source": [
    "## SVM para classificação:"
   ]
  },
  {
   "cell_type": "markdown",
   "metadata": {
    "id": "rtT2TD7E0gJS"
   },
   "source": [
    "Entrada: um vetor unificado com as características das duas imagens sendo a última coluna 1 (mesma pessoa) ou 0 (pessoa diferente)"
   ]
  },
  {
   "cell_type": "markdown",
   "metadata": {
    "id": "kz-ZTCjn4ujW"
   },
   "source": [
    "Passos: verificar vetor e definir se 1 ou 0, baseado na lógica da sequência de features"
   ]
  },
  {
   "cell_type": "markdown",
   "metadata": {
    "id": "FgzuEdH84whV"
   },
   "source": [
    "Saída: 1 ou 0"
   ]
  },
  {
   "cell_type": "code",
   "execution_count": 1,
   "metadata": {
    "id": "pJ5lmOp0lbzr"
   },
   "outputs": [],
   "source": [
    "import pandas as pd\n",
    "import numpy as np\n",
    "\n",
    "from sklearn.metrics import classification_report"
   ]
  },
  {
   "cell_type": "markdown",
   "metadata": {},
   "source": [
    "## HOG"
   ]
  },
  {
   "cell_type": "code",
   "execution_count": 2,
   "metadata": {
    "id": "UQs8XImKhjQB"
   },
   "outputs": [],
   "source": [
    "#carregar os dados\n",
    "\n",
    "hog = pd.read_parquet('../../data/preprocessed/feature_matrix_hog.parquet', engine='pyarrow') "
   ]
  },
  {
   "cell_type": "code",
   "execution_count": 3,
   "metadata": {
    "colab": {
     "base_uri": "https://localhost:8080/",
     "height": 300
    },
    "id": "5-yaq9QtncDM",
    "outputId": "0e528f0e-2bc3-4163-f1fe-767af7b50f4b"
   },
   "outputs": [
    {
     "data": {
      "text/html": [
       "<div>\n",
       "<style scoped>\n",
       "    .dataframe tbody tr th:only-of-type {\n",
       "        vertical-align: middle;\n",
       "    }\n",
       "\n",
       "    .dataframe tbody tr th {\n",
       "        vertical-align: top;\n",
       "    }\n",
       "\n",
       "    .dataframe thead th {\n",
       "        text-align: right;\n",
       "    }\n",
       "</style>\n",
       "<table border=\"1\" class=\"dataframe\">\n",
       "  <thead>\n",
       "    <tr style=\"text-align: right;\">\n",
       "      <th></th>\n",
       "      <th>0</th>\n",
       "      <th>1</th>\n",
       "      <th>2</th>\n",
       "      <th>3</th>\n",
       "      <th>4</th>\n",
       "      <th>5</th>\n",
       "      <th>6</th>\n",
       "      <th>7</th>\n",
       "      <th>8</th>\n",
       "      <th>9</th>\n",
       "      <th>...</th>\n",
       "      <th>51</th>\n",
       "      <th>52</th>\n",
       "      <th>53</th>\n",
       "      <th>54</th>\n",
       "      <th>55</th>\n",
       "      <th>56</th>\n",
       "      <th>57</th>\n",
       "      <th>58</th>\n",
       "      <th>59</th>\n",
       "      <th>match</th>\n",
       "    </tr>\n",
       "  </thead>\n",
       "  <tbody>\n",
       "    <tr>\n",
       "      <th>0</th>\n",
       "      <td>2.306814</td>\n",
       "      <td>3.954538</td>\n",
       "      <td>3.624993</td>\n",
       "      <td>3.460221</td>\n",
       "      <td>2.636359</td>\n",
       "      <td>3.130676</td>\n",
       "      <td>2.636359</td>\n",
       "      <td>2.306814</td>\n",
       "      <td>1.647724</td>\n",
       "      <td>2.636359</td>\n",
       "      <td>...</td>\n",
       "      <td>0.295641</td>\n",
       "      <td>0.000000</td>\n",
       "      <td>0.295641</td>\n",
       "      <td>0.000000</td>\n",
       "      <td>0.000000</td>\n",
       "      <td>0.147820</td>\n",
       "      <td>0.000000</td>\n",
       "      <td>0.000000</td>\n",
       "      <td>0.147820</td>\n",
       "      <td>True</td>\n",
       "    </tr>\n",
       "    <tr>\n",
       "      <th>1</th>\n",
       "      <td>2.193303</td>\n",
       "      <td>2.976625</td>\n",
       "      <td>3.759947</td>\n",
       "      <td>3.603283</td>\n",
       "      <td>4.073276</td>\n",
       "      <td>4.073276</td>\n",
       "      <td>1.253316</td>\n",
       "      <td>1.409980</td>\n",
       "      <td>2.349967</td>\n",
       "      <td>0.939987</td>\n",
       "      <td>...</td>\n",
       "      <td>0.500357</td>\n",
       "      <td>0.333572</td>\n",
       "      <td>0.333572</td>\n",
       "      <td>0.000000</td>\n",
       "      <td>0.333572</td>\n",
       "      <td>0.000000</td>\n",
       "      <td>0.500357</td>\n",
       "      <td>0.000000</td>\n",
       "      <td>0.166786</td>\n",
       "      <td>True</td>\n",
       "    </tr>\n",
       "    <tr>\n",
       "      <th>2</th>\n",
       "      <td>3.875630</td>\n",
       "      <td>3.720604</td>\n",
       "      <td>3.100504</td>\n",
       "      <td>3.410554</td>\n",
       "      <td>3.100504</td>\n",
       "      <td>4.030655</td>\n",
       "      <td>1.860302</td>\n",
       "      <td>1.860302</td>\n",
       "      <td>1.550252</td>\n",
       "      <td>1.395227</td>\n",
       "      <td>...</td>\n",
       "      <td>0.482976</td>\n",
       "      <td>0.160992</td>\n",
       "      <td>0.321984</td>\n",
       "      <td>0.160992</td>\n",
       "      <td>0.321984</td>\n",
       "      <td>0.160992</td>\n",
       "      <td>0.160992</td>\n",
       "      <td>0.160992</td>\n",
       "      <td>0.160992</td>\n",
       "      <td>True</td>\n",
       "    </tr>\n",
       "    <tr>\n",
       "      <th>3</th>\n",
       "      <td>4.624305</td>\n",
       "      <td>3.545300</td>\n",
       "      <td>3.545300</td>\n",
       "      <td>2.466296</td>\n",
       "      <td>3.391157</td>\n",
       "      <td>2.928726</td>\n",
       "      <td>1.849722</td>\n",
       "      <td>2.158009</td>\n",
       "      <td>1.387291</td>\n",
       "      <td>1.695578</td>\n",
       "      <td>...</td>\n",
       "      <td>0.132290</td>\n",
       "      <td>0.132290</td>\n",
       "      <td>0.132290</td>\n",
       "      <td>0.000000</td>\n",
       "      <td>0.000000</td>\n",
       "      <td>0.000000</td>\n",
       "      <td>0.132290</td>\n",
       "      <td>0.000000</td>\n",
       "      <td>0.132290</td>\n",
       "      <td>True</td>\n",
       "    </tr>\n",
       "    <tr>\n",
       "      <th>4</th>\n",
       "      <td>2.934841</td>\n",
       "      <td>4.255520</td>\n",
       "      <td>4.549004</td>\n",
       "      <td>3.962035</td>\n",
       "      <td>3.521809</td>\n",
       "      <td>1.614163</td>\n",
       "      <td>1.614163</td>\n",
       "      <td>1.467421</td>\n",
       "      <td>0.733710</td>\n",
       "      <td>1.173936</td>\n",
       "      <td>...</td>\n",
       "      <td>0.501895</td>\n",
       "      <td>0.167298</td>\n",
       "      <td>0.167298</td>\n",
       "      <td>0.334597</td>\n",
       "      <td>0.167298</td>\n",
       "      <td>0.167298</td>\n",
       "      <td>0.000000</td>\n",
       "      <td>0.000000</td>\n",
       "      <td>0.334597</td>\n",
       "      <td>True</td>\n",
       "    </tr>\n",
       "  </tbody>\n",
       "</table>\n",
       "<p>5 rows × 61 columns</p>\n",
       "</div>"
      ],
      "text/plain": [
       "          0         1         2         3         4         5         6  \\\n",
       "0  2.306814  3.954538  3.624993  3.460221  2.636359  3.130676  2.636359   \n",
       "1  2.193303  2.976625  3.759947  3.603283  4.073276  4.073276  1.253316   \n",
       "2  3.875630  3.720604  3.100504  3.410554  3.100504  4.030655  1.860302   \n",
       "3  4.624305  3.545300  3.545300  2.466296  3.391157  2.928726  1.849722   \n",
       "4  2.934841  4.255520  4.549004  3.962035  3.521809  1.614163  1.614163   \n",
       "\n",
       "          7         8         9  ...        51        52        53        54  \\\n",
       "0  2.306814  1.647724  2.636359  ...  0.295641  0.000000  0.295641  0.000000   \n",
       "1  1.409980  2.349967  0.939987  ...  0.500357  0.333572  0.333572  0.000000   \n",
       "2  1.860302  1.550252  1.395227  ...  0.482976  0.160992  0.321984  0.160992   \n",
       "3  2.158009  1.387291  1.695578  ...  0.132290  0.132290  0.132290  0.000000   \n",
       "4  1.467421  0.733710  1.173936  ...  0.501895  0.167298  0.167298  0.334597   \n",
       "\n",
       "         55        56        57        58        59  match  \n",
       "0  0.000000  0.147820  0.000000  0.000000  0.147820   True  \n",
       "1  0.333572  0.000000  0.500357  0.000000  0.166786   True  \n",
       "2  0.321984  0.160992  0.160992  0.160992  0.160992   True  \n",
       "3  0.000000  0.000000  0.132290  0.000000  0.132290   True  \n",
       "4  0.167298  0.167298  0.000000  0.000000  0.334597   True  \n",
       "\n",
       "[5 rows x 61 columns]"
      ]
     },
     "execution_count": 3,
     "metadata": {},
     "output_type": "execute_result"
    }
   ],
   "source": [
    "hog.head()"
   ]
  },
  {
   "cell_type": "code",
   "execution_count": 4,
   "metadata": {},
   "outputs": [
    {
     "data": {
      "text/plain": [
       "(3197, 61)"
      ]
     },
     "execution_count": 4,
     "metadata": {},
     "output_type": "execute_result"
    }
   ],
   "source": [
    "hog.shape"
   ]
  },
  {
   "cell_type": "code",
   "execution_count": 5,
   "metadata": {},
   "outputs": [],
   "source": [
    "X = hog.iloc[:, 0:-1].values\n",
    "y = hog.iloc[:, -1].values"
   ]
  },
  {
   "cell_type": "code",
   "execution_count": 6,
   "metadata": {},
   "outputs": [
    {
     "data": {
      "text/plain": [
       "(3197, 60)"
      ]
     },
     "execution_count": 6,
     "metadata": {},
     "output_type": "execute_result"
    }
   ],
   "source": [
    "X.shape"
   ]
  },
  {
   "cell_type": "code",
   "execution_count": 7,
   "metadata": {},
   "outputs": [
    {
     "data": {
      "text/plain": [
       "(3197,)"
      ]
     },
     "execution_count": 7,
     "metadata": {},
     "output_type": "execute_result"
    }
   ],
   "source": [
    "y.shape"
   ]
  },
  {
   "cell_type": "code",
   "execution_count": 8,
   "metadata": {},
   "outputs": [
    {
     "data": {
      "text/plain": [
       "array([True, True, True, ..., False, False, False], dtype=object)"
      ]
     },
     "execution_count": 8,
     "metadata": {},
     "output_type": "execute_result"
    }
   ],
   "source": [
    "y"
   ]
  },
  {
   "cell_type": "code",
   "execution_count": 9,
   "metadata": {},
   "outputs": [],
   "source": [
    "y = [int(tag is True) for tag in y]"
   ]
  },
  {
   "cell_type": "code",
   "execution_count": 10,
   "metadata": {},
   "outputs": [],
   "source": [
    "y = np.array(y)"
   ]
  },
  {
   "cell_type": "code",
   "execution_count": 11,
   "metadata": {
    "tags": []
   },
   "outputs": [],
   "source": [
    "y = 2*y-1"
   ]
  },
  {
   "cell_type": "code",
   "execution_count": 12,
   "metadata": {},
   "outputs": [
    {
     "name": "stdout",
     "output_type": "stream",
     "text": [
      "Requirement already satisfied: cvxopt in /Library/Frameworks/Python.framework/Versions/3.8/lib/python3.8/site-packages (1.3.0)\n"
     ]
    }
   ],
   "source": [
    "!pip install cvxopt"
   ]
  },
  {
   "cell_type": "code",
   "execution_count": 13,
   "metadata": {},
   "outputs": [],
   "source": [
    "from cvxopt import matrix as cvxopt_matrix\n",
    "from cvxopt import solvers as cvxopt_solvers"
   ]
  },
  {
   "cell_type": "markdown",
   "metadata": {},
   "source": [
    "### Kernel linear"
   ]
  },
  {
   "cell_type": "code",
   "execution_count": 14,
   "metadata": {},
   "outputs": [],
   "source": [
    "def kernel_linear(X, y):\n",
    "    X_dash = y * X\n",
    "    return np.dot(X_dash, X_dash.T) * 1."
   ]
  },
  {
   "cell_type": "code",
   "execution_count": 15,
   "metadata": {},
   "outputs": [],
   "source": [
    "y = y.reshape(-1,1) * 1."
   ]
  },
  {
   "cell_type": "code",
   "execution_count": 16,
   "metadata": {},
   "outputs": [],
   "source": [
    "H = kernel_linear(X, y)"
   ]
  },
  {
   "cell_type": "code",
   "execution_count": 17,
   "metadata": {},
   "outputs": [],
   "source": [
    "C = 1000\n",
    "m, n = X.shape"
   ]
  },
  {
   "cell_type": "code",
   "execution_count": 18,
   "metadata": {
    "tags": []
   },
   "outputs": [
    {
     "name": "stdout",
     "output_type": "stream",
     "text": [
      "     pcost       dcost       gap    pres   dres\n",
      " 0: -1.3853e+06 -8.6594e+08  9e+08  3e-10  1e-07\n",
      " 1: -1.5709e+06 -1.1923e+07  1e+07  1e-10  1e-07\n",
      " 2: -1.9437e+06 -3.2118e+06  1e+06  5e-10  1e-07\n",
      " 3: -2.6166e+06 -3.1189e+06  5e+05  5e-11  2e-07\n",
      " 4: -2.7951e+06 -3.0453e+06  3e+05  2e-09  2e-07\n",
      " 5: -2.8899e+06 -3.0016e+06  1e+05  1e-09  2e-07\n",
      " 6: -2.9348e+06 -2.9804e+06  5e+04  1e-10  2e-07\n",
      " 7: -2.9507e+06 -2.9714e+06  2e+04  8e-10  2e-07\n",
      " 8: -2.9593e+06 -2.9662e+06  7e+03  7e-10  2e-07\n",
      " 9: -2.9614e+06 -2.9645e+06  3e+03  3e-10  2e-07\n",
      "10: -2.9625e+06 -2.9636e+06  1e+03  9e-10  2e-07\n",
      "11: -2.9629e+06 -2.9633e+06  4e+02  6e-10  2e-07\n",
      "12: -2.9630e+06 -2.9631e+06  7e+01  4e-10  2e-07\n",
      "13: -2.9631e+06 -2.9631e+06  2e+01  2e-09  2e-07\n",
      "14: -2.9631e+06 -2.9631e+06  3e+00  2e-09  2e-07\n",
      "15: -2.9631e+06 -2.9631e+06  6e-02  4e-10  2e-07\n",
      "16: -2.9631e+06 -2.9631e+06  6e-04  5e-10  2e-07\n",
      "17: -2.9631e+06 -2.9631e+06  6e-06  6e-10  2e-07\n",
      "18: -2.9631e+06 -2.9631e+06  6e-08  1e-09  2e-07\n",
      "19: -2.9631e+06 -2.9631e+06  6e-10  5e-10  2e-07\n",
      "Terminated (singular KKT matrix).\n"
     ]
    }
   ],
   "source": [
    "#Converting into cvxopt format - as previously\n",
    "P = cvxopt_matrix(H)\n",
    "q = cvxopt_matrix(-np.ones((m, 1)))\n",
    "G = cvxopt_matrix(np.vstack((np.eye(m)*-1,np.eye(m))))\n",
    "h = cvxopt_matrix(np.hstack((np.zeros(m), np.ones(m) * C)))\n",
    "A = cvxopt_matrix(y.reshape(1, -1))\n",
    "b = cvxopt_matrix(np.zeros(1))\n",
    "\n",
    "#Run solver\n",
    "sol = cvxopt_solvers.qp(P, q, G, h, A, b)\n",
    "alphas = np.array(sol['x'])"
   ]
  },
  {
   "cell_type": "code",
   "execution_count": 19,
   "metadata": {},
   "outputs": [
    {
     "name": "stdout",
     "output_type": "stream",
     "text": [
      "Alphas =  [1000. 1000. 1000. ... 1000. 1000. 1000.]\n",
      "w =  [ 0.09798541  0.22309909  0.30456065  0.42259339  0.34636078  0.1175113\n",
      "  0.04521523  0.13845738  0.13588141 -0.09621655 -0.35189821 -0.04528985\n",
      "  0.03543911 -0.34098364  0.21363465  0.14527136 -0.35864964  0.36436851\n",
      " -0.15327086 -0.0856962   0.05330152 -0.4121907  -0.42683544  0.18351369\n",
      "  1.02959916  0.70508263  0.56399668  0.25539109  0.04668104 -0.74451809\n",
      "  0.19389498 -0.02783845  0.07541202 -0.04998555  0.10113865  0.00287325\n",
      "  0.18218848 -0.05385237  0.16767567 -0.21778907  0.27298719  0.33837374\n",
      " -0.13047347 -0.08157393 -0.12728968 -0.25715156  0.09744519  0.04842594\n",
      " -0.2582964   0.12489336  0.08253298 -0.14330269 -0.10427462 -0.64164057\n",
      " -0.21134168  0.23415632 -0.506652   -0.66449234  0.82825806  0.82324396]\n",
      "b =  [-5.37662944]\n"
     ]
    }
   ],
   "source": [
    "w = ((y * alphas).T @ X).reshape(-1,1)\n",
    "S = (alphas > 1e-4).flatten()\n",
    "b = y[S] - np.dot(X[S], w)\n",
    "\n",
    "#Display results\n",
    "print('Alphas = ',alphas[alphas > 1e-4])\n",
    "print('w = ', w.flatten())\n",
    "print('b = ', b[0])"
   ]
  },
  {
   "cell_type": "code",
   "execution_count": 20,
   "metadata": {},
   "outputs": [
    {
     "data": {
      "text/plain": [
       "(60, 1)"
      ]
     },
     "execution_count": 20,
     "metadata": {},
     "output_type": "execute_result"
    }
   ],
   "source": [
    "w.shape"
   ]
  },
  {
   "cell_type": "code",
   "execution_count": 21,
   "metadata": {},
   "outputs": [
    {
     "data": {
      "text/plain": [
       "(3197, 60)"
      ]
     },
     "execution_count": 21,
     "metadata": {},
     "output_type": "execute_result"
    }
   ],
   "source": [
    "X.shape"
   ]
  },
  {
   "cell_type": "code",
   "execution_count": 22,
   "metadata": {},
   "outputs": [],
   "source": [
    "svm = np.matmul(X, w) + b[0]"
   ]
  },
  {
   "cell_type": "code",
   "execution_count": 23,
   "metadata": {},
   "outputs": [],
   "source": [
    "y_predic = np.where(svm > 0, 1, -1).flatten()"
   ]
  },
  {
   "cell_type": "code",
   "execution_count": 24,
   "metadata": {},
   "outputs": [
    {
     "data": {
      "text/plain": [
       "array([1, 1, 1, ..., 1, 1, 1])"
      ]
     },
     "execution_count": 24,
     "metadata": {},
     "output_type": "execute_result"
    }
   ],
   "source": [
    "y_predic"
   ]
  },
  {
   "cell_type": "code",
   "execution_count": 25,
   "metadata": {},
   "outputs": [
    {
     "name": "stdout",
     "output_type": "stream",
     "text": [
      "              precision    recall  f1-score   support\n",
      "\n",
      "          -1       0.67      0.10      0.18      1598\n",
      "           1       0.51      0.95      0.67      1599\n",
      "\n",
      "    accuracy                           0.53      3197\n",
      "   macro avg       0.59      0.53      0.42      3197\n",
      "weighted avg       0.59      0.53      0.42      3197\n",
      "\n"
     ]
    }
   ],
   "source": [
    "print(classification_report(y_pred=y_predic, y_true=y, labels=[-1,1]))"
   ]
  },
  {
   "cell_type": "markdown",
   "metadata": {},
   "source": [
    "### Kernel polinomial"
   ]
  },
  {
   "cell_type": "code",
   "execution_count": 26,
   "metadata": {},
   "outputs": [],
   "source": [
    "def kernel_polinomial(X, Y, d):\n",
    "    m, _ = X.shape\n",
    "    \n",
    "    K = np.zeros((m, m))\n",
    "    H = np.zeros((m, m))\n",
    "    \n",
    "    for i in range(m):\n",
    "        for j in range(m):    \n",
    "            K[i,j] = (np.matmul(X[i,:], X[j,:].T)+1)**d\n",
    "            H[i,j] = K[i,j] * Y[i] * Y[j]\n",
    "    return H"
   ]
  },
  {
   "cell_type": "code",
   "execution_count": 27,
   "metadata": {},
   "outputs": [],
   "source": [
    "H = kernel_polinomial(X, y, 2)"
   ]
  },
  {
   "cell_type": "code",
   "execution_count": 28,
   "metadata": {},
   "outputs": [
    {
     "name": "stdout",
     "output_type": "stream",
     "text": [
      "     pcost       dcost       gap    pres   dres\n",
      " 0:  3.5218e+07 -2.2737e+09  5e+09  7e-01  8e-06\n",
      " 1:  6.4847e+07 -1.4964e+09  2e+09  2e-01  8e-06\n",
      " 2:  6.1736e+07 -3.8850e+08  5e+08  2e-02  8e-06\n",
      " 3:  3.0436e+07 -1.3320e+08  2e+08  8e-03  6e-06\n",
      " 4:  1.5570e+07 -6.4392e+07  8e+07  3e-03  4e-06\n",
      " 5:  7.0641e+06 -3.0506e+07  4e+07  4e-04  3e-06\n",
      " 6:  1.8186e+06 -5.8481e+06  8e+06  8e-07  2e-06\n",
      " 7:  2.9299e+05 -5.3044e+05  8e+05  2e-08  1e-06\n",
      " 8:  3.7376e+04 -6.7176e+04  1e+05  3e-10  5e-07\n",
      " 9:  1.2855e+03 -1.2556e+04  1e+04  2e-12  2e-07\n",
      "10: -2.6304e+03 -6.0291e+03  3e+03  3e-12  1e-07\n",
      "11: -3.5032e+03 -4.8107e+03  1e+03  6e-12  1e-07\n",
      "12: -3.8525e+03 -4.3173e+03  5e+02  3e-12  1e-07\n",
      "13: -3.9758e+03 -4.0938e+03  1e+02  4e-12  1e-07\n",
      "14: -4.0036e+03 -4.0253e+03  2e+01  7e-13  1e-07\n",
      "15: -4.0089e+03 -4.0113e+03  2e+00  3e-12  1e-07\n",
      "16: -4.0095e+03 -4.0096e+03  9e-02  2e-12  1e-07\n",
      "17: -4.0095e+03 -4.0095e+03  3e-03  4e-12  1e-07\n",
      "18: -4.0095e+03 -4.0095e+03  5e-05  3e-12  1e-07\n",
      "19: -4.0095e+03 -4.0095e+03  8e-07  4e-12  1e-07\n",
      "20: -4.0095e+03 -4.0095e+03  1e-08  1e-12  1e-07\n",
      "21: -4.0095e+03 -4.0095e+03  1e-10  4e-12  1e-07\n",
      "22: -4.0095e+03 -4.0095e+03  1e-12  6e-13  9e-08\n",
      "Optimal solution found.\n"
     ]
    }
   ],
   "source": [
    "#Converting into cvxopt format - as previously\n",
    "P = cvxopt_matrix(H)\n",
    "q = cvxopt_matrix(-np.ones((m, 1)))\n",
    "G = cvxopt_matrix(np.vstack((np.eye(m)*-1,np.eye(m))))\n",
    "h = cvxopt_matrix(np.hstack((np.zeros(m), np.ones(m) * C)))\n",
    "A = cvxopt_matrix(y.reshape(1, -1))\n",
    "b = cvxopt_matrix(np.zeros(1))\n",
    "\n",
    "#Run solver\n",
    "sol = cvxopt_solvers.qp(P, q, G, h, A, b)\n",
    "alphas = np.array(sol['x'])"
   ]
  },
  {
   "cell_type": "code",
   "execution_count": 29,
   "metadata": {},
   "outputs": [
    {
     "data": {
      "text/plain": [
       "array([[4.68222990e-18],\n",
       "       [1.22240143e-17],\n",
       "       [1.02955872e+01],\n",
       "       ...,\n",
       "       [9.52837595e+00],\n",
       "       [9.17816335e-01],\n",
       "       [1.43814584e-17]])"
      ]
     },
     "execution_count": 29,
     "metadata": {},
     "output_type": "execute_result"
    }
   ],
   "source": [
    "alphas"
   ]
  },
  {
   "cell_type": "code",
   "execution_count": 30,
   "metadata": {},
   "outputs": [
    {
     "name": "stdout",
     "output_type": "stream",
     "text": [
      "Alphas =  [10.2955872   1.62078784  6.06442359 ...  2.04555288  9.52837595\n",
      "  0.91781634]\n",
      "w =  [-0.19378313 -2.84180392  0.52390994 -0.38600463 -0.39661725  2.04850772\n",
      "  2.2850974  -0.34898877 -1.40474863  1.78666388 -0.25235854 -2.66296877\n",
      " -0.65136393  0.67041425 -0.44538889 -0.41415153 -2.20786962 -0.23625385\n",
      "  1.03214595 -0.38399717 -0.23905461 -0.70977102 -0.67033348 -0.2982438\n",
      " -0.06797087 -0.23260887 -0.30125072 -0.25709944  0.36850623 -0.63105567\n",
      " -0.19592106 -2.00302349 -0.15187394 -0.30094437 -0.79329879  0.41996458\n",
      "  0.84474022  1.80161277 -0.6059397  -0.14445128  1.44895737 -0.5197869\n",
      " -1.44625934 -1.51115693 -0.00461237 -0.52178741 -0.21185079 -1.27793659\n",
      " -0.36856491  0.64585827 -1.04191541 -0.21356625  0.53708654 -0.46425488\n",
      "  0.8048151  -1.15393125 -0.60239313 -0.35805242  0.12149462 -0.13708455]\n",
      "b =  [18.70679908]\n"
     ]
    }
   ],
   "source": [
    "w = ((y * alphas).T @ X).reshape(-1,1)\n",
    "S = (alphas > 1e-4).flatten()\n",
    "b = y[S] - np.dot(X[S], w)\n",
    "\n",
    "#Display results\n",
    "print('Alphas = ',alphas[alphas > 1e-4])\n",
    "print('w = ', w.flatten())\n",
    "print('b = ', b[0])"
   ]
  },
  {
   "cell_type": "code",
   "execution_count": 31,
   "metadata": {},
   "outputs": [
    {
     "data": {
      "text/plain": [
       "(60, 1)"
      ]
     },
     "execution_count": 31,
     "metadata": {},
     "output_type": "execute_result"
    }
   ],
   "source": [
    "w.shape"
   ]
  },
  {
   "cell_type": "code",
   "execution_count": 32,
   "metadata": {},
   "outputs": [
    {
     "data": {
      "text/plain": [
       "(3197, 60)"
      ]
     },
     "execution_count": 32,
     "metadata": {},
     "output_type": "execute_result"
    }
   ],
   "source": [
    "X.shape"
   ]
  },
  {
   "cell_type": "code",
   "execution_count": 33,
   "metadata": {},
   "outputs": [],
   "source": [
    "svm = np.matmul(X, w) + b[0]"
   ]
  },
  {
   "cell_type": "code",
   "execution_count": 34,
   "metadata": {},
   "outputs": [],
   "source": [
    "y_predic = np.where(svm > 0, 1, -1).flatten()"
   ]
  },
  {
   "cell_type": "code",
   "execution_count": 35,
   "metadata": {},
   "outputs": [
    {
     "data": {
      "text/plain": [
       "array([1, 1, 1, ..., 1, 1, 1])"
      ]
     },
     "execution_count": 35,
     "metadata": {},
     "output_type": "execute_result"
    }
   ],
   "source": [
    "y_predic"
   ]
  },
  {
   "cell_type": "code",
   "execution_count": 36,
   "metadata": {},
   "outputs": [
    {
     "name": "stdout",
     "output_type": "stream",
     "text": [
      "              precision    recall  f1-score   support\n",
      "\n",
      "          -1       0.50      0.37      0.43      1598\n",
      "           1       0.50      0.62      0.55      1599\n",
      "\n",
      "    accuracy                           0.50      3197\n",
      "   macro avg       0.50      0.50      0.49      3197\n",
      "weighted avg       0.50      0.50      0.49      3197\n",
      "\n"
     ]
    }
   ],
   "source": [
    "print(classification_report(y_pred=y_predic, y_true=y, labels=[-1,1]))"
   ]
  },
  {
   "cell_type": "markdown",
   "metadata": {},
   "source": [
    "## LBP"
   ]
  },
  {
   "cell_type": "code",
   "execution_count": 37,
   "metadata": {
    "id": "UQs8XImKhjQB"
   },
   "outputs": [],
   "source": [
    "#carregar os dados\n",
    "\n",
    "lbp = pd.read_parquet('../../data/preprocessed/feature_matrix_lbp.parquet', engine='pyarrow') "
   ]
  },
  {
   "cell_type": "code",
   "execution_count": 38,
   "metadata": {
    "colab": {
     "base_uri": "https://localhost:8080/",
     "height": 300
    },
    "id": "5-yaq9QtncDM",
    "outputId": "0e528f0e-2bc3-4163-f1fe-767af7b50f4b"
   },
   "outputs": [
    {
     "data": {
      "text/html": [
       "<div>\n",
       "<style scoped>\n",
       "    .dataframe tbody tr th:only-of-type {\n",
       "        vertical-align: middle;\n",
       "    }\n",
       "\n",
       "    .dataframe tbody tr th {\n",
       "        vertical-align: top;\n",
       "    }\n",
       "\n",
       "    .dataframe thead th {\n",
       "        text-align: right;\n",
       "    }\n",
       "</style>\n",
       "<table border=\"1\" class=\"dataframe\">\n",
       "  <thead>\n",
       "    <tr style=\"text-align: right;\">\n",
       "      <th></th>\n",
       "      <th>0</th>\n",
       "      <th>1</th>\n",
       "      <th>2</th>\n",
       "      <th>3</th>\n",
       "      <th>4</th>\n",
       "      <th>5</th>\n",
       "      <th>6</th>\n",
       "      <th>7</th>\n",
       "      <th>8</th>\n",
       "      <th>9</th>\n",
       "      <th>...</th>\n",
       "      <th>51</th>\n",
       "      <th>52</th>\n",
       "      <th>53</th>\n",
       "      <th>54</th>\n",
       "      <th>55</th>\n",
       "      <th>56</th>\n",
       "      <th>57</th>\n",
       "      <th>58</th>\n",
       "      <th>59</th>\n",
       "      <th>match</th>\n",
       "    </tr>\n",
       "  </thead>\n",
       "  <tbody>\n",
       "    <tr>\n",
       "      <th>0</th>\n",
       "      <td>0.624000</td>\n",
       "      <td>0.0</td>\n",
       "      <td>0.0</td>\n",
       "      <td>0.0</td>\n",
       "      <td>0.673524</td>\n",
       "      <td>0.0</td>\n",
       "      <td>0.0</td>\n",
       "      <td>0.0</td>\n",
       "      <td>0.367238</td>\n",
       "      <td>0.0</td>\n",
       "      <td>...</td>\n",
       "      <td>0.502857</td>\n",
       "      <td>0.0</td>\n",
       "      <td>0.0</td>\n",
       "      <td>0.0</td>\n",
       "      <td>0.448762</td>\n",
       "      <td>0.0</td>\n",
       "      <td>0.0</td>\n",
       "      <td>0.0</td>\n",
       "      <td>0.417524</td>\n",
       "      <td>True</td>\n",
       "    </tr>\n",
       "    <tr>\n",
       "      <th>1</th>\n",
       "      <td>0.729143</td>\n",
       "      <td>0.0</td>\n",
       "      <td>0.0</td>\n",
       "      <td>0.0</td>\n",
       "      <td>0.736762</td>\n",
       "      <td>0.0</td>\n",
       "      <td>0.0</td>\n",
       "      <td>0.0</td>\n",
       "      <td>0.450286</td>\n",
       "      <td>0.0</td>\n",
       "      <td>...</td>\n",
       "      <td>0.271238</td>\n",
       "      <td>0.0</td>\n",
       "      <td>0.0</td>\n",
       "      <td>0.0</td>\n",
       "      <td>0.848762</td>\n",
       "      <td>0.0</td>\n",
       "      <td>0.0</td>\n",
       "      <td>0.0</td>\n",
       "      <td>0.412190</td>\n",
       "      <td>True</td>\n",
       "    </tr>\n",
       "    <tr>\n",
       "      <th>2</th>\n",
       "      <td>0.688000</td>\n",
       "      <td>0.0</td>\n",
       "      <td>0.0</td>\n",
       "      <td>0.0</td>\n",
       "      <td>0.857905</td>\n",
       "      <td>0.0</td>\n",
       "      <td>0.0</td>\n",
       "      <td>0.0</td>\n",
       "      <td>0.317714</td>\n",
       "      <td>0.0</td>\n",
       "      <td>...</td>\n",
       "      <td>0.561524</td>\n",
       "      <td>0.0</td>\n",
       "      <td>0.0</td>\n",
       "      <td>0.0</td>\n",
       "      <td>0.592000</td>\n",
       "      <td>0.0</td>\n",
       "      <td>0.0</td>\n",
       "      <td>0.0</td>\n",
       "      <td>0.550095</td>\n",
       "      <td>True</td>\n",
       "    </tr>\n",
       "    <tr>\n",
       "      <th>3</th>\n",
       "      <td>0.652190</td>\n",
       "      <td>0.0</td>\n",
       "      <td>0.0</td>\n",
       "      <td>0.0</td>\n",
       "      <td>0.876190</td>\n",
       "      <td>0.0</td>\n",
       "      <td>0.0</td>\n",
       "      <td>0.0</td>\n",
       "      <td>0.513524</td>\n",
       "      <td>0.0</td>\n",
       "      <td>...</td>\n",
       "      <td>0.228571</td>\n",
       "      <td>0.0</td>\n",
       "      <td>0.0</td>\n",
       "      <td>0.0</td>\n",
       "      <td>0.623238</td>\n",
       "      <td>0.0</td>\n",
       "      <td>0.0</td>\n",
       "      <td>0.0</td>\n",
       "      <td>0.579048</td>\n",
       "      <td>True</td>\n",
       "    </tr>\n",
       "    <tr>\n",
       "      <th>4</th>\n",
       "      <td>0.670476</td>\n",
       "      <td>0.0</td>\n",
       "      <td>0.0</td>\n",
       "      <td>0.0</td>\n",
       "      <td>0.649143</td>\n",
       "      <td>0.0</td>\n",
       "      <td>0.0</td>\n",
       "      <td>0.0</td>\n",
       "      <td>0.673524</td>\n",
       "      <td>0.0</td>\n",
       "      <td>...</td>\n",
       "      <td>0.369524</td>\n",
       "      <td>0.0</td>\n",
       "      <td>0.0</td>\n",
       "      <td>0.0</td>\n",
       "      <td>0.711619</td>\n",
       "      <td>0.0</td>\n",
       "      <td>0.0</td>\n",
       "      <td>0.0</td>\n",
       "      <td>0.518857</td>\n",
       "      <td>True</td>\n",
       "    </tr>\n",
       "  </tbody>\n",
       "</table>\n",
       "<p>5 rows × 61 columns</p>\n",
       "</div>"
      ],
      "text/plain": [
       "          0    1    2    3         4    5    6    7         8    9  ...  \\\n",
       "0  0.624000  0.0  0.0  0.0  0.673524  0.0  0.0  0.0  0.367238  0.0  ...   \n",
       "1  0.729143  0.0  0.0  0.0  0.736762  0.0  0.0  0.0  0.450286  0.0  ...   \n",
       "2  0.688000  0.0  0.0  0.0  0.857905  0.0  0.0  0.0  0.317714  0.0  ...   \n",
       "3  0.652190  0.0  0.0  0.0  0.876190  0.0  0.0  0.0  0.513524  0.0  ...   \n",
       "4  0.670476  0.0  0.0  0.0  0.649143  0.0  0.0  0.0  0.673524  0.0  ...   \n",
       "\n",
       "         51   52   53   54        55   56   57   58        59  match  \n",
       "0  0.502857  0.0  0.0  0.0  0.448762  0.0  0.0  0.0  0.417524   True  \n",
       "1  0.271238  0.0  0.0  0.0  0.848762  0.0  0.0  0.0  0.412190   True  \n",
       "2  0.561524  0.0  0.0  0.0  0.592000  0.0  0.0  0.0  0.550095   True  \n",
       "3  0.228571  0.0  0.0  0.0  0.623238  0.0  0.0  0.0  0.579048   True  \n",
       "4  0.369524  0.0  0.0  0.0  0.711619  0.0  0.0  0.0  0.518857   True  \n",
       "\n",
       "[5 rows x 61 columns]"
      ]
     },
     "execution_count": 38,
     "metadata": {},
     "output_type": "execute_result"
    }
   ],
   "source": [
    "lbp.head()"
   ]
  },
  {
   "cell_type": "code",
   "execution_count": 39,
   "metadata": {},
   "outputs": [
    {
     "data": {
      "text/plain": [
       "(3197, 61)"
      ]
     },
     "execution_count": 39,
     "metadata": {},
     "output_type": "execute_result"
    }
   ],
   "source": [
    "lbp.shape"
   ]
  },
  {
   "cell_type": "code",
   "execution_count": 40,
   "metadata": {},
   "outputs": [],
   "source": [
    "X = lbp.iloc[:, 0:-1].values\n",
    "y = lbp.iloc[:, -1].values"
   ]
  },
  {
   "cell_type": "code",
   "execution_count": 41,
   "metadata": {},
   "outputs": [
    {
     "data": {
      "text/plain": [
       "(3197, 60)"
      ]
     },
     "execution_count": 41,
     "metadata": {},
     "output_type": "execute_result"
    }
   ],
   "source": [
    "X.shape"
   ]
  },
  {
   "cell_type": "code",
   "execution_count": 42,
   "metadata": {},
   "outputs": [
    {
     "data": {
      "text/plain": [
       "(3197,)"
      ]
     },
     "execution_count": 42,
     "metadata": {},
     "output_type": "execute_result"
    }
   ],
   "source": [
    "y.shape"
   ]
  },
  {
   "cell_type": "code",
   "execution_count": 43,
   "metadata": {},
   "outputs": [
    {
     "data": {
      "text/plain": [
       "array([True, True, True, ..., False, False, False], dtype=object)"
      ]
     },
     "execution_count": 43,
     "metadata": {},
     "output_type": "execute_result"
    }
   ],
   "source": [
    "y"
   ]
  },
  {
   "cell_type": "code",
   "execution_count": 44,
   "metadata": {},
   "outputs": [],
   "source": [
    "y = [int(tag is True) for tag in y]"
   ]
  },
  {
   "cell_type": "code",
   "execution_count": 45,
   "metadata": {},
   "outputs": [],
   "source": [
    "y = np.array(y)"
   ]
  },
  {
   "cell_type": "code",
   "execution_count": 46,
   "metadata": {
    "tags": []
   },
   "outputs": [],
   "source": [
    "y = 2*y-1"
   ]
  },
  {
   "cell_type": "code",
   "execution_count": 47,
   "metadata": {},
   "outputs": [],
   "source": [
    "C = 1000\n",
    "m, n = X.shape"
   ]
  },
  {
   "cell_type": "code",
   "execution_count": 48,
   "metadata": {},
   "outputs": [
    {
     "data": {
      "text/plain": [
       "array([ 1,  1,  1, ..., -1, -1, -1])"
      ]
     },
     "execution_count": 48,
     "metadata": {},
     "output_type": "execute_result"
    }
   ],
   "source": [
    "y"
   ]
  },
  {
   "cell_type": "markdown",
   "metadata": {},
   "source": [
    "### Kernel linear"
   ]
  },
  {
   "cell_type": "code",
   "execution_count": 50,
   "metadata": {},
   "outputs": [],
   "source": [
    "y = y.reshape(-1,1) * 1."
   ]
  },
  {
   "cell_type": "code",
   "execution_count": 51,
   "metadata": {},
   "outputs": [],
   "source": [
    "H = kernel_linear(X, y)"
   ]
  },
  {
   "cell_type": "code",
   "execution_count": 52,
   "metadata": {
    "tags": []
   },
   "outputs": [
    {
     "name": "stdout",
     "output_type": "stream",
     "text": [
      "     pcost       dcost       gap    pres   dres\n",
      " 0: -1.2799e+06 -5.6973e+08  6e+08  2e-11  3e-09\n",
      " 1: -1.5992e+06 -9.4829e+06  8e+06  6e-10  4e-09\n",
      " 2: -2.1150e+06 -3.2279e+06  1e+06  4e-10  4e-09\n",
      " 3: -2.6129e+06 -3.2025e+06  6e+05  8e-10  4e-09\n",
      " 4: -2.8551e+06 -3.1556e+06  3e+05  1e-10  5e-09\n",
      " 5: -2.9569e+06 -3.1372e+06  2e+05  4e-10  5e-09\n",
      " 6: -3.0173e+06 -3.1196e+06  1e+05  2e-10  5e-09\n",
      " 7: -3.0566e+06 -3.1059e+06  5e+04  9e-10  6e-09\n",
      " 8: -3.0739e+06 -3.0996e+06  3e+04  2e-10  6e-09\n",
      " 9: -3.0829e+06 -3.0957e+06  1e+04  3e-10  6e-09\n",
      "10: -3.0895e+06 -3.0915e+06  2e+03  1e-10  7e-09\n",
      "11: -3.0902e+06 -3.0908e+06  5e+02  1e-09  6e-09\n",
      "12: -3.0905e+06 -3.0905e+06  7e+01  1e-10  6e-09\n",
      "13: -3.0905e+06 -3.0905e+06  6e+00  6e-10  7e-09\n",
      "14: -3.0905e+06 -3.0905e+06  7e-02  2e-11  7e-09\n",
      "Optimal solution found.\n"
     ]
    }
   ],
   "source": [
    "#Converting into cvxopt format - as previously\n",
    "P = cvxopt_matrix(H)\n",
    "q = cvxopt_matrix(-np.ones((m, 1)))\n",
    "G = cvxopt_matrix(np.vstack((np.eye(m)*-1,np.eye(m))))\n",
    "h = cvxopt_matrix(np.hstack((np.zeros(m), np.ones(m) * C)))\n",
    "A = cvxopt_matrix(y.reshape(1, -1))\n",
    "b = cvxopt_matrix(np.zeros(1))\n",
    "\n",
    "#Run solver\n",
    "sol = cvxopt_solvers.qp(P, q, G, h, A, b)\n",
    "alphas = np.array(sol['x'])"
   ]
  },
  {
   "cell_type": "code",
   "execution_count": 53,
   "metadata": {},
   "outputs": [
    {
     "name": "stdout",
     "output_type": "stream",
     "text": [
      "Alphas =  [999.99999399 999.99999183 999.99999199 ... 999.99998349 999.99998898\n",
      " 999.99997967]\n",
      "w =  [ 0.67294253  0.          0.          0.         -0.44144201  0.\n",
      "  0.          0.         -1.90071626  0.          0.          0.\n",
      " -0.04283892  0.          0.          0.          0.          0.29117317\n",
      "  0.          0.          0.         -1.4200326   0.          0.\n",
      "  0.          1.83463819  0.          0.          0.          1.00627589\n",
      "  0.66901781  0.          0.          0.         -0.96820294  0.\n",
      "  0.          0.         -2.18774571  0.          0.          0.\n",
      "  2.20045184  0.          0.          0.          0.         -2.34467648\n",
      "  0.          0.          0.          0.67685784  0.          0.\n",
      "  0.          2.91241287  0.          0.          0.         -0.95811524]\n",
      "b =  [1.3028943]\n"
     ]
    }
   ],
   "source": [
    "w = ((y * alphas).T @ X).reshape(-1,1)\n",
    "S = (alphas > 1e-4).flatten()\n",
    "b = y[S] - np.dot(X[S], w)\n",
    "\n",
    "#Display results\n",
    "print('Alphas = ',alphas[alphas > 1e-4])\n",
    "print('w = ', w.flatten())\n",
    "print('b = ', b[0])"
   ]
  },
  {
   "cell_type": "code",
   "execution_count": 54,
   "metadata": {},
   "outputs": [
    {
     "data": {
      "text/plain": [
       "(60, 1)"
      ]
     },
     "execution_count": 54,
     "metadata": {},
     "output_type": "execute_result"
    }
   ],
   "source": [
    "w.shape"
   ]
  },
  {
   "cell_type": "code",
   "execution_count": 55,
   "metadata": {},
   "outputs": [
    {
     "data": {
      "text/plain": [
       "(3197, 60)"
      ]
     },
     "execution_count": 55,
     "metadata": {},
     "output_type": "execute_result"
    }
   ],
   "source": [
    "X.shape"
   ]
  },
  {
   "cell_type": "code",
   "execution_count": 56,
   "metadata": {},
   "outputs": [],
   "source": [
    "svm = np.matmul(X, w) + b[0]"
   ]
  },
  {
   "cell_type": "code",
   "execution_count": 57,
   "metadata": {},
   "outputs": [],
   "source": [
    "y_predic = np.where(svm > 0, 1, -1).flatten()"
   ]
  },
  {
   "cell_type": "code",
   "execution_count": 58,
   "metadata": {},
   "outputs": [
    {
     "data": {
      "text/plain": [
       "array([1, 1, 1, ..., 1, 1, 1])"
      ]
     },
     "execution_count": 58,
     "metadata": {},
     "output_type": "execute_result"
    }
   ],
   "source": [
    "y_predic"
   ]
  },
  {
   "cell_type": "code",
   "execution_count": 59,
   "metadata": {},
   "outputs": [
    {
     "name": "stdout",
     "output_type": "stream",
     "text": [
      "              precision    recall  f1-score   support\n",
      "\n",
      "          -1       0.75      0.00      0.00      1598\n",
      "           1       0.50      1.00      0.67      1599\n",
      "\n",
      "    accuracy                           0.50      3197\n",
      "   macro avg       0.63      0.50      0.34      3197\n",
      "weighted avg       0.63      0.50      0.34      3197\n",
      "\n"
     ]
    }
   ],
   "source": [
    "print(classification_report(y_pred=y_predic, y_true=y, labels=[-1,1]))"
   ]
  },
  {
   "cell_type": "markdown",
   "metadata": {},
   "source": [
    "### Kernel polinomial"
   ]
  },
  {
   "cell_type": "code",
   "execution_count": 60,
   "metadata": {},
   "outputs": [],
   "source": [
    "H = kernel_polinomial(X, y, 2)"
   ]
  },
  {
   "cell_type": "code",
   "execution_count": 61,
   "metadata": {},
   "outputs": [
    {
     "name": "stdout",
     "output_type": "stream",
     "text": [
      "     pcost       dcost       gap    pres   dres\n",
      " 0:  1.6247e+07 -2.1642e+09  3e+09  3e-01  1e-08\n",
      " 1:  7.3389e+06 -2.6487e+08  3e+08  1e-02  2e-08\n",
      " 2: -2.8029e+05 -5.2709e+07  5e+07  2e-03  2e-08\n",
      " 3: -1.3631e+06 -9.2236e+06  8e+06  2e-04  2e-08\n",
      " 4: -1.7367e+06 -3.3846e+06  2e+06  3e-05  2e-08\n",
      " 5: -2.1542e+06 -2.9344e+06  8e+05  1e-05  3e-08\n",
      " 6: -2.3269e+06 -2.6949e+06  4e+05  5e-06  3e-08\n",
      " 7: -2.4076e+06 -2.5848e+06  2e+05  2e-06  3e-08\n",
      " 8: -2.4438e+06 -2.5363e+06  9e+04  9e-07  3e-08\n",
      " 9: -2.4699e+06 -2.5016e+06  3e+04  3e-07  3e-08\n",
      "10: -2.4781e+06 -2.4908e+06  1e+04  8e-08  3e-08\n",
      "11: -2.4818e+06 -2.4861e+06  4e+03  2e-08  3e-08\n",
      "12: -2.4831e+06 -2.4844e+06  1e+03  5e-09  3e-08\n",
      "13: -2.4836e+06 -2.4839e+06  3e+02  9e-10  3e-08\n",
      "14: -2.4837e+06 -2.4838e+06  1e+02  5e-10  3e-08\n",
      "15: -2.4837e+06 -2.4837e+06  2e+01  1e-09  3e-08\n",
      "16: -2.4837e+06 -2.4837e+06  4e+00  1e-09  4e-08\n",
      "17: -2.4837e+06 -2.4837e+06  1e-01  4e-10  3e-08\n",
      "Optimal solution found.\n"
     ]
    }
   ],
   "source": [
    "#Converting into cvxopt format - as previously\n",
    "P = cvxopt_matrix(H)\n",
    "q = cvxopt_matrix(-np.ones((m, 1)))\n",
    "G = cvxopt_matrix(np.vstack((np.eye(m)*-1,np.eye(m))))\n",
    "h = cvxopt_matrix(np.hstack((np.zeros(m), np.ones(m) * C)))\n",
    "A = cvxopt_matrix(y.reshape(1, -1))\n",
    "b = cvxopt_matrix(np.zeros(1))\n",
    "\n",
    "#Run solver\n",
    "sol = cvxopt_solvers.qp(P, q, G, h, A, b)\n",
    "alphas = np.array(sol['x'])"
   ]
  },
  {
   "cell_type": "code",
   "execution_count": 62,
   "metadata": {},
   "outputs": [
    {
     "data": {
      "text/plain": [
       "array([[9.99999978e+02],\n",
       "       [9.99999992e+02],\n",
       "       [8.64033856e+02],\n",
       "       ...,\n",
       "       [9.99999984e+02],\n",
       "       [2.67605844e-04],\n",
       "       [5.67827972e+02]])"
      ]
     },
     "execution_count": 62,
     "metadata": {},
     "output_type": "execute_result"
    }
   ],
   "source": [
    "alphas"
   ]
  },
  {
   "cell_type": "code",
   "execution_count": 63,
   "metadata": {},
   "outputs": [
    {
     "name": "stdout",
     "output_type": "stream",
     "text": [
      "Alphas =  [9.99999978e+02 9.99999992e+02 8.64033856e+02 ... 9.99999984e+02\n",
      " 2.67605844e-04 5.67827972e+02]\n",
      "w =  [ 0.1789689   0.          0.          0.         -0.30547843  0.\n",
      "  0.          0.         -0.08670778  0.          0.          0.\n",
      "  0.25340713  0.          0.          0.          0.         -0.05515321\n",
      "  0.          0.          0.          0.39479116  0.          0.\n",
      "  0.          0.26684926  0.          0.          0.         -0.64667703\n",
      " -0.09886135  0.          0.          0.         -0.53433376  0.\n",
      "  0.          0.         -0.71427683  0.          0.          0.\n",
      "  0.69136895  0.          0.          0.          0.          0.06539682\n",
      "  0.          0.          0.          0.09253223  0.          0.\n",
      "  0.          0.19818444  0.          0.          0.          0.2999895 ]\n",
      "b =  [1.06356673]\n"
     ]
    }
   ],
   "source": [
    "w = ((y * alphas).T @ X).reshape(-1,1)\n",
    "S = (alphas > 1e-4).flatten()\n",
    "b = y[S] - np.dot(X[S], w)\n",
    "\n",
    "#Display results\n",
    "print('Alphas = ',alphas[alphas > 1e-4])\n",
    "print('w = ', w.flatten())\n",
    "print('b = ', b[0])"
   ]
  },
  {
   "cell_type": "code",
   "execution_count": 64,
   "metadata": {},
   "outputs": [
    {
     "data": {
      "text/plain": [
       "(60, 1)"
      ]
     },
     "execution_count": 64,
     "metadata": {},
     "output_type": "execute_result"
    }
   ],
   "source": [
    "w.shape"
   ]
  },
  {
   "cell_type": "code",
   "execution_count": 65,
   "metadata": {},
   "outputs": [
    {
     "data": {
      "text/plain": [
       "(3197, 60)"
      ]
     },
     "execution_count": 65,
     "metadata": {},
     "output_type": "execute_result"
    }
   ],
   "source": [
    "X.shape"
   ]
  },
  {
   "cell_type": "code",
   "execution_count": 66,
   "metadata": {},
   "outputs": [],
   "source": [
    "svm = np.matmul(X, w) + b[0]"
   ]
  },
  {
   "cell_type": "code",
   "execution_count": 67,
   "metadata": {},
   "outputs": [],
   "source": [
    "y_predic = np.where(svm > 0, 1, -1).flatten()"
   ]
  },
  {
   "cell_type": "code",
   "execution_count": 68,
   "metadata": {},
   "outputs": [
    {
     "data": {
      "text/plain": [
       "array([1, 1, 1, ..., 1, 1, 1])"
      ]
     },
     "execution_count": 68,
     "metadata": {},
     "output_type": "execute_result"
    }
   ],
   "source": [
    "y_predic"
   ]
  },
  {
   "cell_type": "code",
   "execution_count": 69,
   "metadata": {},
   "outputs": [
    {
     "name": "stdout",
     "output_type": "stream",
     "text": [
      "              precision    recall  f1-score   support\n",
      "\n",
      "          -1       0.00      0.00      0.00      1598\n",
      "           1       0.50      1.00      0.67      1599\n",
      "\n",
      "    accuracy                           0.50      3197\n",
      "   macro avg       0.25      0.50      0.33      3197\n",
      "weighted avg       0.25      0.50      0.33      3197\n",
      "\n"
     ]
    },
    {
     "name": "stderr",
     "output_type": "stream",
     "text": [
      "/Library/Frameworks/Python.framework/Versions/3.8/lib/python3.8/site-packages/sklearn/metrics/_classification.py:1344: UndefinedMetricWarning: Precision and F-score are ill-defined and being set to 0.0 in labels with no predicted samples. Use `zero_division` parameter to control this behavior.\n",
      "  _warn_prf(average, modifier, msg_start, len(result))\n",
      "/Library/Frameworks/Python.framework/Versions/3.8/lib/python3.8/site-packages/sklearn/metrics/_classification.py:1344: UndefinedMetricWarning: Precision and F-score are ill-defined and being set to 0.0 in labels with no predicted samples. Use `zero_division` parameter to control this behavior.\n",
      "  _warn_prf(average, modifier, msg_start, len(result))\n",
      "/Library/Frameworks/Python.framework/Versions/3.8/lib/python3.8/site-packages/sklearn/metrics/_classification.py:1344: UndefinedMetricWarning: Precision and F-score are ill-defined and being set to 0.0 in labels with no predicted samples. Use `zero_division` parameter to control this behavior.\n",
      "  _warn_prf(average, modifier, msg_start, len(result))\n"
     ]
    }
   ],
   "source": [
    "print(classification_report(y_pred=y_predic, y_true=y, labels=[-1,1]))"
   ]
  },
  {
   "cell_type": "code",
   "execution_count": null,
   "metadata": {},
   "outputs": [],
   "source": []
  }
 ],
 "metadata": {
  "colab": {
   "provenance": []
  },
  "kernelspec": {
   "display_name": "Python 3 (ipykernel)",
   "language": "python",
   "name": "python3"
  },
  "language_info": {
   "codemirror_mode": {
    "name": "ipython",
    "version": 3
   },
   "file_extension": ".py",
   "mimetype": "text/x-python",
   "name": "python",
   "nbconvert_exporter": "python",
   "pygments_lexer": "ipython3",
   "version": "3.8.0"
  }
 },
 "nbformat": 4,
 "nbformat_minor": 4
}
