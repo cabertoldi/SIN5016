{
 "cells": [
  {
   "cell_type": "markdown",
   "id": "dc534a97-ca40-470f-a93a-7b76cebbef39",
   "metadata": {},
   "source": [
    "# Teste de arquitetura de ConvNet com múltiplas entradas em Pytorch"
   ]
  },
  {
   "cell_type": "code",
   "execution_count": 1,
   "id": "cf1c582b-dd0f-46b6-85a6-98246923a969",
   "metadata": {},
   "outputs": [
    {
     "name": "stderr",
     "output_type": "stream",
     "text": [
      "/home/itsmeale/code/face-verification/venv/lib/python3.10/site-packages/tqdm/auto.py:22: TqdmWarning: IProgress not found. Please update jupyter and ipywidgets. See https://ipywidgets.readthedocs.io/en/stable/user_install.html\n",
      "  from .autonotebook import tqdm as notebook_tqdm\n"
     ]
    }
   ],
   "source": [
    "import pandas as pd\n",
    "\n",
    "from torch.utils.data import Dataset, DataLoader\n",
    "import torchvision as tvis\n",
    "from torch import nn\n",
    "import torch\n",
    "\n",
    "from loguru import logger"
   ]
  },
  {
   "cell_type": "code",
   "execution_count": 19,
   "id": "0ac6f78c-8899-4b65-98de-b6bda6cd1424",
   "metadata": {},
   "outputs": [],
   "source": [
    "DEVICE = \"cuda\" if torch.cuda.is_available() else \"cpu\""
   ]
  },
  {
   "cell_type": "code",
   "execution_count": 2,
   "id": "e86c6db8-7f4d-4b7c-a901-bc493dd830bd",
   "metadata": {},
   "outputs": [],
   "source": [
    "BAD_IMAGES = [\n",
    "    'Abdullah_al-Attiyah_0001.jpg',\n",
    "    'Dereck_Whittenburg_0001.jpg',\n",
    "    'Lawrence_Foley_0001.jpg'\n",
    "]"
   ]
  },
  {
   "cell_type": "code",
   "execution_count": 23,
   "id": "2823cedb-6a09-4b60-a6ad-1945ab4098fe",
   "metadata": {},
   "outputs": [],
   "source": [
    "class LFWDataset(Dataset):\n",
    "    \n",
    "    def __init__(self, path: str, preprocessed_prefix: str):\n",
    "        self.data = list()\n",
    "        self.path = path\n",
    "        self.preprocessed_prefix = preprocessed_prefix\n",
    "        self.load_df()\n",
    "        self.load_images()\n",
    "\n",
    "    def __len__(self):\n",
    "        return len(self.data)\n",
    "    \n",
    "    def __getitem__(self, idx):\n",
    "        # returns x1, x2, y\n",
    "        return self.data[idx]\n",
    "\n",
    "    def filter_bad_images(self, df):\n",
    "        return df[\n",
    "            ~df.img1_full_id.isin(BAD_IMAGES) &\n",
    "            ~df.img2_full_id.isin(BAD_IMAGES)\n",
    "        ] \n",
    "    \n",
    "    def load_df(self):\n",
    "        logger.info(\"Loading pairs dataframe\")\n",
    "        df = pd.read_parquet(self.path).pipe(self.filter_bad_images)\n",
    "        df[\"prepro_img1\"] = df.img1_full_id.apply(lambda s: f\"{self.preprocessed_prefix}/{s}\")\n",
    "        df[\"prepro_img2\"] = df.img2_full_id.apply(lambda s: f\"{self.preprocessed_prefix}/{s}\")\n",
    "        self.data_tuples = df[[\"prepro_img1\", \"prepro_img2\", \"match\"]].values.copy()\n",
    "        del df\n",
    "    \n",
    "    def load_images(self):\n",
    "        logger.info(\"Loading images\")\n",
    "        for im1_path, im2_path, match in self.data_tuples:\n",
    "            im1 = tvis.io.read_image(im1_path).float().to(DEVICE)\n",
    "            im2 = tvis.io.read_image(im2_path).float().to(DEVICE)\n",
    "            self.data.append((im1, im2, torch.as_tensor(match).float().to(DEVICE)))"
   ]
  },
  {
   "cell_type": "code",
   "execution_count": 24,
   "id": "d7cad903-dba1-4d49-8e88-b752d26a2f0f",
   "metadata": {},
   "outputs": [],
   "source": [
    "class ConvNet(nn.Module):\n",
    "    \n",
    "    def __init__(self):\n",
    "        super(ConvNet, self).__init__()\n",
    "        self.conv1 = nn.Conv2d(\n",
    "            in_channels=3,\n",
    "            out_channels=1,\n",
    "            kernel_size=5\n",
    "        )\n",
    "        self.pool1 = nn.AvgPool2d(10)\n",
    "        self.fc = nn.Linear(\n",
    "            in_features=196*2,\n",
    "            out_features=1,\n",
    "        )\n",
    "        \n",
    "        self.relu = nn.ReLU()\n",
    "        self.softmax = nn.Softmax(dim=0)\n",
    "    \n",
    "    def make_conv(self, x):\n",
    "        x = self.conv1(x)\n",
    "        x = self.relu(x)\n",
    "        x = self.pool1(x)\n",
    "        return torch.flatten(x, 1)\n",
    "    \n",
    "    def forward(self, x1, x2):\n",
    "        x1 = self.make_conv(x1)\n",
    "        x2 = self.make_conv(x2)\n",
    "        x = torch.concat([x1, x2], dim=1)\n",
    "        x = self.fc(x)\n",
    "        y = self.softmax(x)\n",
    "        return y"
   ]
  },
  {
   "cell_type": "code",
   "execution_count": 36,
   "id": "d01f0880-4b82-434e-b14c-0d63f12eb826",
   "metadata": {},
   "outputs": [],
   "source": [
    "def train_loop(loader, model, loss_fn, optimizer):\n",
    "    size = len(loader.dataset)\n",
    "    for batch, (x1, x2, y) in enumerate(loader):\n",
    "        pred = model.forward(x1, x2)\n",
    "        loss = loss_fn(pred, y.unsqueeze(1))\n",
    "        \n",
    "        optimizer.zero_grad()\n",
    "        loss.backward()\n",
    "        optimizer.step()\n",
    "        \n",
    "    return loss"
   ]
  },
  {
   "cell_type": "code",
   "execution_count": 34,
   "id": "061dc112-bcb1-423c-a703-994af2954e9a",
   "metadata": {},
   "outputs": [
    {
     "name": "stderr",
     "output_type": "stream",
     "text": [
      "2022-12-28 19:39:14.766 | INFO     | __main__:load_df:24 - Loading pairs dataframe\n",
      "2022-12-28 19:39:14.784 | INFO     | __main__:load_images:32 - Loading images\n"
     ]
    }
   ],
   "source": [
    "dataset = LFWDataset(\n",
    "    path=\"../data/interim/pairs.parquet\",\n",
    "    preprocessed_prefix=\"../data/preprocessed/images\"\n",
    ")\n",
    "loader = DataLoader(dataset, batch_size=64, shuffle=True)\n",
    "model = ConvNet()\n",
    "loss_fn = nn.BCELoss()\n",
    "optimizer = torch.optim.SGD(model.parameters(), lr=1e-3)\n",
    "epochs = 10"
   ]
  },
  {
   "cell_type": "code",
   "execution_count": 35,
   "id": "fb8f2b87-1b41-42ae-8719-d43ad571447a",
   "metadata": {},
   "outputs": [],
   "source": [
    "model = model.to(DEVICE)"
   ]
  },
  {
   "cell_type": "code",
   "execution_count": 37,
   "id": "9a9a0302-f9f9-497e-ad99-bdd98924e6cd",
   "metadata": {},
   "outputs": [
    {
     "name": "stdout",
     "output_type": "stream",
     "text": [
      "epoch 0 - loss: 1.899425\n",
      "epoch 1 - loss: 2.362541\n",
      "epoch 2 - loss: 2.433667\n",
      "epoch 3 - loss: 2.496488\n",
      "epoch 4 - loss: 1.897906\n",
      "epoch 5 - loss: 2.435255\n",
      "epoch 6 - loss: 1.962169\n",
      "epoch 7 - loss: 1.898244\n",
      "epoch 8 - loss: 1.493037\n",
      "epoch 9 - loss: 1.699473\n"
     ]
    }
   ],
   "source": [
    "for epoch in range(epochs):\n",
    "    loss = train_loop(loader, model, loss_fn, optimizer)\n",
    "    print(f\"epoch {epoch} - loss: {loss:>7f}\")"
   ]
  }
 ],
 "metadata": {
  "kernelspec": {
   "display_name": "Python 3 (ipykernel)",
   "language": "python",
   "name": "python3"
  },
  "language_info": {
   "codemirror_mode": {
    "name": "ipython",
    "version": 3
   },
   "file_extension": ".py",
   "mimetype": "text/x-python",
   "name": "python",
   "nbconvert_exporter": "python",
   "pygments_lexer": "ipython3",
   "version": "3.10.6"
  }
 },
 "nbformat": 4,
 "nbformat_minor": 5
}
