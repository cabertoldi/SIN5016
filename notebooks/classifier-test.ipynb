{
 "cells": [
  {
   "cell_type": "code",
   "execution_count": 410,
   "id": "81e69b9e-a7e7-4d8f-aa1a-78a607c02410",
   "metadata": {},
   "outputs": [],
   "source": [
    "import pandas as pd\n",
    "import numpy as np"
   ]
  },
  {
   "cell_type": "code",
   "execution_count": 462,
   "id": "27f2c385-515d-45d8-9024-11c4400348c9",
   "metadata": {},
   "outputs": [],
   "source": [
    "df = pd.read_parquet(\"../data/preprocessed/feature_matrix_lbp.parquet\").dropna()"
   ]
  },
  {
   "cell_type": "code",
   "execution_count": 463,
   "id": "2bf73049-dc12-49b9-ac5d-c381c929908d",
   "metadata": {},
   "outputs": [],
   "source": [
    "X, y = df.values[:, :-1], df.values[:, -1]"
   ]
  },
  {
   "cell_type": "code",
   "execution_count": 464,
   "id": "d4cd7979-9457-4559-b902-f69640d3c296",
   "metadata": {},
   "outputs": [],
   "source": [
    "y = np.array(y, dtype=np.float64)"
   ]
  },
  {
   "cell_type": "code",
   "execution_count": 465,
   "id": "27d6ffd9-2ebb-48e8-b983-a8eda7eecf03",
   "metadata": {},
   "outputs": [
    {
     "data": {
      "text/plain": [
       "(3194, 60)"
      ]
     },
     "execution_count": 465,
     "metadata": {},
     "output_type": "execute_result"
    }
   ],
   "source": [
    "X.shape"
   ]
  },
  {
   "cell_type": "code",
   "execution_count": 466,
   "id": "eb8ee40c-2650-4ce5-a81d-424c148b4c6d",
   "metadata": {},
   "outputs": [],
   "source": [
    "from sklearn.model_selection import cross_val_score\n",
    "from sklearn.ensemble import RandomForestClassifier\n",
    "from sklearn.neural_network import MLPClassifier\n",
    "from sklearn.preprocessing import StandardScaler\n",
    "from sklearn.decomposition import PCA\n",
    "from sklearn.pipeline import Pipeline"
   ]
  },
  {
   "cell_type": "code",
   "execution_count": 467,
   "id": "ae6ac037-d1d6-4ddd-be3a-96405cf37ce7",
   "metadata": {},
   "outputs": [],
   "source": [
    "est = Pipeline(steps=[\n",
    "    (\"scaling\", StandardScaler()),\n",
    "    (\"clf\", MLPClassifier(hidden_layer_sizes=(10,), max_iter=1000)),\n",
    "])"
   ]
  },
  {
   "cell_type": "code",
   "execution_count": 468,
   "id": "0e58b84c-5306-427d-bbde-d2bf4b74b6e0",
   "metadata": {},
   "outputs": [],
   "source": [
    "results = cross_val_score(est, X, y, cv=10)"
   ]
  },
  {
   "cell_type": "code",
   "execution_count": 469,
   "id": "e094a12c-e9b7-4199-bde4-ed047fe00c63",
   "metadata": {},
   "outputs": [
    {
     "data": {
      "text/plain": [
       "array([0.665625  , 0.63125   , 0.58125   , 0.59375   , 0.62068966,\n",
       "       0.60815047, 0.5862069 , 0.57680251, 0.57366771, 0.62382445])"
      ]
     },
     "execution_count": 469,
     "metadata": {},
     "output_type": "execute_result"
    }
   ],
   "source": [
    "results"
   ]
  },
  {
   "cell_type": "code",
   "execution_count": 470,
   "id": "c8577b09-3b27-4e3d-a286-91fc68a2fd20",
   "metadata": {},
   "outputs": [
    {
     "data": {
      "text/plain": [
       "0.6061216692789968"
      ]
     },
     "execution_count": 470,
     "metadata": {},
     "output_type": "execute_result"
    }
   ],
   "source": [
    "np.mean(results)"
   ]
  },
  {
   "cell_type": "code",
   "execution_count": 471,
   "id": "c0e14562-83d1-458f-977f-25ccd519fad0",
   "metadata": {},
   "outputs": [
    {
     "data": {
      "text/plain": [
       "0.027897919306268188"
      ]
     },
     "execution_count": 471,
     "metadata": {},
     "output_type": "execute_result"
    }
   ],
   "source": [
    "np.std(results)"
   ]
  },
  {
   "cell_type": "markdown",
   "id": "8a48e9cd-2a7b-416c-b113-e5b2df7d1a9d",
   "metadata": {},
   "source": [
    "---"
   ]
  },
  {
   "cell_type": "code",
   "execution_count": 371,
   "id": "4644e8f2-2962-4de5-8757-90b8146908bb",
   "metadata": {},
   "outputs": [],
   "source": [
    "from sklearn.datasets import fetch_lfw_pairs"
   ]
  },
  {
   "cell_type": "code",
   "execution_count": 372,
   "id": "f504d6d8-d0f1-4193-88aa-960a5db0bb0b",
   "metadata": {},
   "outputs": [],
   "source": [
    "# pode demorar um pouco\n",
    "d = fetch_lfw_pairs(funneled=False, resize=.5)"
   ]
  },
  {
   "cell_type": "code",
   "execution_count": 373,
   "id": "bfa99c7e-12f2-4953-a43d-ada90c04086a",
   "metadata": {},
   "outputs": [],
   "source": [
    "X = d[\"data\"]\n",
    "y = d[\"target\"]"
   ]
  },
  {
   "cell_type": "code",
   "execution_count": 374,
   "id": "aed23537-5b33-4657-ae1e-4e89fed51098",
   "metadata": {},
   "outputs": [
    {
     "data": {
      "text/plain": [
       "(2200, 5828)"
      ]
     },
     "execution_count": 374,
     "metadata": {},
     "output_type": "execute_result"
    }
   ],
   "source": [
    "X.shape"
   ]
  },
  {
   "cell_type": "code",
   "execution_count": 375,
   "id": "4be23405-53f7-45e6-80be-aa6d0ea85ad9",
   "metadata": {},
   "outputs": [],
   "source": [
    "est = Pipeline(steps=[\n",
    "    # (\"scaling\", StandardScaler()),\n",
    "    (\"clf\", MLPClassifier(hidden_layer_sizes=(10,), max_iter=1000)),\n",
    "])"
   ]
  },
  {
   "cell_type": "code",
   "execution_count": 376,
   "id": "772562a4-b178-40b6-99af-c8872aad3301",
   "metadata": {},
   "outputs": [],
   "source": [
    "results = cross_val_score(est, X, y, cv=5)"
   ]
  },
  {
   "cell_type": "code",
   "execution_count": 377,
   "id": "a178fa4e-ef2b-4cac-a8ce-773c342451cf",
   "metadata": {},
   "outputs": [
    {
     "data": {
      "text/plain": [
       "array([0.5       , 0.50227273, 0.56363636, 0.54545455, 0.5       ])"
      ]
     },
     "execution_count": 377,
     "metadata": {},
     "output_type": "execute_result"
    }
   ],
   "source": [
    "results"
   ]
  },
  {
   "cell_type": "code",
   "execution_count": 378,
   "id": "3f7db7c2-17bf-4e03-aab3-35b538d09cf6",
   "metadata": {},
   "outputs": [
    {
     "data": {
      "text/plain": [
       "0.5222727272727272"
      ]
     },
     "execution_count": 378,
     "metadata": {},
     "output_type": "execute_result"
    }
   ],
   "source": [
    "np.mean(results)"
   ]
  },
  {
   "cell_type": "code",
   "execution_count": 379,
   "id": "5b899f0c-15d8-40eb-a032-3fc25c69d9ba",
   "metadata": {},
   "outputs": [
    {
     "data": {
      "text/plain": [
       "0.026983312872101484"
      ]
     },
     "execution_count": 379,
     "metadata": {},
     "output_type": "execute_result"
    }
   ],
   "source": [
    "np.std(results)"
   ]
  }
 ],
 "metadata": {
  "kernelspec": {
   "display_name": "Python 3 (ipykernel)",
   "language": "python",
   "name": "python3"
  },
  "language_info": {
   "codemirror_mode": {
    "name": "ipython",
    "version": 3
   },
   "file_extension": ".py",
   "mimetype": "text/x-python",
   "name": "python",
   "nbconvert_exporter": "python",
   "pygments_lexer": "ipython3",
   "version": "3.10.6"
  }
 },
 "nbformat": 4,
 "nbformat_minor": 5
}
